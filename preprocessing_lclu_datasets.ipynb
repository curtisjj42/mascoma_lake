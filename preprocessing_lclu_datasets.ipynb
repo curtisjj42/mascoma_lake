{
 "cells": [
  {
   "cell_type": "code",
   "execution_count": 1,
   "id": "initial_id",
   "metadata": {
    "collapsed": true,
    "ExecuteTime": {
     "end_time": "2024-12-02T13:57:23.529265100Z",
     "start_time": "2024-12-02T13:55:13.382837900Z"
    }
   },
   "outputs": [],
   "source": [
    "import geopandas as gpd\n",
    "\n",
    "lc_1962_strafford = gpd.read_file('Data/lclu-nh/Land_Use_1962_-_Strafford_County%2C_NH.geojson')\n",
    "lc_1962_rockingham = gpd.read_file('Data/lclu-nh/Land_Use_1962_-_Rockingham_County%2C_NH.geojson')\n",
    "\n",
    "lc_1974_strafford = gpd.read_file('Data/lclu-nh/Land_Use_1974_-_Strafford_County%2C_NH.geojson')\n",
    "lc_1974_rockingham = gpd.read_file('Data/lclu-nh/Land_Use_1974_-_Rockingham_County%2C_NH.geojson')\n",
    "\n",
    "lc_1998_strafford = gpd.read_file('Data/lclu-nh/Land_Use_1998_-_Strafford_County%2C_NH.geojson')\n",
    "lc_1998_rockingham = gpd.read_file('Data/lclu-nh/Land_Use_1998_-_Rockingham_County%2C_NH.geojson')\n",
    "\n",
    "lc_2015 = gpd.read_file('Data/lclu-nh/Land_Use_2015_-_Southeastern_New_Hampshire (1).geojson')\n",
    "imp_2021 = gpd.read_file('Data/lclu-nh/Impervious_Surfaces_in_the_Coastal_Watershed_of_NH_and_Maine%2C_High_Resolution_-_2021.geojson')"
   ]
  },
  {
   "cell_type": "code",
   "outputs": [],
   "source": [
    "# Define the mapping dictionary\n",
    "lu_mapping = {\n",
    "    11: 'Residential',\n",
    "    12: 'Industrial/commercial',\n",
    "    13: 'Mixed urban',\n",
    "    14: 'Transportation/roads',\n",
    "    15: 'Railroads',\n",
    "    16: 'Auxiliary transportation',\n",
    "    17: 'Playing fields/recreational',\n",
    "    20: 'Agriculture',\n",
    "    24: 'Farmsteads',\n",
    "    40: 'Forested',\n",
    "    50: 'Water',\n",
    "    60: 'Open wetlands',\n",
    "    70: 'Idle/other open'\n",
    "}\n",
    "\n",
    "# Add a new column for descriptive classifications\n",
    "for gdf in [lc_1962_strafford, lc_1962_rockingham, lc_1974_strafford, lc_1974_rockingham, lc_1998_strafford, lc_1998_rockingham]:\n",
    "    gdf['Land_Use_Desc'] = gdf['LU'].map(lu_mapping)\n"
   ],
   "metadata": {
    "collapsed": false,
    "ExecuteTime": {
     "end_time": "2024-12-02T13:57:23.541889500Z",
     "start_time": "2024-12-02T13:57:23.531774300Z"
    }
   },
   "id": "b08b604322171180",
   "execution_count": 2
  },
  {
   "cell_type": "code",
   "outputs": [],
   "source": [
    "# Define the revised mapping for broader classifications\n",
    "classification_mapping = {\n",
    "    11: 'Impervious Surfaces',\n",
    "    12: 'Nutrient Sources',\n",
    "    13: 'Impervious Surfaces',\n",
    "    14: 'Impervious Surfaces',\n",
    "    15: 'Impervious Surfaces',\n",
    "    16: 'Impervious Surfaces',\n",
    "    17: 'Impervious Surfaces',\n",
    "    20: 'Nutrient Sources',\n",
    "    24: 'Nutrient Sources',\n",
    "    40: 'Forested/Wetlands',\n",
    "    50: 'Other',\n",
    "    60: 'Forested/Wetlands',\n",
    "    70: 'Other'\n",
    "}\n",
    "\n",
    "# Add the updated classification column\n",
    "for gdf in [lc_1962_strafford, lc_1962_rockingham, lc_1974_strafford, lc_1974_rockingham, lc_1998_strafford, lc_1998_rockingham]:\n",
    "    gdf['Broad_Class'] = gdf['LU'].map(classification_mapping)\n"
   ],
   "metadata": {
    "collapsed": false,
    "ExecuteTime": {
     "end_time": "2024-12-02T13:57:23.554432300Z",
     "start_time": "2024-12-02T13:57:23.536385600Z"
    }
   },
   "id": "57e17f157165b994",
   "execution_count": 3
  },
  {
   "cell_type": "code",
   "outputs": [],
   "source": [
    "# Update mapping dictionary\n",
    "lu4_mapping = {\n",
    "    'Multi-family, low rise apartments and townhouses, but not duplexes (1 - 3 stories)': 'Impervious Surfaces',\n",
    "    'Single family/duplex': 'Impervious Surfaces',\n",
    "    'Mobile home parks': 'Impervious Surfaces',\n",
    "    'Commercial retail': 'Impervious Surfaces',\n",
    "    'Services': 'Impervious Surfaces',\n",
    "    'Park & ride lot': 'Impervious Surfaces',\n",
    "    'Office park': 'Impervious Surfaces',\n",
    "    'Parking structure/lot': 'Impervious Surfaces',\n",
    "    'Rail transportation': 'Impervious Surfaces',\n",
    "    'Road right-of-way': 'Impervious Surfaces',\n",
    "    'Limited & controlled highway right-of-way': 'Impervious Surfaces',\n",
    "    'Other road transportation': 'Impervious Surfaces',\n",
    "    'Lodging': 'Impervious Surfaces',\n",
    "    'Shopping mall': 'Impervious Surfaces',\n",
    "    'Air transportation': 'Impervious Surfaces',\n",
    "    'Other outdoor and other urban or built-up land': 'Impervious Surfaces',\n",
    "    'Industrial park': 'Impervious Surfaces',\n",
    "    'Auxiliary transportation': 'Impervious Surfaces',\n",
    "    'Agricultural Land': 'Nutrient Sources',\n",
    "    'Other Agricultural Land': 'Nutrient Sources',\n",
    "    'Industrial': 'Nutrient Sources',\n",
    "    'Other industrial complexes': 'Nutrient Sources',\n",
    "    'Wastewater utilities': 'Nutrient Sources',\n",
    "    'Solid waste utilities': 'Nutrient Sources',\n",
    "    'Forest Land': 'Forested/Wetlands',\n",
    "    'Wetlands': 'Forested/Wetlands',\n",
    "    'Brush or Transitional Between Open and Forested': 'Forested/Wetlands',\n",
    "    'Disturbed Land': 'Other',\n",
    "    'Maintained Open Areas': 'Other',\n",
    "    'Water': 'Other',\n",
    "    'Other Barren Lands': 'Other',\n",
    "    'Cemeteries': 'Other',\n",
    "    'Bare/Exposed Rock': 'Other',\n",
    "    'Sandy Areas (non-beaches)': 'Other',\n",
    "    'Beaches and River Banks': 'Other',\n",
    "    'Outdoor recreation': 'Other',\n",
    "    'Outdoor public assembly': 'Other',\n",
    "    'Indoor cultural/public assembly': 'Other',\n",
    "    'Outdoor cultural': 'Other',\n",
    "    'Communication': 'Other',\n",
    "    'Electric, gas and other utilities': 'Other',\n",
    "    'Government': 'Other',\n",
    "    'Mining': 'Nutrient Sources',\n",
    "    'Strip Mine/Quarry or Gravel Pit': 'Nutrient Sources',\n",
    "    'Institutional': 'Other',\n",
    "    'Educational': 'Other',\n",
    "    'Vacant Land': 'Other',\n",
    "    'Group and transient quarters': 'Other',\n",
    "    'Other residential': 'Other',\n",
    "    'Multiple stories, residential in upper stories only': 'Impervious Surfaces',\n",
    "    'Multi-family, medium to high rise apartments and condominiums (4 or more stories)': 'Impervious Surfaces',\n",
    "    'Other mixed uses': 'Other',\n",
    "    'Other commercial complexes': 'Impervious surfaces',\n",
    "    'Other commercial, services, and institutional': 'Impervious Surfaces',\n",
    "    'Other transportation, communications, and utilities': 'Impervious Surfaces',\n",
    "    'Water and wastewater utilities': 'Nutrient Sources',\n",
    "    'Commercial wholesale': 'Impervious Surfaces',\n",
    "    'Water transportation': 'Other'\n",
    "}\n",
    "\n",
    "lc_2015['Broad_Class'] = lc_2015['LU4_Desc'].map(lu4_mapping)"
   ],
   "metadata": {
    "collapsed": false,
    "ExecuteTime": {
     "end_time": "2024-12-02T13:57:23.554432300Z",
     "start_time": "2024-12-02T13:57:23.544406300Z"
    }
   },
   "id": "bf5fb7dc7646a69b",
   "execution_count": 4
  },
  {
   "cell_type": "code",
   "outputs": [],
   "source": [
    "lc_1962_strafford.drop(columns=['LU62017_', 'LU62017_ID', 'FID'], inplace=True)\n",
    "lc_1974_strafford.drop(columns=['LU74017_', 'LU74017_ID', 'FID'], inplace=True)\n",
    "lc_1998_strafford.drop(columns=['LU98017_', 'LU98017_ID', 'FID'], inplace=True)\n",
    "\n",
    "lc_1962_rockingham.drop(columns=['LU62015_', 'LU62015_ID', 'FID'], inplace=True)\n",
    "lc_1974_rockingham.drop(columns=['LU74015_', 'LU74015_ID', 'FID'], inplace=True)\n",
    "lc_1998_rockingham.drop(columns=['LU98015_', 'LU98015_ID', 'FID'], inplace=True)\n",
    "\n",
    "lc_2015.drop(columns=['FID','FIPS', 'RPA'], inplace=True)\n",
    "imp_2021.drop(columns=['FID', 'Shape_Leng'], inplace=True)"
   ],
   "metadata": {
    "collapsed": false,
    "ExecuteTime": {
     "end_time": "2024-12-02T13:57:23.583475400Z",
     "start_time": "2024-12-02T13:57:23.553432600Z"
    }
   },
   "id": "71b55362d0574294",
   "execution_count": 5
  },
  {
   "cell_type": "code",
   "outputs": [],
   "source": [
    "import pandas as pd\n",
    "\n",
    "lc_1962_strafford['Year'] = 1962\n",
    "lc_1974_strafford['Year'] = 1974\n",
    "lc_1998_strafford['Year'] = 1998\n",
    "\n",
    "lc_1962_rockingham['Year'] = 1962\n",
    "lc_1974_rockingham['Year'] = 1974\n",
    "lc_1998_rockingham['Year'] = 1998\n",
    "\n",
    "strafford_combined = pd.concat([lc_1962_strafford, lc_1974_strafford, lc_1998_strafford], ignore_index=True)\n",
    "rockingham_combined = pd.concat([lc_1962_rockingham, lc_1974_strafford, lc_1998_rockingham], ignore_index=True)"
   ],
   "metadata": {
    "collapsed": false,
    "ExecuteTime": {
     "end_time": "2024-12-02T14:06:55.127295800Z",
     "start_time": "2024-12-02T14:06:55.109759Z"
    }
   },
   "id": "7051eff069a4cb1c",
   "execution_count": 13
  },
  {
   "cell_type": "code",
   "outputs": [],
   "source": [
    "strafford_combined.to_file(\"Data/lclu-nh/strafford_combined.geojson\", driver=\"GeoJSON\")\n",
    "rockingham_combined.to_file(\"Data/lclu-nh/rockingham_combined.geojson\", driver=\"GeoJSON\")"
   ],
   "metadata": {
    "collapsed": false,
    "ExecuteTime": {
     "end_time": "2024-12-02T14:08:03.298387500Z",
     "start_time": "2024-12-02T14:07:39.431278100Z"
    }
   },
   "id": "726b5c4b4f0248a4",
   "execution_count": 15
  },
  {
   "cell_type": "code",
   "outputs": [],
   "source": [
    "def calculate_land_cover_change(gdf, county_name):\n",
    "    # Ensure the relevant columns exist\n",
    "    if \"Broad_Class\" not in gdf.columns:\n",
    "        raise ValueError(\"Broad_Class column is missing.\")\n",
    "    \n",
    "    # Filter for impervious surfaces and wetlands\n",
    "    impervious = gdf[gdf[\"Broad_Class\"] == \"Impervious Surface\"]\n",
    "    wetlands = gdf[gdf[\"Land_Use_Desc\"] == \"Open wetlands\"]\n",
    "    \n",
    "    # Group by year and calculate total area\n",
    "    impervious_area = impervious.groupby(\"Year\")[\"AREA\"].sum()\n",
    "    wetlands_area = wetlands.groupby(\"Year\")[\"AREA\"].sum()\n",
    "    \n",
    "    # Combine into a DataFrame\n",
    "    time_series = pd.DataFrame({\n",
    "        \"Year\": impervious_area.index,\n",
    "        \"Impervious_Surface_Area\": impervious_area.values,\n",
    "        \"Wetlands_Area\": wetlands_area.values,\n",
    "        \"County\": county_name\n",
    "    })\n",
    "    \n",
    "    # Calculate changes between years\n",
    "    time_series[\"Change_in_Impervious_Surface\"] = time_series[\"Impervious_Surface_Area\"].diff()\n",
    "    time_series[\"Change_in_Wetlands\"] = time_series[\"Wetlands_Area\"].diff()\n",
    "    \n",
    "    return time_series"
   ],
   "metadata": {
    "collapsed": false,
    "ExecuteTime": {
     "start_time": "2024-12-02T13:57:24.908080900Z"
    }
   },
   "id": "b6cf39507ef5ec40"
  },
  {
   "cell_type": "code",
   "outputs": [],
   "source": [
    "imp_2021.to_file('Data/lclu-nh/impervious_surfaces.gpkg', driver='GPKG')"
   ],
   "metadata": {
    "collapsed": false,
    "ExecuteTime": {
     "end_time": "2024-12-02T15:30:02.229447Z",
     "start_time": "2024-12-02T15:29:44.027944400Z"
    }
   },
   "id": "69f5ff914d5580fd",
   "execution_count": 16
  },
  {
   "cell_type": "code",
   "outputs": [],
   "source": [],
   "metadata": {
    "collapsed": false
   },
   "id": "b7ff7ba27acb4d14"
  }
 ],
 "metadata": {
  "kernelspec": {
   "display_name": "Python 3",
   "language": "python",
   "name": "python3"
  },
  "language_info": {
   "codemirror_mode": {
    "name": "ipython",
    "version": 2
   },
   "file_extension": ".py",
   "mimetype": "text/x-python",
   "name": "python",
   "nbconvert_exporter": "python",
   "pygments_lexer": "ipython2",
   "version": "2.7.6"
  }
 },
 "nbformat": 4,
 "nbformat_minor": 5
}
