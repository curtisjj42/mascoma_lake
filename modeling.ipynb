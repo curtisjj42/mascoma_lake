{
 "cells": [
  {
   "cell_type": "code",
   "execution_count": 1,
   "id": "initial_id",
   "metadata": {
    "collapsed": true,
    "ExecuteTime": {
     "end_time": "2024-12-02T17:31:52.931122500Z",
     "start_time": "2024-12-02T17:31:52.364904700Z"
    }
   },
   "outputs": [],
   "source": [
    "import geopandas as gpd"
   ]
  },
  {
   "cell_type": "code",
   "outputs": [
    {
     "name": "stderr",
     "output_type": "stream",
     "text": [
      "C:\\Users\\curti\\anaconda3\\Lib\\site-packages\\geopandas\\io\\file.py:399: FutureWarning: errors='ignore' is deprecated and will raise in a future version. Use to_datetime without passing `errors` and catch exceptions explicitly instead\n",
      "  as_dt = pd.to_datetime(df[k], errors=\"ignore\")\n"
     ]
    }
   ],
   "source": [
    "bloom_gdf = gpd.read_file('Data/aggregated_bloom_data_buffer_1km.gpkg')"
   ],
   "metadata": {
    "collapsed": false,
    "ExecuteTime": {
     "end_time": "2024-12-02T17:31:53.845822600Z",
     "start_time": "2024-12-02T17:31:53.506707500Z"
    }
   },
   "id": "bee2824c8d6c84c4",
   "execution_count": 2
  },
  {
   "cell_type": "code",
   "outputs": [
    {
     "data": {
      "text/plain": "    date_advisory_issued                     lake         town  \\\n0             2019-10-11  Adder Pond/Hopkins Pond      Andover   \n1             2022-10-06  Adder Pond/Hopkins Pond      Andover   \n2             2010-05-25               Angle Pond      Sandown   \n3             2021-08-25               Angle Pond      Sandown   \n4             2022-09-12               Angle Pond      Sandown   \n..                   ...                      ...          ...   \n654           2020-08-09             Winona, Lake  New Hampton   \n655           2023-07-27             Winona, Lake  New Hampton   \n656           2005-08-03                York Pond       Berlin   \n657           2008-07-30                York Pond       Berlin   \n658           2009-07-14                York Pond       Berlin   \n\n               dominant_taxa total_cell_concentration  advisory_days  \\\n0    Anabaena/Dolichospermum                3,580,000           41.0   \n1              Chrysosporum                 3,100,000           43.0   \n2                   Anabaena                  235,000            9.0   \n3                       None                     None            NaN   \n4             Dolichospermum                  138,200            7.0   \n..                       ...                      ...            ...   \n654                     None                     None            NaN   \n655           Dolichospermum                  950,000            7.0   \n656            Aphanizomenon          >70,000 or >50%           48.0   \n657            Aphanizomenon          >70,000 or >50%          124.0   \n658            Aphanizomenon                  100,000          105.0   \n\n    notification_type  year YearMonth  Shape_Length  Shape_Area  \\\n0             Warning  2019   2019-10      0.015388    0.000012   \n1             Warning  2022   2022-10      0.015388    0.000012   \n2             Warning  2010   2010-05      0.049024    0.000072   \n3               Alert  2021   2021-08      0.049024    0.000072   \n4             Warning  2022   2022-09      0.049024    0.000072   \n..                ...   ...       ...           ...         ...   \n654             Alert  2020   2020-08           NaN         NaN   \n655           Warning  2023   2023-07           NaN         NaN   \n656           Warning  2005   2005-08      0.016025    0.000010   \n657           Warning  2008   2008-07      0.016025    0.000010   \n658           Warning  2009   2009-07      0.016025    0.000010   \n\n    permanent_identifier   gnis_id  areasqkm  elevation    ATTRIBUTE  \\\n0              135993959  00865203  0.109221      196.3  L1ABH,L1UBH   \n1              135993959  00865203  0.109221      196.3  L1ABH,L1UBH   \n2              135909961  00865245  0.650459       67.1  L1UBH,L1ABH   \n3              135909961  00865245  0.650459       67.1  L1UBH,L1ABH   \n4              135909961  00865245  0.650459       67.1  L1UBH,L1ABH   \n..                   ...       ...       ...        ...          ...   \n654                 None      None       NaN        NaN        L1UBH   \n655                 None      None       NaN        NaN        L1UBH   \n656             91154789  00871018  0.087565      455.1       L2UBHh   \n657             91154789  00871018  0.087565      455.1       L2UBHh   \n658             91154789  00871018  0.087565      455.1       L2UBHh   \n\n    WETLAND_TYPE       ACRES  \\\n0           Lake   28.395538   \n1           Lake   28.395538   \n2           Lake  161.385552   \n3           Lake  161.385552   \n4           Lake  161.385552   \n..           ...         ...   \n654         Lake  109.462028   \n655         Lake  109.462028   \n656         Lake   23.055085   \n657         Lake   23.055085   \n658         Lake   23.055085   \n\n                                                NWI_ID  \\\n0    202409CSw{1ADFAE7F-219D-4F46-B4A0-77028F0E126F...   \n1    202409CSw{1ADFAE7F-219D-4F46-B4A0-77028F0E126F...   \n2    202409CSw{37230243-4B9F-4054-B052-039EC1BA33BB...   \n3    202409CSw{37230243-4B9F-4054-B052-039EC1BA33BB...   \n4    202409CSw{37230243-4B9F-4054-B052-039EC1BA33BB...   \n..                                                 ...   \n654  202409CSw{E8D14D59-7A54-4039-A53E-D19B726068EC...   \n655  202409CSw{E8D14D59-7A54-4039-A53E-D19B726068EC...   \n656  202409CSw{C1C8CD5D-99E9-48D3-A9BA-33211910441A...   \n657  202409CSw{C1C8CD5D-99E9-48D3-A9BA-33211910441A...   \n658  202409CSw{C1C8CD5D-99E9-48D3-A9BA-33211910441A...   \n\n                                              geometry  \n0    POLYGON ((-7994994.165 5380215.739, -7994994.1...  \n1    POLYGON ((-7994994.165 5380215.739, -7994994.1...  \n2    POLYGON ((-7923107.436 5297419.249, -7923104.0...  \n3    POLYGON ((-7923107.436 5297419.249, -7923104.0...  \n4    POLYGON ((-7923107.436 5297419.249, -7923104.0...  \n..                                                 ...  \n654  POLYGON ((-7966193.193 5415929.044, -7966193.1...  \n655  POLYGON ((-7966193.193 5415929.044, -7966193.1...  \n656  POLYGON ((-7942431.517 5543743.130, -7942426.0...  \n657  POLYGON ((-7942431.517 5543743.130, -7942426.0...  \n658  POLYGON ((-7942431.517 5543743.130, -7942426.0...  \n\n[659 rows x 20 columns]",
      "text/html": "<div>\n<style scoped>\n    .dataframe tbody tr th:only-of-type {\n        vertical-align: middle;\n    }\n\n    .dataframe tbody tr th {\n        vertical-align: top;\n    }\n\n    .dataframe thead th {\n        text-align: right;\n    }\n</style>\n<table border=\"1\" class=\"dataframe\">\n  <thead>\n    <tr style=\"text-align: right;\">\n      <th></th>\n      <th>date_advisory_issued</th>\n      <th>lake</th>\n      <th>town</th>\n      <th>dominant_taxa</th>\n      <th>total_cell_concentration</th>\n      <th>advisory_days</th>\n      <th>notification_type</th>\n      <th>year</th>\n      <th>YearMonth</th>\n      <th>Shape_Length</th>\n      <th>Shape_Area</th>\n      <th>permanent_identifier</th>\n      <th>gnis_id</th>\n      <th>areasqkm</th>\n      <th>elevation</th>\n      <th>ATTRIBUTE</th>\n      <th>WETLAND_TYPE</th>\n      <th>ACRES</th>\n      <th>NWI_ID</th>\n      <th>geometry</th>\n    </tr>\n  </thead>\n  <tbody>\n    <tr>\n      <th>0</th>\n      <td>2019-10-11</td>\n      <td>Adder Pond/Hopkins Pond</td>\n      <td>Andover</td>\n      <td>Anabaena/Dolichospermum</td>\n      <td>3,580,000</td>\n      <td>41.0</td>\n      <td>Warning</td>\n      <td>2019</td>\n      <td>2019-10</td>\n      <td>0.015388</td>\n      <td>0.000012</td>\n      <td>135993959</td>\n      <td>00865203</td>\n      <td>0.109221</td>\n      <td>196.3</td>\n      <td>L1ABH,L1UBH</td>\n      <td>Lake</td>\n      <td>28.395538</td>\n      <td>202409CSw{1ADFAE7F-219D-4F46-B4A0-77028F0E126F...</td>\n      <td>POLYGON ((-7994994.165 5380215.739, -7994994.1...</td>\n    </tr>\n    <tr>\n      <th>1</th>\n      <td>2022-10-06</td>\n      <td>Adder Pond/Hopkins Pond</td>\n      <td>Andover</td>\n      <td>Chrysosporum</td>\n      <td>3,100,000</td>\n      <td>43.0</td>\n      <td>Warning</td>\n      <td>2022</td>\n      <td>2022-10</td>\n      <td>0.015388</td>\n      <td>0.000012</td>\n      <td>135993959</td>\n      <td>00865203</td>\n      <td>0.109221</td>\n      <td>196.3</td>\n      <td>L1ABH,L1UBH</td>\n      <td>Lake</td>\n      <td>28.395538</td>\n      <td>202409CSw{1ADFAE7F-219D-4F46-B4A0-77028F0E126F...</td>\n      <td>POLYGON ((-7994994.165 5380215.739, -7994994.1...</td>\n    </tr>\n    <tr>\n      <th>2</th>\n      <td>2010-05-25</td>\n      <td>Angle Pond</td>\n      <td>Sandown</td>\n      <td>Anabaena</td>\n      <td>235,000</td>\n      <td>9.0</td>\n      <td>Warning</td>\n      <td>2010</td>\n      <td>2010-05</td>\n      <td>0.049024</td>\n      <td>0.000072</td>\n      <td>135909961</td>\n      <td>00865245</td>\n      <td>0.650459</td>\n      <td>67.1</td>\n      <td>L1UBH,L1ABH</td>\n      <td>Lake</td>\n      <td>161.385552</td>\n      <td>202409CSw{37230243-4B9F-4054-B052-039EC1BA33BB...</td>\n      <td>POLYGON ((-7923107.436 5297419.249, -7923104.0...</td>\n    </tr>\n    <tr>\n      <th>3</th>\n      <td>2021-08-25</td>\n      <td>Angle Pond</td>\n      <td>Sandown</td>\n      <td>None</td>\n      <td>None</td>\n      <td>NaN</td>\n      <td>Alert</td>\n      <td>2021</td>\n      <td>2021-08</td>\n      <td>0.049024</td>\n      <td>0.000072</td>\n      <td>135909961</td>\n      <td>00865245</td>\n      <td>0.650459</td>\n      <td>67.1</td>\n      <td>L1UBH,L1ABH</td>\n      <td>Lake</td>\n      <td>161.385552</td>\n      <td>202409CSw{37230243-4B9F-4054-B052-039EC1BA33BB...</td>\n      <td>POLYGON ((-7923107.436 5297419.249, -7923104.0...</td>\n    </tr>\n    <tr>\n      <th>4</th>\n      <td>2022-09-12</td>\n      <td>Angle Pond</td>\n      <td>Sandown</td>\n      <td>Dolichospermum</td>\n      <td>138,200</td>\n      <td>7.0</td>\n      <td>Warning</td>\n      <td>2022</td>\n      <td>2022-09</td>\n      <td>0.049024</td>\n      <td>0.000072</td>\n      <td>135909961</td>\n      <td>00865245</td>\n      <td>0.650459</td>\n      <td>67.1</td>\n      <td>L1UBH,L1ABH</td>\n      <td>Lake</td>\n      <td>161.385552</td>\n      <td>202409CSw{37230243-4B9F-4054-B052-039EC1BA33BB...</td>\n      <td>POLYGON ((-7923107.436 5297419.249, -7923104.0...</td>\n    </tr>\n    <tr>\n      <th>...</th>\n      <td>...</td>\n      <td>...</td>\n      <td>...</td>\n      <td>...</td>\n      <td>...</td>\n      <td>...</td>\n      <td>...</td>\n      <td>...</td>\n      <td>...</td>\n      <td>...</td>\n      <td>...</td>\n      <td>...</td>\n      <td>...</td>\n      <td>...</td>\n      <td>...</td>\n      <td>...</td>\n      <td>...</td>\n      <td>...</td>\n      <td>...</td>\n      <td>...</td>\n    </tr>\n    <tr>\n      <th>654</th>\n      <td>2020-08-09</td>\n      <td>Winona, Lake</td>\n      <td>New Hampton</td>\n      <td>None</td>\n      <td>None</td>\n      <td>NaN</td>\n      <td>Alert</td>\n      <td>2020</td>\n      <td>2020-08</td>\n      <td>NaN</td>\n      <td>NaN</td>\n      <td>None</td>\n      <td>None</td>\n      <td>NaN</td>\n      <td>NaN</td>\n      <td>L1UBH</td>\n      <td>Lake</td>\n      <td>109.462028</td>\n      <td>202409CSw{E8D14D59-7A54-4039-A53E-D19B726068EC...</td>\n      <td>POLYGON ((-7966193.193 5415929.044, -7966193.1...</td>\n    </tr>\n    <tr>\n      <th>655</th>\n      <td>2023-07-27</td>\n      <td>Winona, Lake</td>\n      <td>New Hampton</td>\n      <td>Dolichospermum</td>\n      <td>950,000</td>\n      <td>7.0</td>\n      <td>Warning</td>\n      <td>2023</td>\n      <td>2023-07</td>\n      <td>NaN</td>\n      <td>NaN</td>\n      <td>None</td>\n      <td>None</td>\n      <td>NaN</td>\n      <td>NaN</td>\n      <td>L1UBH</td>\n      <td>Lake</td>\n      <td>109.462028</td>\n      <td>202409CSw{E8D14D59-7A54-4039-A53E-D19B726068EC...</td>\n      <td>POLYGON ((-7966193.193 5415929.044, -7966193.1...</td>\n    </tr>\n    <tr>\n      <th>656</th>\n      <td>2005-08-03</td>\n      <td>York Pond</td>\n      <td>Berlin</td>\n      <td>Aphanizomenon</td>\n      <td>&gt;70,000 or &gt;50%</td>\n      <td>48.0</td>\n      <td>Warning</td>\n      <td>2005</td>\n      <td>2005-08</td>\n      <td>0.016025</td>\n      <td>0.000010</td>\n      <td>91154789</td>\n      <td>00871018</td>\n      <td>0.087565</td>\n      <td>455.1</td>\n      <td>L2UBHh</td>\n      <td>Lake</td>\n      <td>23.055085</td>\n      <td>202409CSw{C1C8CD5D-99E9-48D3-A9BA-33211910441A...</td>\n      <td>POLYGON ((-7942431.517 5543743.130, -7942426.0...</td>\n    </tr>\n    <tr>\n      <th>657</th>\n      <td>2008-07-30</td>\n      <td>York Pond</td>\n      <td>Berlin</td>\n      <td>Aphanizomenon</td>\n      <td>&gt;70,000 or &gt;50%</td>\n      <td>124.0</td>\n      <td>Warning</td>\n      <td>2008</td>\n      <td>2008-07</td>\n      <td>0.016025</td>\n      <td>0.000010</td>\n      <td>91154789</td>\n      <td>00871018</td>\n      <td>0.087565</td>\n      <td>455.1</td>\n      <td>L2UBHh</td>\n      <td>Lake</td>\n      <td>23.055085</td>\n      <td>202409CSw{C1C8CD5D-99E9-48D3-A9BA-33211910441A...</td>\n      <td>POLYGON ((-7942431.517 5543743.130, -7942426.0...</td>\n    </tr>\n    <tr>\n      <th>658</th>\n      <td>2009-07-14</td>\n      <td>York Pond</td>\n      <td>Berlin</td>\n      <td>Aphanizomenon</td>\n      <td>100,000</td>\n      <td>105.0</td>\n      <td>Warning</td>\n      <td>2009</td>\n      <td>2009-07</td>\n      <td>0.016025</td>\n      <td>0.000010</td>\n      <td>91154789</td>\n      <td>00871018</td>\n      <td>0.087565</td>\n      <td>455.1</td>\n      <td>L2UBHh</td>\n      <td>Lake</td>\n      <td>23.055085</td>\n      <td>202409CSw{C1C8CD5D-99E9-48D3-A9BA-33211910441A...</td>\n      <td>POLYGON ((-7942431.517 5543743.130, -7942426.0...</td>\n    </tr>\n  </tbody>\n</table>\n<p>659 rows × 20 columns</p>\n</div>"
     },
     "execution_count": 3,
     "metadata": {},
     "output_type": "execute_result"
    }
   ],
   "source": [
    "bloom_gdf"
   ],
   "metadata": {
    "collapsed": false,
    "ExecuteTime": {
     "end_time": "2024-12-02T17:32:03.507820700Z",
     "start_time": "2024-12-02T17:32:03.493582Z"
    }
   },
   "id": "ab1aea7d77aac9f9",
   "execution_count": 3
  },
  {
   "cell_type": "code",
   "outputs": [],
   "source": [
    "bloom_rates = bloom_gdf.groupby('lake').count()"
   ],
   "metadata": {
    "collapsed": false,
    "ExecuteTime": {
     "end_time": "2024-12-02T17:34:44.436996700Z",
     "start_time": "2024-12-02T17:34:44.423648200Z"
    }
   },
   "id": "22e63f3f2ef811f3",
   "execution_count": 11
  },
  {
   "cell_type": "code",
   "outputs": [
    {
     "data": {
      "text/plain": "                          date_advisory_issued  town  dominant_taxa  \\\nlake                                                                  \nAdder Pond/Hopkins Pond                      2     2              2   \nAngle Pond                                   4     4              3   \nArlington Mill Reservoir                     7     7              5   \nAyers Pond                                   5     5              3   \nBaboosic Lake                               12    12             11   \n...                                        ...   ...            ...   \nWinnepocket, Lake                            1     1              0   \nWinnipesaukee, Lake                         19    19             18   \nWinnisquam, Lake                             5     5              2   \nWinona, Lake                                 4     4              3   \nYork Pond                                    3     3              3   \n\n                          total_cell_concentration  advisory_days  \\\nlake                                                                \nAdder Pond/Hopkins Pond                          2              2   \nAngle Pond                                       3              3   \nArlington Mill Reservoir                         5              5   \nAyers Pond                                       3              3   \nBaboosic Lake                                   10             12   \n...                                            ...            ...   \nWinnepocket, Lake                                0              0   \nWinnipesaukee, Lake                              6             10   \nWinnisquam, Lake                                 2              3   \nWinona, Lake                                     3              3   \nYork Pond                                        3              3   \n\n                          notification_type  year  YearMonth  Shape_Length  \\\nlake                                                                         \nAdder Pond/Hopkins Pond                   2     2          2             2   \nAngle Pond                                4     4          4             4   \nArlington Mill Reservoir                  7     7          7             7   \nAyers Pond                                5     5          5             5   \nBaboosic Lake                            12    12         12            12   \n...                                     ...   ...        ...           ...   \nWinnepocket, Lake                         1     1          1             1   \nWinnipesaukee, Lake                      19    19         19            19   \nWinnisquam, Lake                          5     5          5             5   \nWinona, Lake                              4     4          4             0   \nYork Pond                                 3     3          3             3   \n\n                          Shape_Area  permanent_identifier  gnis_id  areasqkm  \\\nlake                                                                            \nAdder Pond/Hopkins Pond            2                     2        2         2   \nAngle Pond                         4                     4        4         4   \nArlington Mill Reservoir           7                     7        7         7   \nAyers Pond                         5                     5        5         5   \nBaboosic Lake                     12                    12       12        12   \n...                              ...                   ...      ...       ...   \nWinnepocket, Lake                  1                     1        1         1   \nWinnipesaukee, Lake               19                    19       19        19   \nWinnisquam, Lake                   5                     5        5         5   \nWinona, Lake                       0                     0        0         0   \nYork Pond                          3                     3        3         3   \n\n                          elevation  ATTRIBUTE  WETLAND_TYPE  ACRES  NWI_ID  \\\nlake                                                                          \nAdder Pond/Hopkins Pond           2          2             2      2       2   \nAngle Pond                        4          4             4      4       4   \nArlington Mill Reservoir          7          7             7      7       7   \nAyers Pond                        5          5             5      5       5   \nBaboosic Lake                    12         12            12     12      12   \n...                             ...        ...           ...    ...     ...   \nWinnepocket, Lake                 1          1             1      1       1   \nWinnipesaukee, Lake              19         19            19     19      19   \nWinnisquam, Lake                  5          5             5      5       5   \nWinona, Lake                      0          4             4      4       4   \nYork Pond                         3          3             3      3       3   \n\n                          geometry  \nlake                                \nAdder Pond/Hopkins Pond          2  \nAngle Pond                       4  \nArlington Mill Reservoir         7  \nAyers Pond                       5  \nBaboosic Lake                   12  \n...                            ...  \nWinnepocket, Lake                1  \nWinnipesaukee, Lake             19  \nWinnisquam, Lake                 5  \nWinona, Lake                     4  \nYork Pond                        3  \n\n[144 rows x 19 columns]",
      "text/html": "<div>\n<style scoped>\n    .dataframe tbody tr th:only-of-type {\n        vertical-align: middle;\n    }\n\n    .dataframe tbody tr th {\n        vertical-align: top;\n    }\n\n    .dataframe thead th {\n        text-align: right;\n    }\n</style>\n<table border=\"1\" class=\"dataframe\">\n  <thead>\n    <tr style=\"text-align: right;\">\n      <th></th>\n      <th>date_advisory_issued</th>\n      <th>town</th>\n      <th>dominant_taxa</th>\n      <th>total_cell_concentration</th>\n      <th>advisory_days</th>\n      <th>notification_type</th>\n      <th>year</th>\n      <th>YearMonth</th>\n      <th>Shape_Length</th>\n      <th>Shape_Area</th>\n      <th>permanent_identifier</th>\n      <th>gnis_id</th>\n      <th>areasqkm</th>\n      <th>elevation</th>\n      <th>ATTRIBUTE</th>\n      <th>WETLAND_TYPE</th>\n      <th>ACRES</th>\n      <th>NWI_ID</th>\n      <th>geometry</th>\n    </tr>\n    <tr>\n      <th>lake</th>\n      <th></th>\n      <th></th>\n      <th></th>\n      <th></th>\n      <th></th>\n      <th></th>\n      <th></th>\n      <th></th>\n      <th></th>\n      <th></th>\n      <th></th>\n      <th></th>\n      <th></th>\n      <th></th>\n      <th></th>\n      <th></th>\n      <th></th>\n      <th></th>\n      <th></th>\n    </tr>\n  </thead>\n  <tbody>\n    <tr>\n      <th>Adder Pond/Hopkins Pond</th>\n      <td>2</td>\n      <td>2</td>\n      <td>2</td>\n      <td>2</td>\n      <td>2</td>\n      <td>2</td>\n      <td>2</td>\n      <td>2</td>\n      <td>2</td>\n      <td>2</td>\n      <td>2</td>\n      <td>2</td>\n      <td>2</td>\n      <td>2</td>\n      <td>2</td>\n      <td>2</td>\n      <td>2</td>\n      <td>2</td>\n      <td>2</td>\n    </tr>\n    <tr>\n      <th>Angle Pond</th>\n      <td>4</td>\n      <td>4</td>\n      <td>3</td>\n      <td>3</td>\n      <td>3</td>\n      <td>4</td>\n      <td>4</td>\n      <td>4</td>\n      <td>4</td>\n      <td>4</td>\n      <td>4</td>\n      <td>4</td>\n      <td>4</td>\n      <td>4</td>\n      <td>4</td>\n      <td>4</td>\n      <td>4</td>\n      <td>4</td>\n      <td>4</td>\n    </tr>\n    <tr>\n      <th>Arlington Mill Reservoir</th>\n      <td>7</td>\n      <td>7</td>\n      <td>5</td>\n      <td>5</td>\n      <td>5</td>\n      <td>7</td>\n      <td>7</td>\n      <td>7</td>\n      <td>7</td>\n      <td>7</td>\n      <td>7</td>\n      <td>7</td>\n      <td>7</td>\n      <td>7</td>\n      <td>7</td>\n      <td>7</td>\n      <td>7</td>\n      <td>7</td>\n      <td>7</td>\n    </tr>\n    <tr>\n      <th>Ayers Pond</th>\n      <td>5</td>\n      <td>5</td>\n      <td>3</td>\n      <td>3</td>\n      <td>3</td>\n      <td>5</td>\n      <td>5</td>\n      <td>5</td>\n      <td>5</td>\n      <td>5</td>\n      <td>5</td>\n      <td>5</td>\n      <td>5</td>\n      <td>5</td>\n      <td>5</td>\n      <td>5</td>\n      <td>5</td>\n      <td>5</td>\n      <td>5</td>\n    </tr>\n    <tr>\n      <th>Baboosic Lake</th>\n      <td>12</td>\n      <td>12</td>\n      <td>11</td>\n      <td>10</td>\n      <td>12</td>\n      <td>12</td>\n      <td>12</td>\n      <td>12</td>\n      <td>12</td>\n      <td>12</td>\n      <td>12</td>\n      <td>12</td>\n      <td>12</td>\n      <td>12</td>\n      <td>12</td>\n      <td>12</td>\n      <td>12</td>\n      <td>12</td>\n      <td>12</td>\n    </tr>\n    <tr>\n      <th>...</th>\n      <td>...</td>\n      <td>...</td>\n      <td>...</td>\n      <td>...</td>\n      <td>...</td>\n      <td>...</td>\n      <td>...</td>\n      <td>...</td>\n      <td>...</td>\n      <td>...</td>\n      <td>...</td>\n      <td>...</td>\n      <td>...</td>\n      <td>...</td>\n      <td>...</td>\n      <td>...</td>\n      <td>...</td>\n      <td>...</td>\n      <td>...</td>\n    </tr>\n    <tr>\n      <th>Winnepocket, Lake</th>\n      <td>1</td>\n      <td>1</td>\n      <td>0</td>\n      <td>0</td>\n      <td>0</td>\n      <td>1</td>\n      <td>1</td>\n      <td>1</td>\n      <td>1</td>\n      <td>1</td>\n      <td>1</td>\n      <td>1</td>\n      <td>1</td>\n      <td>1</td>\n      <td>1</td>\n      <td>1</td>\n      <td>1</td>\n      <td>1</td>\n      <td>1</td>\n    </tr>\n    <tr>\n      <th>Winnipesaukee, Lake</th>\n      <td>19</td>\n      <td>19</td>\n      <td>18</td>\n      <td>6</td>\n      <td>10</td>\n      <td>19</td>\n      <td>19</td>\n      <td>19</td>\n      <td>19</td>\n      <td>19</td>\n      <td>19</td>\n      <td>19</td>\n      <td>19</td>\n      <td>19</td>\n      <td>19</td>\n      <td>19</td>\n      <td>19</td>\n      <td>19</td>\n      <td>19</td>\n    </tr>\n    <tr>\n      <th>Winnisquam, Lake</th>\n      <td>5</td>\n      <td>5</td>\n      <td>2</td>\n      <td>2</td>\n      <td>3</td>\n      <td>5</td>\n      <td>5</td>\n      <td>5</td>\n      <td>5</td>\n      <td>5</td>\n      <td>5</td>\n      <td>5</td>\n      <td>5</td>\n      <td>5</td>\n      <td>5</td>\n      <td>5</td>\n      <td>5</td>\n      <td>5</td>\n      <td>5</td>\n    </tr>\n    <tr>\n      <th>Winona, Lake</th>\n      <td>4</td>\n      <td>4</td>\n      <td>3</td>\n      <td>3</td>\n      <td>3</td>\n      <td>4</td>\n      <td>4</td>\n      <td>4</td>\n      <td>0</td>\n      <td>0</td>\n      <td>0</td>\n      <td>0</td>\n      <td>0</td>\n      <td>0</td>\n      <td>4</td>\n      <td>4</td>\n      <td>4</td>\n      <td>4</td>\n      <td>4</td>\n    </tr>\n    <tr>\n      <th>York Pond</th>\n      <td>3</td>\n      <td>3</td>\n      <td>3</td>\n      <td>3</td>\n      <td>3</td>\n      <td>3</td>\n      <td>3</td>\n      <td>3</td>\n      <td>3</td>\n      <td>3</td>\n      <td>3</td>\n      <td>3</td>\n      <td>3</td>\n      <td>3</td>\n      <td>3</td>\n      <td>3</td>\n      <td>3</td>\n      <td>3</td>\n      <td>3</td>\n    </tr>\n  </tbody>\n</table>\n<p>144 rows × 19 columns</p>\n</div>"
     },
     "execution_count": 12,
     "metadata": {},
     "output_type": "execute_result"
    }
   ],
   "source": [
    "bloom_rates"
   ],
   "metadata": {
    "collapsed": false,
    "ExecuteTime": {
     "end_time": "2024-12-02T17:34:45.099247900Z",
     "start_time": "2024-12-02T17:34:45.091967900Z"
    }
   },
   "id": "37f3f71762525cf2",
   "execution_count": 12
  },
  {
   "cell_type": "code",
   "outputs": [],
   "source": [
    "X = bloom_gdf[['dominiant_taxa']]"
   ],
   "metadata": {
    "collapsed": false
   },
   "id": "e625acc71870f821"
  }
 ],
 "metadata": {
  "kernelspec": {
   "display_name": "Python 3",
   "language": "python",
   "name": "python3"
  },
  "language_info": {
   "codemirror_mode": {
    "name": "ipython",
    "version": 2
   },
   "file_extension": ".py",
   "mimetype": "text/x-python",
   "name": "python",
   "nbconvert_exporter": "python",
   "pygments_lexer": "ipython2",
   "version": "2.7.6"
  }
 },
 "nbformat": 4,
 "nbformat_minor": 5
}
