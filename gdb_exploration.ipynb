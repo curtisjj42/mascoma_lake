{
 "cells": [
  {
   "cell_type": "code",
   "id": "initial_id",
   "metadata": {
    "collapsed": true,
    "ExecuteTime": {
     "end_time": "2024-11-19T02:48:37.101083300Z",
     "start_time": "2024-11-19T02:48:36.039869900Z"
    }
   },
   "source": [
    "import geopandas as gpd\n",
    "import fiona\n",
    "\n",
    "# Path to your .gdb folder\n",
    "gdb_path = \"nhdplus_epasnapshot2022_nh.gdb\""
   ],
   "outputs": [],
   "execution_count": 2
  },
  {
   "metadata": {
    "ExecuteTime": {
     "end_time": "2024-11-19T02:48:38.196447100Z",
     "start_time": "2024-11-19T02:48:38.143285300Z"
    }
   },
   "cell_type": "code",
   "source": [
    "# List all layers in the GDB\n",
    "layers = fiona.listlayers(gdb_path)\n",
    "print(\"Available layers:\", layers)"
   ],
   "id": "4b2494a7dd6a389c",
   "outputs": [
    {
     "name": "stdout",
     "output_type": "stream",
     "text": [
      "Available layers: ['nhdarea_nh', 'nhdline_nh', 'nhdflowline_nh', 'nhdplusflow_nh', 'catchment_fabric_nh', 'nhdpoint_nh', 'nhdplusflowlinevaa_nh', 'nhdpluseromma_nh', 'nhdwaterbody_nh']\n"
     ]
    }
   ],
   "execution_count": 3
  },
  {
   "metadata": {
    "ExecuteTime": {
     "end_time": "2024-11-19T02:50:19.920970100Z",
     "start_time": "2024-11-19T02:50:19.475120800Z"
    }
   },
   "cell_type": "code",
   "source": [
    "# Load a specific layer (e.g., 'NHDFlowline' or 'NHDWaterbody')\n",
    "gdf = gpd.read_file(gdb_path, layer='nhdwaterbody_nh')  # Replace with desired layer\n",
    "mudpond = gdf[gdf['gnis_name'] == 'Mud Pond']"
   ],
   "id": "510c08814d111f98",
   "outputs": [],
   "execution_count": 9
  },
  {
   "metadata": {
    "ExecuteTime": {
     "end_time": "2024-11-19T02:50:22.478134600Z",
     "start_time": "2024-11-19T02:50:22.462900300Z"
    }
   },
   "cell_type": "code",
   "outputs": [
    {
     "data": {
      "text/plain": "       Shape_Length    Shape_Area statecode permanent_identifier  \\\n524        0.006793  1.946486e-06        NH             87403451   \n981        0.005143  1.359270e-06        NH            120802661   \n1299       0.006126  1.831403e-06        NH            136901746   \n2095       0.003083  6.722405e-07        NH            135993947   \n3083       0.005678  2.040698e-06        NH            135998901   \n3799       0.010866  4.394709e-06        NH            120804219   \n4664       0.005432  2.067066e-06        NH            135996679   \n5482       0.006977  1.898444e-06        NH             92798199   \n6227       0.004800  1.419752e-06        NH            118182012   \n6347       0.011645  2.770003e-06        NH            118182044   \n6550       0.008749  4.830142e-06        NH            135998639   \n7877       0.004086  7.492924e-07        NH             92796919   \n10004      0.009559  6.165520e-06        NH             92797137   \n10700      0.007302  2.252781e-06        NH            135999201   \n12970      0.055905  2.742435e-05        NH            135999409   \n15646      0.017109  4.467545e-06        NH            135909412   \n15712      0.029314  8.263405e-06        NH            135998668   \n15749      0.007643  3.508358e-06        NH            135998715   \n15768      0.006803  1.637048e-06        NH            135998742   \n16210      0.005538  1.007189e-06        NH             87403765   \n17557      0.005257  1.749940e-06        NH            107204421   \n19377      0.009783  3.548843e-06        NH             91152865   \n19597      0.024531  1.840091e-05        NH             91153629   \n19708      0.004194  9.483933e-07        NH             87402137   \n20317      0.004897  1.329532e-06        NH            141033919   \n20591      0.004105  1.065523e-06        NH             91153077   \n23579      0.009439  3.965512e-06        NH            118181992   \n23711      0.011995  3.970923e-06        NH             91154501   \n27124      0.008525  2.704690e-06        NH            120803252   \n\n                          fdate  resolution   gnis_id gnis_name  areasqkm  \\\n524   2003-06-18 00:00:00+00:00           2  00872369  Mud Pond  0.017315   \n981   2004-05-26 06:58:14+00:00           2  00868645  Mud Pond  0.012154   \n1299  2005-07-06 22:03:43+00:00           2  00868630  Mud Pond  0.016651   \n2095  2012-08-22 00:00:00+00:00           2  00868641  Mud Pond  0.006045   \n3083  2012-08-22 00:00:00+00:00           2  00868634  Mud Pond  0.018447   \n3799  2004-05-26 07:52:35+00:00           2  00871326  Mud Pond  0.039585   \n4664  2012-08-22 00:00:00+00:00           2  00868640  Mud Pond  0.018631   \n5482  2003-08-04 00:00:00+00:00           2  00868643  Mud Pond  0.017040   \n6227  2004-01-14 00:00:00+00:00           2  00868649  Mud Pond  0.012513   \n6347  2004-01-14 00:00:00+00:00           2  00868648  Mud Pond  0.024422   \n6550  2005-06-03 14:00:19+00:00           2  00868637  Mud Pond  0.043642   \n7877  2003-08-04 00:00:00+00:00           2  00872368  Mud Pond  0.006666   \n10004 2003-08-04 00:00:00+00:00           2  00872366  Mud Pond  0.055040   \n10700 2012-08-22 00:00:00+00:00           2  00868632  Mud Pond  0.020423   \n12970 2005-06-03 15:24:24+00:00           2  00868631  Mud Pond  0.248852   \n15646 2012-10-23 00:00:00+00:00           2  00868633  Mud Pond  0.040396   \n15712 2012-08-22 00:00:00+00:00           2  00868639  Mud Pond  0.074628   \n15749 2005-06-03 14:07:53+00:00           2  00868635  Mud Pond  0.031711   \n15768 2005-06-03 14:10:33+00:00           2  00868636  Mud Pond  0.014796   \n16210 2003-06-18 00:00:00+00:00           2  00872367  Mud Pond  0.008973   \n17557 2003-10-10 00:00:00+00:00           2  00868644  Mud Pond  0.015698   \n19377 2003-07-21 00:00:00+00:00           2  00868652  Mud Pond  0.031035   \n19597 2003-07-21 00:00:00+00:00           2  00868653  Mud Pond  0.161506   \n19708 2003-06-18 00:00:00+00:00           2  00868646  Mud Pond  0.008397   \n20317 2005-10-04 22:44:33+00:00           2  00868638  Mud Pond  0.012009   \n20591 2003-07-21 00:00:00+00:00           2  00868651  Mud Pond  0.009323   \n23579 2004-01-14 00:00:00+00:00           2  00868650  Mud Pond  0.034927   \n23711 2003-07-21 00:00:00+00:00           2  00868647  Mud Pond  0.035054   \n27124 2004-05-26 07:18:45+00:00           2  00868642  Mud Pond  0.024279   \n\n       elevation       reachcode  ftype  fcode  visibilityfilter  \\\n524        384.0  01080103000708    390  39009                 0   \n981          NaN  01080106001864    390  39004                 0   \n1299         NaN  01080201001651    390  39004                 0   \n2095         NaN  01070003002907    390  39004                 0   \n3083         NaN  01070003003561    390  39004                 0   \n3799         NaN  01080106001970    390  39004                 0   \n4664         NaN  01070003003034    390  39004                 0   \n5482       253.0  01070001001227    390  39009                 0   \n6227         NaN  01040001000743    390  39004                 0   \n6347         NaN  01040001003240    390  39004                 0   \n6550       118.9  01070003001372    390  39009                 0   \n7877         NaN  01070001001081    390  39004                 0   \n10004      298.7  01070001001119    390  39009                 0   \n10700        NaN  01070003003804    390  39004                 0   \n12970      318.0  01070003001466    390  39009                 0   \n15646      269.7  01070006009684    390  39009                 0   \n15712      277.4  01070003003353    390  39009                 0   \n15749      313.9  01070003001382    390  39009                 0   \n15768      207.0  01070003001385    390  39009                 0   \n16210      688.8  01080103000786    390  39009                 0   \n17557        NaN  01070002004160    390  39004                 0   \n19377      554.4  01080101000894    390  39009                 0   \n19597      691.9  01080101000912    390  39009                 0   \n19708        NaN  01080103000643    390  39004                 0   \n20317        NaN  01060003010676    390  39004                 0   \n20591        NaN  01080101003712    390  39004                 0   \n23579        NaN  01040001000742    390  39004                 0   \n23711      315.5  01080101000973    390  39009                 0   \n27124      210.3  01080106001908    390  39009                 0   \n\n          nhdplusid vpuid                                GlobalID  \\\n524    1.000090e+13  0108  {55A1F46D-D8BB-48DA-B3BF-B344B1D7D4BB}   \n981    1.000090e+13  0108  {C10D1446-9927-4BF8-B297-E94FD813F3F9}   \n1299   1.000090e+13  0108  {CAFA287F-2CE8-45EE-92E0-17D909DB0BA0}   \n2095   5.000900e+12  0107  {A9FBFE37-2873-45E2-A060-18C06C9B9E51}   \n3083   5.000900e+12  0107  {5142A333-6B99-4EAC-A32F-6BAAEED169F9}   \n3799   1.000090e+13  0108  {B64801E1-1E6A-424D-8CCA-01F1D431A51D}   \n4664   5.000900e+12  0107  {890230E7-3BF7-4BEE-A16E-F0E8E57F1227}   \n5482   5.000900e+12  0107  {BAE7B240-A9BF-4FEB-83DA-FF84E7C49C45}   \n6227   5.000300e+12  0104  {DBF9B378-BE18-415E-8D35-AAFEED8B09B7}   \n6347   5.000300e+12  0104  {57991D50-46F9-49FB-88A4-AD9509899BC7}   \n6550   5.000900e+12  0107  {1A746DD4-22A8-4003-901E-DAC234E5D286}   \n7877   5.000900e+12  0107  {1ED1679A-983C-4DE8-8DCE-FC826E0B2789}   \n10004  5.000900e+12  0107  {6402A5DD-335C-482C-9C8C-9C337889DDB5}   \n10700  5.000900e+12  0107  {80E542A3-ECB9-4FB5-B1D6-8E032022890A}   \n12970  5.000900e+12  0107  {07E4EEFB-E00C-4AD8-A8B3-093B062A1797}   \n15646  5.000900e+12  0107  {84D36089-92D2-4155-949E-9788DF8EF4E3}   \n15712  5.000900e+12  0107  {E0B3FF64-3618-426B-963B-BDA5F2A491A6}   \n15749  5.000900e+12  0107  {3A68D6C3-E605-49B9-9057-3FDB5264D504}   \n15768  5.000900e+12  0107  {3DCBBEA2-1EEC-46A9-AEC9-AA073FAA50BB}   \n16210  1.000090e+13  0108  {A0B338BB-FE38-459E-B141-ADF905179B29}   \n17557  5.000900e+12  0107  {437B2738-A53B-4688-8257-6FBE4CF70466}   \n19377  1.000090e+13  0108  {123DEF15-C705-46D4-B8EB-188AF4699A60}   \n19597  1.000090e+13  0108  {CF241F35-FE98-45AE-9096-B772FE4E10D7}   \n19708  1.000090e+13  0108  {82384092-AE88-4270-86B4-995373D3C1B4}   \n20317  5.000600e+12  0106  {4A7151C7-C56C-4E55-BDB4-5DBA65CADD9F}   \n20591  1.000090e+13  0108  {633DBCB5-85BF-4E08-90DD-65C1389BF308}   \n23579  5.000300e+12  0104  {20331D7E-EC18-47D7-92E7-E4B7B1DC6595}   \n23711  1.000090e+13  0108  {CD682287-5837-4903-B1C5-0473CD656040}   \n27124  1.000090e+13  0108  {D12DA616-3E86-4017-B5DF-FC0579261AD4}   \n\n                                                geometry  \n524    MULTIPOLYGON (((-71.8142 44.11183, -71.81441 4...  \n981    MULTIPOLYGON (((-72.03946 43.80004, -72.03943 ...  \n1299   MULTIPOLYGON (((-72.30332 42.76935, -72.30316 ...  \n2095   MULTIPOLYGON (((-71.83005 43.45121, -71.83021 ...  \n3083   MULTIPOLYGON (((-72.06592 43.12917, -72.06596 ...  \n3799   MULTIPOLYGON (((-72.08037 43.35092, -72.08028 ...  \n4664   MULTIPOLYGON (((-71.77152 43.31098, -71.77187 ...  \n5482   MULTIPOLYGON (((-71.9637 43.56608, -71.9632 43...  \n6227   MULTIPOLYGON (((-71.10828 44.65924, -71.10842 ...  \n6347   MULTIPOLYGON (((-71.1548 44.63979, -71.15487 4...  \n6550   MULTIPOLYGON (((-71.76902 43.15941, -71.76904 ...  \n7877   MULTIPOLYGON (((-71.70456 44.10927, -71.70474 ...  \n10004  MULTIPOLYGON (((-71.70011 43.89562, -71.70024 ...  \n10700  MULTIPOLYGON (((-71.88335 42.95106, -71.88334 ...  \n12970  MULTIPOLYGON (((-72.0194 42.88491, -72.01927 4...  \n15646  MULTIPOLYGON (((-71.83992 43.11273, -71.84009 ...  \n15712  MULTIPOLYGON (((-71.99625 43.1931, -71.99605 4...  \n15749  MULTIPOLYGON (((-71.83422 43.1369, -71.83432 4...  \n15768  MULTIPOLYGON (((-71.89709 43.13861, -71.89737 ...  \n16210  MULTIPOLYGON (((-71.86066 44.02076, -71.86057 ...  \n17557  MULTIPOLYGON (((-71.54588 43.60354, -71.54575 ...  \n19377  MULTIPOLYGON (((-71.27858 45.11304, -71.27881 ...  \n19597  MULTIPOLYGON (((-71.30587 44.90135, -71.30597 ...  \n19708  MULTIPOLYGON (((-71.51789 44.39221, -71.51774 ...  \n20317  MULTIPOLYGON (((-71.28447 43.17797, -71.28439 ...  \n20591  MULTIPOLYGON (((-71.3776 45.08256, -71.37777 4...  \n23579  MULTIPOLYGON (((-71.27714 44.69994, -71.27717 ...  \n23711  MULTIPOLYGON (((-71.27273 44.56471, -71.27287 ...  \n27124  MULTIPOLYGON (((-72.31865 43.56229, -72.31859 ...  ",
      "text/html": "<div>\n<style scoped>\n    .dataframe tbody tr th:only-of-type {\n        vertical-align: middle;\n    }\n\n    .dataframe tbody tr th {\n        vertical-align: top;\n    }\n\n    .dataframe thead th {\n        text-align: right;\n    }\n</style>\n<table border=\"1\" class=\"dataframe\">\n  <thead>\n    <tr style=\"text-align: right;\">\n      <th></th>\n      <th>Shape_Length</th>\n      <th>Shape_Area</th>\n      <th>statecode</th>\n      <th>permanent_identifier</th>\n      <th>fdate</th>\n      <th>resolution</th>\n      <th>gnis_id</th>\n      <th>gnis_name</th>\n      <th>areasqkm</th>\n      <th>elevation</th>\n      <th>reachcode</th>\n      <th>ftype</th>\n      <th>fcode</th>\n      <th>visibilityfilter</th>\n      <th>nhdplusid</th>\n      <th>vpuid</th>\n      <th>GlobalID</th>\n      <th>geometry</th>\n    </tr>\n  </thead>\n  <tbody>\n    <tr>\n      <th>524</th>\n      <td>0.006793</td>\n      <td>1.946486e-06</td>\n      <td>NH</td>\n      <td>87403451</td>\n      <td>2003-06-18 00:00:00+00:00</td>\n      <td>2</td>\n      <td>00872369</td>\n      <td>Mud Pond</td>\n      <td>0.017315</td>\n      <td>384.0</td>\n      <td>01080103000708</td>\n      <td>390</td>\n      <td>39009</td>\n      <td>0</td>\n      <td>1.000090e+13</td>\n      <td>0108</td>\n      <td>{55A1F46D-D8BB-48DA-B3BF-B344B1D7D4BB}</td>\n      <td>MULTIPOLYGON (((-71.8142 44.11183, -71.81441 4...</td>\n    </tr>\n    <tr>\n      <th>981</th>\n      <td>0.005143</td>\n      <td>1.359270e-06</td>\n      <td>NH</td>\n      <td>120802661</td>\n      <td>2004-05-26 06:58:14+00:00</td>\n      <td>2</td>\n      <td>00868645</td>\n      <td>Mud Pond</td>\n      <td>0.012154</td>\n      <td>NaN</td>\n      <td>01080106001864</td>\n      <td>390</td>\n      <td>39004</td>\n      <td>0</td>\n      <td>1.000090e+13</td>\n      <td>0108</td>\n      <td>{C10D1446-9927-4BF8-B297-E94FD813F3F9}</td>\n      <td>MULTIPOLYGON (((-72.03946 43.80004, -72.03943 ...</td>\n    </tr>\n    <tr>\n      <th>1299</th>\n      <td>0.006126</td>\n      <td>1.831403e-06</td>\n      <td>NH</td>\n      <td>136901746</td>\n      <td>2005-07-06 22:03:43+00:00</td>\n      <td>2</td>\n      <td>00868630</td>\n      <td>Mud Pond</td>\n      <td>0.016651</td>\n      <td>NaN</td>\n      <td>01080201001651</td>\n      <td>390</td>\n      <td>39004</td>\n      <td>0</td>\n      <td>1.000090e+13</td>\n      <td>0108</td>\n      <td>{CAFA287F-2CE8-45EE-92E0-17D909DB0BA0}</td>\n      <td>MULTIPOLYGON (((-72.30332 42.76935, -72.30316 ...</td>\n    </tr>\n    <tr>\n      <th>2095</th>\n      <td>0.003083</td>\n      <td>6.722405e-07</td>\n      <td>NH</td>\n      <td>135993947</td>\n      <td>2012-08-22 00:00:00+00:00</td>\n      <td>2</td>\n      <td>00868641</td>\n      <td>Mud Pond</td>\n      <td>0.006045</td>\n      <td>NaN</td>\n      <td>01070003002907</td>\n      <td>390</td>\n      <td>39004</td>\n      <td>0</td>\n      <td>5.000900e+12</td>\n      <td>0107</td>\n      <td>{A9FBFE37-2873-45E2-A060-18C06C9B9E51}</td>\n      <td>MULTIPOLYGON (((-71.83005 43.45121, -71.83021 ...</td>\n    </tr>\n    <tr>\n      <th>3083</th>\n      <td>0.005678</td>\n      <td>2.040698e-06</td>\n      <td>NH</td>\n      <td>135998901</td>\n      <td>2012-08-22 00:00:00+00:00</td>\n      <td>2</td>\n      <td>00868634</td>\n      <td>Mud Pond</td>\n      <td>0.018447</td>\n      <td>NaN</td>\n      <td>01070003003561</td>\n      <td>390</td>\n      <td>39004</td>\n      <td>0</td>\n      <td>5.000900e+12</td>\n      <td>0107</td>\n      <td>{5142A333-6B99-4EAC-A32F-6BAAEED169F9}</td>\n      <td>MULTIPOLYGON (((-72.06592 43.12917, -72.06596 ...</td>\n    </tr>\n    <tr>\n      <th>3799</th>\n      <td>0.010866</td>\n      <td>4.394709e-06</td>\n      <td>NH</td>\n      <td>120804219</td>\n      <td>2004-05-26 07:52:35+00:00</td>\n      <td>2</td>\n      <td>00871326</td>\n      <td>Mud Pond</td>\n      <td>0.039585</td>\n      <td>NaN</td>\n      <td>01080106001970</td>\n      <td>390</td>\n      <td>39004</td>\n      <td>0</td>\n      <td>1.000090e+13</td>\n      <td>0108</td>\n      <td>{B64801E1-1E6A-424D-8CCA-01F1D431A51D}</td>\n      <td>MULTIPOLYGON (((-72.08037 43.35092, -72.08028 ...</td>\n    </tr>\n    <tr>\n      <th>4664</th>\n      <td>0.005432</td>\n      <td>2.067066e-06</td>\n      <td>NH</td>\n      <td>135996679</td>\n      <td>2012-08-22 00:00:00+00:00</td>\n      <td>2</td>\n      <td>00868640</td>\n      <td>Mud Pond</td>\n      <td>0.018631</td>\n      <td>NaN</td>\n      <td>01070003003034</td>\n      <td>390</td>\n      <td>39004</td>\n      <td>0</td>\n      <td>5.000900e+12</td>\n      <td>0107</td>\n      <td>{890230E7-3BF7-4BEE-A16E-F0E8E57F1227}</td>\n      <td>MULTIPOLYGON (((-71.77152 43.31098, -71.77187 ...</td>\n    </tr>\n    <tr>\n      <th>5482</th>\n      <td>0.006977</td>\n      <td>1.898444e-06</td>\n      <td>NH</td>\n      <td>92798199</td>\n      <td>2003-08-04 00:00:00+00:00</td>\n      <td>2</td>\n      <td>00868643</td>\n      <td>Mud Pond</td>\n      <td>0.017040</td>\n      <td>253.0</td>\n      <td>01070001001227</td>\n      <td>390</td>\n      <td>39009</td>\n      <td>0</td>\n      <td>5.000900e+12</td>\n      <td>0107</td>\n      <td>{BAE7B240-A9BF-4FEB-83DA-FF84E7C49C45}</td>\n      <td>MULTIPOLYGON (((-71.9637 43.56608, -71.9632 43...</td>\n    </tr>\n    <tr>\n      <th>6227</th>\n      <td>0.004800</td>\n      <td>1.419752e-06</td>\n      <td>NH</td>\n      <td>118182012</td>\n      <td>2004-01-14 00:00:00+00:00</td>\n      <td>2</td>\n      <td>00868649</td>\n      <td>Mud Pond</td>\n      <td>0.012513</td>\n      <td>NaN</td>\n      <td>01040001000743</td>\n      <td>390</td>\n      <td>39004</td>\n      <td>0</td>\n      <td>5.000300e+12</td>\n      <td>0104</td>\n      <td>{DBF9B378-BE18-415E-8D35-AAFEED8B09B7}</td>\n      <td>MULTIPOLYGON (((-71.10828 44.65924, -71.10842 ...</td>\n    </tr>\n    <tr>\n      <th>6347</th>\n      <td>0.011645</td>\n      <td>2.770003e-06</td>\n      <td>NH</td>\n      <td>118182044</td>\n      <td>2004-01-14 00:00:00+00:00</td>\n      <td>2</td>\n      <td>00868648</td>\n      <td>Mud Pond</td>\n      <td>0.024422</td>\n      <td>NaN</td>\n      <td>01040001003240</td>\n      <td>390</td>\n      <td>39004</td>\n      <td>0</td>\n      <td>5.000300e+12</td>\n      <td>0104</td>\n      <td>{57991D50-46F9-49FB-88A4-AD9509899BC7}</td>\n      <td>MULTIPOLYGON (((-71.1548 44.63979, -71.15487 4...</td>\n    </tr>\n    <tr>\n      <th>6550</th>\n      <td>0.008749</td>\n      <td>4.830142e-06</td>\n      <td>NH</td>\n      <td>135998639</td>\n      <td>2005-06-03 14:00:19+00:00</td>\n      <td>2</td>\n      <td>00868637</td>\n      <td>Mud Pond</td>\n      <td>0.043642</td>\n      <td>118.9</td>\n      <td>01070003001372</td>\n      <td>390</td>\n      <td>39009</td>\n      <td>0</td>\n      <td>5.000900e+12</td>\n      <td>0107</td>\n      <td>{1A746DD4-22A8-4003-901E-DAC234E5D286}</td>\n      <td>MULTIPOLYGON (((-71.76902 43.15941, -71.76904 ...</td>\n    </tr>\n    <tr>\n      <th>7877</th>\n      <td>0.004086</td>\n      <td>7.492924e-07</td>\n      <td>NH</td>\n      <td>92796919</td>\n      <td>2003-08-04 00:00:00+00:00</td>\n      <td>2</td>\n      <td>00872368</td>\n      <td>Mud Pond</td>\n      <td>0.006666</td>\n      <td>NaN</td>\n      <td>01070001001081</td>\n      <td>390</td>\n      <td>39004</td>\n      <td>0</td>\n      <td>5.000900e+12</td>\n      <td>0107</td>\n      <td>{1ED1679A-983C-4DE8-8DCE-FC826E0B2789}</td>\n      <td>MULTIPOLYGON (((-71.70456 44.10927, -71.70474 ...</td>\n    </tr>\n    <tr>\n      <th>10004</th>\n      <td>0.009559</td>\n      <td>6.165520e-06</td>\n      <td>NH</td>\n      <td>92797137</td>\n      <td>2003-08-04 00:00:00+00:00</td>\n      <td>2</td>\n      <td>00872366</td>\n      <td>Mud Pond</td>\n      <td>0.055040</td>\n      <td>298.7</td>\n      <td>01070001001119</td>\n      <td>390</td>\n      <td>39009</td>\n      <td>0</td>\n      <td>5.000900e+12</td>\n      <td>0107</td>\n      <td>{6402A5DD-335C-482C-9C8C-9C337889DDB5}</td>\n      <td>MULTIPOLYGON (((-71.70011 43.89562, -71.70024 ...</td>\n    </tr>\n    <tr>\n      <th>10700</th>\n      <td>0.007302</td>\n      <td>2.252781e-06</td>\n      <td>NH</td>\n      <td>135999201</td>\n      <td>2012-08-22 00:00:00+00:00</td>\n      <td>2</td>\n      <td>00868632</td>\n      <td>Mud Pond</td>\n      <td>0.020423</td>\n      <td>NaN</td>\n      <td>01070003003804</td>\n      <td>390</td>\n      <td>39004</td>\n      <td>0</td>\n      <td>5.000900e+12</td>\n      <td>0107</td>\n      <td>{80E542A3-ECB9-4FB5-B1D6-8E032022890A}</td>\n      <td>MULTIPOLYGON (((-71.88335 42.95106, -71.88334 ...</td>\n    </tr>\n    <tr>\n      <th>12970</th>\n      <td>0.055905</td>\n      <td>2.742435e-05</td>\n      <td>NH</td>\n      <td>135999409</td>\n      <td>2005-06-03 15:24:24+00:00</td>\n      <td>2</td>\n      <td>00868631</td>\n      <td>Mud Pond</td>\n      <td>0.248852</td>\n      <td>318.0</td>\n      <td>01070003001466</td>\n      <td>390</td>\n      <td>39009</td>\n      <td>0</td>\n      <td>5.000900e+12</td>\n      <td>0107</td>\n      <td>{07E4EEFB-E00C-4AD8-A8B3-093B062A1797}</td>\n      <td>MULTIPOLYGON (((-72.0194 42.88491, -72.01927 4...</td>\n    </tr>\n    <tr>\n      <th>15646</th>\n      <td>0.017109</td>\n      <td>4.467545e-06</td>\n      <td>NH</td>\n      <td>135909412</td>\n      <td>2012-10-23 00:00:00+00:00</td>\n      <td>2</td>\n      <td>00868633</td>\n      <td>Mud Pond</td>\n      <td>0.040396</td>\n      <td>269.7</td>\n      <td>01070006009684</td>\n      <td>390</td>\n      <td>39009</td>\n      <td>0</td>\n      <td>5.000900e+12</td>\n      <td>0107</td>\n      <td>{84D36089-92D2-4155-949E-9788DF8EF4E3}</td>\n      <td>MULTIPOLYGON (((-71.83992 43.11273, -71.84009 ...</td>\n    </tr>\n    <tr>\n      <th>15712</th>\n      <td>0.029314</td>\n      <td>8.263405e-06</td>\n      <td>NH</td>\n      <td>135998668</td>\n      <td>2012-08-22 00:00:00+00:00</td>\n      <td>2</td>\n      <td>00868639</td>\n      <td>Mud Pond</td>\n      <td>0.074628</td>\n      <td>277.4</td>\n      <td>01070003003353</td>\n      <td>390</td>\n      <td>39009</td>\n      <td>0</td>\n      <td>5.000900e+12</td>\n      <td>0107</td>\n      <td>{E0B3FF64-3618-426B-963B-BDA5F2A491A6}</td>\n      <td>MULTIPOLYGON (((-71.99625 43.1931, -71.99605 4...</td>\n    </tr>\n    <tr>\n      <th>15749</th>\n      <td>0.007643</td>\n      <td>3.508358e-06</td>\n      <td>NH</td>\n      <td>135998715</td>\n      <td>2005-06-03 14:07:53+00:00</td>\n      <td>2</td>\n      <td>00868635</td>\n      <td>Mud Pond</td>\n      <td>0.031711</td>\n      <td>313.9</td>\n      <td>01070003001382</td>\n      <td>390</td>\n      <td>39009</td>\n      <td>0</td>\n      <td>5.000900e+12</td>\n      <td>0107</td>\n      <td>{3A68D6C3-E605-49B9-9057-3FDB5264D504}</td>\n      <td>MULTIPOLYGON (((-71.83422 43.1369, -71.83432 4...</td>\n    </tr>\n    <tr>\n      <th>15768</th>\n      <td>0.006803</td>\n      <td>1.637048e-06</td>\n      <td>NH</td>\n      <td>135998742</td>\n      <td>2005-06-03 14:10:33+00:00</td>\n      <td>2</td>\n      <td>00868636</td>\n      <td>Mud Pond</td>\n      <td>0.014796</td>\n      <td>207.0</td>\n      <td>01070003001385</td>\n      <td>390</td>\n      <td>39009</td>\n      <td>0</td>\n      <td>5.000900e+12</td>\n      <td>0107</td>\n      <td>{3DCBBEA2-1EEC-46A9-AEC9-AA073FAA50BB}</td>\n      <td>MULTIPOLYGON (((-71.89709 43.13861, -71.89737 ...</td>\n    </tr>\n    <tr>\n      <th>16210</th>\n      <td>0.005538</td>\n      <td>1.007189e-06</td>\n      <td>NH</td>\n      <td>87403765</td>\n      <td>2003-06-18 00:00:00+00:00</td>\n      <td>2</td>\n      <td>00872367</td>\n      <td>Mud Pond</td>\n      <td>0.008973</td>\n      <td>688.8</td>\n      <td>01080103000786</td>\n      <td>390</td>\n      <td>39009</td>\n      <td>0</td>\n      <td>1.000090e+13</td>\n      <td>0108</td>\n      <td>{A0B338BB-FE38-459E-B141-ADF905179B29}</td>\n      <td>MULTIPOLYGON (((-71.86066 44.02076, -71.86057 ...</td>\n    </tr>\n    <tr>\n      <th>17557</th>\n      <td>0.005257</td>\n      <td>1.749940e-06</td>\n      <td>NH</td>\n      <td>107204421</td>\n      <td>2003-10-10 00:00:00+00:00</td>\n      <td>2</td>\n      <td>00868644</td>\n      <td>Mud Pond</td>\n      <td>0.015698</td>\n      <td>NaN</td>\n      <td>01070002004160</td>\n      <td>390</td>\n      <td>39004</td>\n      <td>0</td>\n      <td>5.000900e+12</td>\n      <td>0107</td>\n      <td>{437B2738-A53B-4688-8257-6FBE4CF70466}</td>\n      <td>MULTIPOLYGON (((-71.54588 43.60354, -71.54575 ...</td>\n    </tr>\n    <tr>\n      <th>19377</th>\n      <td>0.009783</td>\n      <td>3.548843e-06</td>\n      <td>NH</td>\n      <td>91152865</td>\n      <td>2003-07-21 00:00:00+00:00</td>\n      <td>2</td>\n      <td>00868652</td>\n      <td>Mud Pond</td>\n      <td>0.031035</td>\n      <td>554.4</td>\n      <td>01080101000894</td>\n      <td>390</td>\n      <td>39009</td>\n      <td>0</td>\n      <td>1.000090e+13</td>\n      <td>0108</td>\n      <td>{123DEF15-C705-46D4-B8EB-188AF4699A60}</td>\n      <td>MULTIPOLYGON (((-71.27858 45.11304, -71.27881 ...</td>\n    </tr>\n    <tr>\n      <th>19597</th>\n      <td>0.024531</td>\n      <td>1.840091e-05</td>\n      <td>NH</td>\n      <td>91153629</td>\n      <td>2003-07-21 00:00:00+00:00</td>\n      <td>2</td>\n      <td>00868653</td>\n      <td>Mud Pond</td>\n      <td>0.161506</td>\n      <td>691.9</td>\n      <td>01080101000912</td>\n      <td>390</td>\n      <td>39009</td>\n      <td>0</td>\n      <td>1.000090e+13</td>\n      <td>0108</td>\n      <td>{CF241F35-FE98-45AE-9096-B772FE4E10D7}</td>\n      <td>MULTIPOLYGON (((-71.30587 44.90135, -71.30597 ...</td>\n    </tr>\n    <tr>\n      <th>19708</th>\n      <td>0.004194</td>\n      <td>9.483933e-07</td>\n      <td>NH</td>\n      <td>87402137</td>\n      <td>2003-06-18 00:00:00+00:00</td>\n      <td>2</td>\n      <td>00868646</td>\n      <td>Mud Pond</td>\n      <td>0.008397</td>\n      <td>NaN</td>\n      <td>01080103000643</td>\n      <td>390</td>\n      <td>39004</td>\n      <td>0</td>\n      <td>1.000090e+13</td>\n      <td>0108</td>\n      <td>{82384092-AE88-4270-86B4-995373D3C1B4}</td>\n      <td>MULTIPOLYGON (((-71.51789 44.39221, -71.51774 ...</td>\n    </tr>\n    <tr>\n      <th>20317</th>\n      <td>0.004897</td>\n      <td>1.329532e-06</td>\n      <td>NH</td>\n      <td>141033919</td>\n      <td>2005-10-04 22:44:33+00:00</td>\n      <td>2</td>\n      <td>00868638</td>\n      <td>Mud Pond</td>\n      <td>0.012009</td>\n      <td>NaN</td>\n      <td>01060003010676</td>\n      <td>390</td>\n      <td>39004</td>\n      <td>0</td>\n      <td>5.000600e+12</td>\n      <td>0106</td>\n      <td>{4A7151C7-C56C-4E55-BDB4-5DBA65CADD9F}</td>\n      <td>MULTIPOLYGON (((-71.28447 43.17797, -71.28439 ...</td>\n    </tr>\n    <tr>\n      <th>20591</th>\n      <td>0.004105</td>\n      <td>1.065523e-06</td>\n      <td>NH</td>\n      <td>91153077</td>\n      <td>2003-07-21 00:00:00+00:00</td>\n      <td>2</td>\n      <td>00868651</td>\n      <td>Mud Pond</td>\n      <td>0.009323</td>\n      <td>NaN</td>\n      <td>01080101003712</td>\n      <td>390</td>\n      <td>39004</td>\n      <td>0</td>\n      <td>1.000090e+13</td>\n      <td>0108</td>\n      <td>{633DBCB5-85BF-4E08-90DD-65C1389BF308}</td>\n      <td>MULTIPOLYGON (((-71.3776 45.08256, -71.37777 4...</td>\n    </tr>\n    <tr>\n      <th>23579</th>\n      <td>0.009439</td>\n      <td>3.965512e-06</td>\n      <td>NH</td>\n      <td>118181992</td>\n      <td>2004-01-14 00:00:00+00:00</td>\n      <td>2</td>\n      <td>00868650</td>\n      <td>Mud Pond</td>\n      <td>0.034927</td>\n      <td>NaN</td>\n      <td>01040001000742</td>\n      <td>390</td>\n      <td>39004</td>\n      <td>0</td>\n      <td>5.000300e+12</td>\n      <td>0104</td>\n      <td>{20331D7E-EC18-47D7-92E7-E4B7B1DC6595}</td>\n      <td>MULTIPOLYGON (((-71.27714 44.69994, -71.27717 ...</td>\n    </tr>\n    <tr>\n      <th>23711</th>\n      <td>0.011995</td>\n      <td>3.970923e-06</td>\n      <td>NH</td>\n      <td>91154501</td>\n      <td>2003-07-21 00:00:00+00:00</td>\n      <td>2</td>\n      <td>00868647</td>\n      <td>Mud Pond</td>\n      <td>0.035054</td>\n      <td>315.5</td>\n      <td>01080101000973</td>\n      <td>390</td>\n      <td>39009</td>\n      <td>0</td>\n      <td>1.000090e+13</td>\n      <td>0108</td>\n      <td>{CD682287-5837-4903-B1C5-0473CD656040}</td>\n      <td>MULTIPOLYGON (((-71.27273 44.56471, -71.27287 ...</td>\n    </tr>\n    <tr>\n      <th>27124</th>\n      <td>0.008525</td>\n      <td>2.704690e-06</td>\n      <td>NH</td>\n      <td>120803252</td>\n      <td>2004-05-26 07:18:45+00:00</td>\n      <td>2</td>\n      <td>00868642</td>\n      <td>Mud Pond</td>\n      <td>0.024279</td>\n      <td>210.3</td>\n      <td>01080106001908</td>\n      <td>390</td>\n      <td>39009</td>\n      <td>0</td>\n      <td>1.000090e+13</td>\n      <td>0108</td>\n      <td>{D12DA616-3E86-4017-B5DF-FC0579261AD4}</td>\n      <td>MULTIPOLYGON (((-72.31865 43.56229, -72.31859 ...</td>\n    </tr>\n  </tbody>\n</table>\n</div>"
     },
     "execution_count": 10,
     "metadata": {},
     "output_type": "execute_result"
    }
   ],
   "execution_count": 10,
   "source": [
    "mudpond"
   ],
   "id": "dac10c9c41517666"
  },
  {
   "cell_type": "code",
   "outputs": [],
   "source": [
    "consolidated = gdf.dissolve(by='gnis_name', as_index=False)"
   ],
   "metadata": {
    "collapsed": false,
    "ExecuteTime": {
     "end_time": "2024-11-19T02:55:39.105876700Z",
     "start_time": "2024-11-19T02:55:38.965889400Z"
    }
   },
   "id": "f95feaf3dc9541e5",
   "execution_count": 11
  },
  {
   "cell_type": "code",
   "outputs": [
    {
     "data": {
      "text/plain": "                   gnis_name  \\\n0          Abe Emerson Marsh   \n1                 Adams Pond   \n2                 Adder Pond   \n3    Airport Marsh Reservoir   \n4                 Akers Pond   \n..                       ...   \n943              Wright Pond   \n944                York Pond   \n945            Zeacliff Pond   \n946             Zealand Pond   \n947              Zephyr Lake   \n\n                                              geometry  Shape_Length  \\\n0    POLYGON ((-71.28884 43.04177, -71.28888 43.041...      0.044206   \n1    MULTIPOLYGON (((-71.27322 42.91623, -71.27333 ...      0.024608   \n2    POLYGON ((-71.80602 43.44713, -71.80634 43.446...      0.015388   \n3    POLYGON ((-71.55566 44.36499, -71.55586 44.365...      0.014053   \n4    POLYGON ((-71.16159 44.8096, -71.16152 44.8095...      0.079533   \n..                                                 ...           ...   \n943  POLYGON ((-71.22955 45.2211, -71.22982 45.2212...      0.007114   \n944  POLYGON ((-71.33934 44.50233, -71.33926 44.502...      0.016025   \n945  POLYGON ((-71.50629 44.18246, -71.50647 44.182...      0.002298   \n946  POLYGON ((-71.49144 44.19596, -71.49152 44.196...      0.003829   \n947  POLYGON ((-71.85981 42.93567, -71.85972 42.935...      0.019339   \n\n       Shape_Area statecode permanent_identifier                     fdate  \\\n0    3.385521e-05        NH            141036851 2005-10-04 11:22:36+00:00   \n1    9.281384e-06        NH            135910038 2005-05-30 14:03:03+00:00   \n2    1.214447e-05        NH            135993959 2005-06-03 13:11:13+00:00   \n3    5.653527e-06        NH             87402201 2003-06-18 00:00:00+00:00   \n4    1.272015e-04        NH            118181794 2004-01-14 00:00:00+00:00   \n..            ...       ...                  ...                       ...   \n943  2.327830e-06        NH             91152627 2003-07-21 00:00:00+00:00   \n944  9.908890e-06        NH             91154789 2003-07-21 00:00:00+00:00   \n945  3.803941e-07        NH             92796875 2003-08-04 00:00:00+00:00   \n946  9.502695e-07        NH             92796865 2003-08-04 00:00:00+00:00   \n947  1.552879e-05        NH            135999219 2005-06-03 15:03:02+00:00   \n\n     resolution   gnis_id  areasqkm  elevation       reachcode  ftype  fcode  \\\n0             2  01914133  0.306466        NaN            None    466  46600   \n1             2  00865201  0.084187       97.8  01070006001724    390  39009   \n2             2  00865203  0.109221      196.3  01070003001276    390  39009   \n3             2  01775209  0.050076      315.0  01080103000652    390  39009   \n4             2  00865208  1.118414        NaN  01040001000721    390  39004   \n..          ...       ...       ...        ...             ...    ...    ...   \n943           2  00871008  0.020319        NaN  01080101000884    390  39004   \n944           2  00871018  0.087565      455.1  01080101004464    390  39009   \n945           2  00872971  0.003380        NaN  01070001001067    390  39004   \n946           2  00873013  0.008441        NaN  01070001002747    390  39004   \n947           2  00871026  0.140819      250.2  01070003001441    390  39009   \n\n     visibilityfilter     nhdplusid vpuid  \\\n0                   0  5.000600e+12  0106   \n1                   0  5.000900e+12  0107   \n2                   0  5.000900e+12  0107   \n3                   0  1.000090e+13  0108   \n4                   0  5.000300e+12  0104   \n..                ...           ...   ...   \n943                 0  1.000090e+13  0108   \n944                 0  1.000090e+13  0108   \n945                 0  5.000900e+12  0107   \n946                 0  5.000900e+12  0107   \n947                 0  5.000900e+12  0107   \n\n                                   GlobalID  \n0    {83FA900E-BEB7-4C1D-9881-170F62280D70}  \n1    {1AEE1D65-CD30-462F-AFA4-F0A8B970C355}  \n2    {6A9A444A-738F-44A6-ADF9-96E78FDF1505}  \n3    {2E43D070-E96F-46D6-947E-29686785D9BB}  \n4    {DEDCAA74-63B8-409D-B936-082382A974B6}  \n..                                      ...  \n943  {468A1A21-8F30-46FB-9D81-7BFC3676F6D7}  \n944  {393B7566-0D40-4098-88AE-2EF33338337B}  \n945  {C269458E-82D6-41BE-9E7A-15B912511A87}  \n946  {B2F40866-84E9-4736-A9E4-B0AC1EA97E44}  \n947  {D87B82DF-319C-4400-9085-4B9DDE600A6C}  \n\n[948 rows x 18 columns]",
      "text/html": "<div>\n<style scoped>\n    .dataframe tbody tr th:only-of-type {\n        vertical-align: middle;\n    }\n\n    .dataframe tbody tr th {\n        vertical-align: top;\n    }\n\n    .dataframe thead th {\n        text-align: right;\n    }\n</style>\n<table border=\"1\" class=\"dataframe\">\n  <thead>\n    <tr style=\"text-align: right;\">\n      <th></th>\n      <th>gnis_name</th>\n      <th>geometry</th>\n      <th>Shape_Length</th>\n      <th>Shape_Area</th>\n      <th>statecode</th>\n      <th>permanent_identifier</th>\n      <th>fdate</th>\n      <th>resolution</th>\n      <th>gnis_id</th>\n      <th>areasqkm</th>\n      <th>elevation</th>\n      <th>reachcode</th>\n      <th>ftype</th>\n      <th>fcode</th>\n      <th>visibilityfilter</th>\n      <th>nhdplusid</th>\n      <th>vpuid</th>\n      <th>GlobalID</th>\n    </tr>\n  </thead>\n  <tbody>\n    <tr>\n      <th>0</th>\n      <td>Abe Emerson Marsh</td>\n      <td>POLYGON ((-71.28884 43.04177, -71.28888 43.041...</td>\n      <td>0.044206</td>\n      <td>3.385521e-05</td>\n      <td>NH</td>\n      <td>141036851</td>\n      <td>2005-10-04 11:22:36+00:00</td>\n      <td>2</td>\n      <td>01914133</td>\n      <td>0.306466</td>\n      <td>NaN</td>\n      <td>None</td>\n      <td>466</td>\n      <td>46600</td>\n      <td>0</td>\n      <td>5.000600e+12</td>\n      <td>0106</td>\n      <td>{83FA900E-BEB7-4C1D-9881-170F62280D70}</td>\n    </tr>\n    <tr>\n      <th>1</th>\n      <td>Adams Pond</td>\n      <td>MULTIPOLYGON (((-71.27322 42.91623, -71.27333 ...</td>\n      <td>0.024608</td>\n      <td>9.281384e-06</td>\n      <td>NH</td>\n      <td>135910038</td>\n      <td>2005-05-30 14:03:03+00:00</td>\n      <td>2</td>\n      <td>00865201</td>\n      <td>0.084187</td>\n      <td>97.8</td>\n      <td>01070006001724</td>\n      <td>390</td>\n      <td>39009</td>\n      <td>0</td>\n      <td>5.000900e+12</td>\n      <td>0107</td>\n      <td>{1AEE1D65-CD30-462F-AFA4-F0A8B970C355}</td>\n    </tr>\n    <tr>\n      <th>2</th>\n      <td>Adder Pond</td>\n      <td>POLYGON ((-71.80602 43.44713, -71.80634 43.446...</td>\n      <td>0.015388</td>\n      <td>1.214447e-05</td>\n      <td>NH</td>\n      <td>135993959</td>\n      <td>2005-06-03 13:11:13+00:00</td>\n      <td>2</td>\n      <td>00865203</td>\n      <td>0.109221</td>\n      <td>196.3</td>\n      <td>01070003001276</td>\n      <td>390</td>\n      <td>39009</td>\n      <td>0</td>\n      <td>5.000900e+12</td>\n      <td>0107</td>\n      <td>{6A9A444A-738F-44A6-ADF9-96E78FDF1505}</td>\n    </tr>\n    <tr>\n      <th>3</th>\n      <td>Airport Marsh Reservoir</td>\n      <td>POLYGON ((-71.55566 44.36499, -71.55586 44.365...</td>\n      <td>0.014053</td>\n      <td>5.653527e-06</td>\n      <td>NH</td>\n      <td>87402201</td>\n      <td>2003-06-18 00:00:00+00:00</td>\n      <td>2</td>\n      <td>01775209</td>\n      <td>0.050076</td>\n      <td>315.0</td>\n      <td>01080103000652</td>\n      <td>390</td>\n      <td>39009</td>\n      <td>0</td>\n      <td>1.000090e+13</td>\n      <td>0108</td>\n      <td>{2E43D070-E96F-46D6-947E-29686785D9BB}</td>\n    </tr>\n    <tr>\n      <th>4</th>\n      <td>Akers Pond</td>\n      <td>POLYGON ((-71.16159 44.8096, -71.16152 44.8095...</td>\n      <td>0.079533</td>\n      <td>1.272015e-04</td>\n      <td>NH</td>\n      <td>118181794</td>\n      <td>2004-01-14 00:00:00+00:00</td>\n      <td>2</td>\n      <td>00865208</td>\n      <td>1.118414</td>\n      <td>NaN</td>\n      <td>01040001000721</td>\n      <td>390</td>\n      <td>39004</td>\n      <td>0</td>\n      <td>5.000300e+12</td>\n      <td>0104</td>\n      <td>{DEDCAA74-63B8-409D-B936-082382A974B6}</td>\n    </tr>\n    <tr>\n      <th>...</th>\n      <td>...</td>\n      <td>...</td>\n      <td>...</td>\n      <td>...</td>\n      <td>...</td>\n      <td>...</td>\n      <td>...</td>\n      <td>...</td>\n      <td>...</td>\n      <td>...</td>\n      <td>...</td>\n      <td>...</td>\n      <td>...</td>\n      <td>...</td>\n      <td>...</td>\n      <td>...</td>\n      <td>...</td>\n      <td>...</td>\n    </tr>\n    <tr>\n      <th>943</th>\n      <td>Wright Pond</td>\n      <td>POLYGON ((-71.22955 45.2211, -71.22982 45.2212...</td>\n      <td>0.007114</td>\n      <td>2.327830e-06</td>\n      <td>NH</td>\n      <td>91152627</td>\n      <td>2003-07-21 00:00:00+00:00</td>\n      <td>2</td>\n      <td>00871008</td>\n      <td>0.020319</td>\n      <td>NaN</td>\n      <td>01080101000884</td>\n      <td>390</td>\n      <td>39004</td>\n      <td>0</td>\n      <td>1.000090e+13</td>\n      <td>0108</td>\n      <td>{468A1A21-8F30-46FB-9D81-7BFC3676F6D7}</td>\n    </tr>\n    <tr>\n      <th>944</th>\n      <td>York Pond</td>\n      <td>POLYGON ((-71.33934 44.50233, -71.33926 44.502...</td>\n      <td>0.016025</td>\n      <td>9.908890e-06</td>\n      <td>NH</td>\n      <td>91154789</td>\n      <td>2003-07-21 00:00:00+00:00</td>\n      <td>2</td>\n      <td>00871018</td>\n      <td>0.087565</td>\n      <td>455.1</td>\n      <td>01080101004464</td>\n      <td>390</td>\n      <td>39009</td>\n      <td>0</td>\n      <td>1.000090e+13</td>\n      <td>0108</td>\n      <td>{393B7566-0D40-4098-88AE-2EF33338337B}</td>\n    </tr>\n    <tr>\n      <th>945</th>\n      <td>Zeacliff Pond</td>\n      <td>POLYGON ((-71.50629 44.18246, -71.50647 44.182...</td>\n      <td>0.002298</td>\n      <td>3.803941e-07</td>\n      <td>NH</td>\n      <td>92796875</td>\n      <td>2003-08-04 00:00:00+00:00</td>\n      <td>2</td>\n      <td>00872971</td>\n      <td>0.003380</td>\n      <td>NaN</td>\n      <td>01070001001067</td>\n      <td>390</td>\n      <td>39004</td>\n      <td>0</td>\n      <td>5.000900e+12</td>\n      <td>0107</td>\n      <td>{C269458E-82D6-41BE-9E7A-15B912511A87}</td>\n    </tr>\n    <tr>\n      <th>946</th>\n      <td>Zealand Pond</td>\n      <td>POLYGON ((-71.49144 44.19596, -71.49152 44.196...</td>\n      <td>0.003829</td>\n      <td>9.502695e-07</td>\n      <td>NH</td>\n      <td>92796865</td>\n      <td>2003-08-04 00:00:00+00:00</td>\n      <td>2</td>\n      <td>00873013</td>\n      <td>0.008441</td>\n      <td>NaN</td>\n      <td>01070001002747</td>\n      <td>390</td>\n      <td>39004</td>\n      <td>0</td>\n      <td>5.000900e+12</td>\n      <td>0107</td>\n      <td>{B2F40866-84E9-4736-A9E4-B0AC1EA97E44}</td>\n    </tr>\n    <tr>\n      <th>947</th>\n      <td>Zephyr Lake</td>\n      <td>POLYGON ((-71.85981 42.93567, -71.85972 42.935...</td>\n      <td>0.019339</td>\n      <td>1.552879e-05</td>\n      <td>NH</td>\n      <td>135999219</td>\n      <td>2005-06-03 15:03:02+00:00</td>\n      <td>2</td>\n      <td>00871026</td>\n      <td>0.140819</td>\n      <td>250.2</td>\n      <td>01070003001441</td>\n      <td>390</td>\n      <td>39009</td>\n      <td>0</td>\n      <td>5.000900e+12</td>\n      <td>0107</td>\n      <td>{D87B82DF-319C-4400-9085-4B9DDE600A6C}</td>\n    </tr>\n  </tbody>\n</table>\n<p>948 rows × 18 columns</p>\n</div>"
     },
     "execution_count": 13,
     "metadata": {},
     "output_type": "execute_result"
    }
   ],
   "source": [
    "consolidated"
   ],
   "metadata": {
    "collapsed": false,
    "ExecuteTime": {
     "end_time": "2024-11-19T02:55:50.199170100Z",
     "start_time": "2024-11-19T02:55:50.186635900Z"
    }
   },
   "id": "9bb7678b4ef6a9c3",
   "execution_count": 13
  },
  {
   "cell_type": "code",
   "outputs": [
    {
     "data": {
      "text/plain": "gnis_name\nAbe Emerson Marsh       1\nOttarnic Pond           1\nOak Hill Reservoir      1\nOccom Pond              1\nOdiorne Pond            1\n                       ..\nGreeley Ponds           1\nGreenough Pond          1\nGreens Pond             1\nGreenville Reservoir    1\nZephyr Lake             1\nName: count, Length: 948, dtype: int64"
     },
     "execution_count": 20,
     "metadata": {},
     "output_type": "execute_result"
    }
   ],
   "source": [
    "consolidated.sort_values(by='gnis_name', ascending=True, inplace=True)\n",
    "consolidated['gnis_name'].value_counts()"
   ],
   "metadata": {
    "collapsed": false,
    "ExecuteTime": {
     "end_time": "2024-11-19T03:04:18.245482300Z",
     "start_time": "2024-11-19T03:04:18.236841800Z"
    }
   },
   "id": "ab5d8ed8b01dea1",
   "execution_count": 20
  },
  {
   "cell_type": "code",
   "outputs": [],
   "source": [
    "unknowns = [\n",
    "'Pool Pond', 'Surry Mountain Lake', 'White Park Pond', 'Otternick Pond', \n",
    "    'Townhouse Pond', 'Hothole Pond', 'Nashua River (Mine Falls)', 'Middle Danforth Pond',\n",
    "    \"Captain Pond\", 'Adder Pond', 'Hopkins Pond', 'Wash Pond', 'Sunset Lake']\n",
    "\n",
    "mask = gdf['gnis_name'].isin(unknowns)"
   ],
   "metadata": {
    "collapsed": false,
    "ExecuteTime": {
     "end_time": "2024-11-19T03:08:22.623317100Z",
     "start_time": "2024-11-19T03:08:22.612814600Z"
    }
   },
   "id": "f9f6213c264a192a",
   "execution_count": 23
  },
  {
   "cell_type": "code",
   "outputs": [],
   "source": [
    "stuff = mask[mask]"
   ],
   "metadata": {
    "collapsed": false,
    "ExecuteTime": {
     "end_time": "2024-11-19T03:08:58.789602700Z",
     "start_time": "2024-11-19T03:08:58.780854200Z"
    }
   },
   "id": "3dd15775977a9c94",
   "execution_count": 27
  },
  {
   "cell_type": "code",
   "outputs": [
    {
     "data": {
      "text/plain": "1971     True\n3185     True\n5898     True\n14170    True\n16073    True\n16888    True\n19862    True\nName: gnis_name, dtype: bool"
     },
     "execution_count": 28,
     "metadata": {},
     "output_type": "execute_result"
    }
   ],
   "source": [
    "stuff"
   ],
   "metadata": {
    "collapsed": false,
    "ExecuteTime": {
     "end_time": "2024-11-19T03:09:04.564592800Z",
     "start_time": "2024-11-19T03:09:04.562160500Z"
    }
   },
   "id": "3cb6adba2a9a095a",
   "execution_count": 28
  },
  {
   "cell_type": "code",
   "outputs": [],
   "source": [
    "true_values = gdf[mask]['gnis_name'].tolist()"
   ],
   "metadata": {
    "collapsed": false,
    "ExecuteTime": {
     "end_time": "2024-11-19T03:10:23.101730300Z",
     "start_time": "2024-11-19T03:10:23.094654300Z"
    }
   },
   "id": "79344ef70b4123f1",
   "execution_count": 29
  },
  {
   "cell_type": "code",
   "outputs": [
    {
     "data": {
      "text/plain": "['Adder Pond',\n 'Pool Pond',\n 'Sunset Lake',\n 'Wash Pond',\n 'Captain Pond',\n 'Hothole Pond',\n 'Sunset Lake']"
     },
     "execution_count": 30,
     "metadata": {},
     "output_type": "execute_result"
    }
   ],
   "source": [
    "true_values"
   ],
   "metadata": {
    "collapsed": false,
    "ExecuteTime": {
     "end_time": "2024-11-19T03:10:26.217118900Z",
     "start_time": "2024-11-19T03:10:26.215068700Z"
    }
   },
   "id": "1c73286176ee0d80",
   "execution_count": 30
  },
  {
   "cell_type": "code",
   "outputs": [],
   "source": [],
   "metadata": {
    "collapsed": false
   },
   "id": "8638fe08c15eb9bb"
  }
 ],
 "metadata": {
  "kernelspec": {
   "display_name": "Python 3",
   "language": "python",
   "name": "python3"
  },
  "language_info": {
   "codemirror_mode": {
    "name": "ipython",
    "version": 2
   },
   "file_extension": ".py",
   "mimetype": "text/x-python",
   "name": "python",
   "nbconvert_exporter": "python",
   "pygments_lexer": "ipython2",
   "version": "2.7.6"
  }
 },
 "nbformat": 4,
 "nbformat_minor": 5
}
