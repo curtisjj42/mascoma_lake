{
 "cells": [
  {
   "cell_type": "code",
   "execution_count": 1,
   "id": "initial_id",
   "metadata": {
    "collapsed": true,
    "ExecuteTime": {
     "end_time": "2024-11-30T18:47:15.393176200Z",
     "start_time": "2024-11-30T18:46:14.182129Z"
    }
   },
   "outputs": [],
   "source": [
    "import geopandas as gpd\n",
    "import warnings\n",
    "warnings.filterwarnings(\"ignore\")\n",
    "\n",
    "# lakes_gdf = gpd.read_file('Data/NH_Wildlife_Action_Plan_2020_-_Aquatic_Habitat_(Lakes_Ponds).geojson')\n",
    "wetlands_gdf = gpd.read_file('Data/NH_Wetlands_Geopackage.gpkg', layer='NH_Wetlands')\n",
    "bloom_data = gpd.read_file(\"Data/cyanobacteria_geocoded_full5.gpkg\")\n",
    "\n",
    "wetlands_gdf = wetlands_gdf.to_crs(\"EPSG:3857\")\n",
    "bloom_data = bloom_data.to_crs(\"EPSG:3857\")"
   ]
  },
  {
   "cell_type": "code",
   "outputs": [],
   "source": [
    "lakes = wetlands_gdf[wetlands_gdf['WETLAND_TYPE'].isin([\"Lake\", \"Freshwater Pond\"])]\n",
    "wetlands = wetlands_gdf[wetlands_gdf['WETLAND_TYPE'].isin([\"Estuarine and Marine Wetland\",\n",
    "                                                          \"Freshwater Emergent Wetland\",\n",
    "                                                          \"Freshwater Forested/Shrub Wetland\"])]\n",
    "\n",
    "merged_blooms_lakes = gpd.sjoin(bloom_data, lakes, how='inner', op='intersects')\n",
    "\n",
    "merged_blooms_lakes.drop(columns=['identifier', 'date_advisory_removed', 'auid', 'Cleaned_Name', 'gnis_name', 'statecode', 'fdate', 'resolution', 'reachcode', 'ftype', 'fcode', 'visibilityfilter', 'nhdplusid', 'vpuid', 'GlobalID', 'index_right'], inplace=True)"
   ],
   "metadata": {
    "collapsed": false,
    "ExecuteTime": {
     "end_time": "2024-11-30T18:47:23.396973800Z",
     "start_time": "2024-11-30T18:47:15.393176200Z"
    }
   },
   "id": "33a569f9d94954e3",
   "execution_count": 2
  },
  {
   "cell_type": "code",
   "outputs": [
    {
     "data": {
      "text/plain": "    date_advisory_issued                                           geometry  \\\n0             2019-10-11  MULTIPOLYGON (((-7993409.975 5380279.400, -799...   \n1             2022-10-06  MULTIPOLYGON (((-7993409.975 5380279.400, -799...   \n2             2010-05-25  MULTIPOLYGON (((-7921916.903 5296831.789, -792...   \n3             2021-08-25  MULTIPOLYGON (((-7921916.903 5296831.789, -792...   \n4             2022-09-12  MULTIPOLYGON (((-7921916.903 5296831.789, -792...   \n..                   ...                                                ...   \n654           2020-08-09  MULTIPOLYGON (((-7967191.988 5415879.976, -796...   \n655           2023-07-27  MULTIPOLYGON (((-7967191.988 5415879.976, -796...   \n656           2005-08-03  MULTIPOLYGON (((-7941459.002 5543510.290, -794...   \n657           2008-07-30  MULTIPOLYGON (((-7941459.002 5543510.290, -794...   \n658           2009-07-14  MULTIPOLYGON (((-7941459.002 5543510.290, -794...   \n\n                        lake         town            dominant_taxa  \\\n0    Adder Pond/Hopkins Pond      Andover  Anabaena/Dolichospermum   \n1    Adder Pond/Hopkins Pond      Andover            Chrysosporum    \n2                 Angle Pond      Sandown                 Anabaena   \n3                 Angle Pond      Sandown                     None   \n4                 Angle Pond      Sandown           Dolichospermum   \n..                       ...          ...                      ...   \n654             Winona, Lake  New Hampton                     None   \n655             Winona, Lake  New Hampton           Dolichospermum   \n656                York Pond       Berlin            Aphanizomenon   \n657                York Pond       Berlin            Aphanizomenon   \n658                York Pond       Berlin            Aphanizomenon   \n\n    total_cell_concentration  advisory_days notification_type  year YearMonth  \\\n0                  3,580,000           41.0           Warning  2019   2019-10   \n1                  3,100,000           43.0           Warning  2022   2022-10   \n2                    235,000            9.0           Warning  2010   2010-05   \n3                       None            NaN             Alert  2021   2021-08   \n4                    138,200            7.0           Warning  2022   2022-09   \n..                       ...            ...               ...   ...       ...   \n654                     None            NaN             Alert  2020   2020-08   \n655                  950,000            7.0           Warning  2023   2023-07   \n656          >70,000 or >50%           48.0           Warning  2005   2005-08   \n657          >70,000 or >50%          124.0           Warning  2008   2008-07   \n658                  100,000          105.0           Warning  2009   2009-07   \n\n     Shape_Length  Shape_Area permanent_identifier   gnis_id  areasqkm  \\\n0        0.015388    0.000012            135993959  00865203  0.109221   \n1        0.015388    0.000012            135993959  00865203  0.109221   \n2        0.049024    0.000072            135909961  00865245  0.650459   \n3        0.049024    0.000072            135909961  00865245  0.650459   \n4        0.049024    0.000072            135909961  00865245  0.650459   \n..            ...         ...                  ...       ...       ...   \n654           NaN         NaN                 None      None       NaN   \n655           NaN         NaN                 None      None       NaN   \n656      0.016025    0.000010             91154789  00871018  0.087565   \n657      0.016025    0.000010             91154789  00871018  0.087565   \n658      0.016025    0.000010             91154789  00871018  0.087565   \n\n     elevation       ATTRIBUTE WETLAND_TYPE       ACRES  \\\n0        196.3  [L1ABH, L1UBH]       [Lake]   28.395538   \n1        196.3  [L1ABH, L1UBH]       [Lake]   28.395538   \n2         67.1  [L1UBH, L1ABH]       [Lake]  161.385552   \n3         67.1  [L1UBH, L1ABH]       [Lake]  161.385552   \n4         67.1  [L1UBH, L1ABH]       [Lake]  161.385552   \n..         ...             ...          ...         ...   \n654        NaN         [L1UBH]       [Lake]  109.462028   \n655        NaN         [L1UBH]       [Lake]  109.462028   \n656      455.1        [L2UBHh]       [Lake]   23.055085   \n657      455.1        [L2UBHh]       [Lake]   23.055085   \n658      455.1        [L2UBHh]       [Lake]   23.055085   \n\n                                                NWI_ID  \n0    202409CSw{1ADFAE7F-219D-4F46-B4A0-77028F0E126F...  \n1    202409CSw{1ADFAE7F-219D-4F46-B4A0-77028F0E126F...  \n2    202409CSw{37230243-4B9F-4054-B052-039EC1BA33BB...  \n3    202409CSw{37230243-4B9F-4054-B052-039EC1BA33BB...  \n4    202409CSw{37230243-4B9F-4054-B052-039EC1BA33BB...  \n..                                                 ...  \n654  202409CSw{E8D14D59-7A54-4039-A53E-D19B726068EC...  \n655  202409CSw{E8D14D59-7A54-4039-A53E-D19B726068EC...  \n656  202409CSw{C1C8CD5D-99E9-48D3-A9BA-33211910441A...  \n657  202409CSw{C1C8CD5D-99E9-48D3-A9BA-33211910441A...  \n658  202409CSw{C1C8CD5D-99E9-48D3-A9BA-33211910441A...  \n\n[659 rows x 20 columns]",
      "text/html": "<div>\n<style scoped>\n    .dataframe tbody tr th:only-of-type {\n        vertical-align: middle;\n    }\n\n    .dataframe tbody tr th {\n        vertical-align: top;\n    }\n\n    .dataframe thead th {\n        text-align: right;\n    }\n</style>\n<table border=\"1\" class=\"dataframe\">\n  <thead>\n    <tr style=\"text-align: right;\">\n      <th></th>\n      <th>date_advisory_issued</th>\n      <th>geometry</th>\n      <th>lake</th>\n      <th>town</th>\n      <th>dominant_taxa</th>\n      <th>total_cell_concentration</th>\n      <th>advisory_days</th>\n      <th>notification_type</th>\n      <th>year</th>\n      <th>YearMonth</th>\n      <th>Shape_Length</th>\n      <th>Shape_Area</th>\n      <th>permanent_identifier</th>\n      <th>gnis_id</th>\n      <th>areasqkm</th>\n      <th>elevation</th>\n      <th>ATTRIBUTE</th>\n      <th>WETLAND_TYPE</th>\n      <th>ACRES</th>\n      <th>NWI_ID</th>\n    </tr>\n  </thead>\n  <tbody>\n    <tr>\n      <th>0</th>\n      <td>2019-10-11</td>\n      <td>MULTIPOLYGON (((-7993409.975 5380279.400, -799...</td>\n      <td>Adder Pond/Hopkins Pond</td>\n      <td>Andover</td>\n      <td>Anabaena/Dolichospermum</td>\n      <td>3,580,000</td>\n      <td>41.0</td>\n      <td>Warning</td>\n      <td>2019</td>\n      <td>2019-10</td>\n      <td>0.015388</td>\n      <td>0.000012</td>\n      <td>135993959</td>\n      <td>00865203</td>\n      <td>0.109221</td>\n      <td>196.3</td>\n      <td>[L1ABH, L1UBH]</td>\n      <td>[Lake]</td>\n      <td>28.395538</td>\n      <td>202409CSw{1ADFAE7F-219D-4F46-B4A0-77028F0E126F...</td>\n    </tr>\n    <tr>\n      <th>1</th>\n      <td>2022-10-06</td>\n      <td>MULTIPOLYGON (((-7993409.975 5380279.400, -799...</td>\n      <td>Adder Pond/Hopkins Pond</td>\n      <td>Andover</td>\n      <td>Chrysosporum</td>\n      <td>3,100,000</td>\n      <td>43.0</td>\n      <td>Warning</td>\n      <td>2022</td>\n      <td>2022-10</td>\n      <td>0.015388</td>\n      <td>0.000012</td>\n      <td>135993959</td>\n      <td>00865203</td>\n      <td>0.109221</td>\n      <td>196.3</td>\n      <td>[L1ABH, L1UBH]</td>\n      <td>[Lake]</td>\n      <td>28.395538</td>\n      <td>202409CSw{1ADFAE7F-219D-4F46-B4A0-77028F0E126F...</td>\n    </tr>\n    <tr>\n      <th>2</th>\n      <td>2010-05-25</td>\n      <td>MULTIPOLYGON (((-7921916.903 5296831.789, -792...</td>\n      <td>Angle Pond</td>\n      <td>Sandown</td>\n      <td>Anabaena</td>\n      <td>235,000</td>\n      <td>9.0</td>\n      <td>Warning</td>\n      <td>2010</td>\n      <td>2010-05</td>\n      <td>0.049024</td>\n      <td>0.000072</td>\n      <td>135909961</td>\n      <td>00865245</td>\n      <td>0.650459</td>\n      <td>67.1</td>\n      <td>[L1UBH, L1ABH]</td>\n      <td>[Lake]</td>\n      <td>161.385552</td>\n      <td>202409CSw{37230243-4B9F-4054-B052-039EC1BA33BB...</td>\n    </tr>\n    <tr>\n      <th>3</th>\n      <td>2021-08-25</td>\n      <td>MULTIPOLYGON (((-7921916.903 5296831.789, -792...</td>\n      <td>Angle Pond</td>\n      <td>Sandown</td>\n      <td>None</td>\n      <td>None</td>\n      <td>NaN</td>\n      <td>Alert</td>\n      <td>2021</td>\n      <td>2021-08</td>\n      <td>0.049024</td>\n      <td>0.000072</td>\n      <td>135909961</td>\n      <td>00865245</td>\n      <td>0.650459</td>\n      <td>67.1</td>\n      <td>[L1UBH, L1ABH]</td>\n      <td>[Lake]</td>\n      <td>161.385552</td>\n      <td>202409CSw{37230243-4B9F-4054-B052-039EC1BA33BB...</td>\n    </tr>\n    <tr>\n      <th>4</th>\n      <td>2022-09-12</td>\n      <td>MULTIPOLYGON (((-7921916.903 5296831.789, -792...</td>\n      <td>Angle Pond</td>\n      <td>Sandown</td>\n      <td>Dolichospermum</td>\n      <td>138,200</td>\n      <td>7.0</td>\n      <td>Warning</td>\n      <td>2022</td>\n      <td>2022-09</td>\n      <td>0.049024</td>\n      <td>0.000072</td>\n      <td>135909961</td>\n      <td>00865245</td>\n      <td>0.650459</td>\n      <td>67.1</td>\n      <td>[L1UBH, L1ABH]</td>\n      <td>[Lake]</td>\n      <td>161.385552</td>\n      <td>202409CSw{37230243-4B9F-4054-B052-039EC1BA33BB...</td>\n    </tr>\n    <tr>\n      <th>...</th>\n      <td>...</td>\n      <td>...</td>\n      <td>...</td>\n      <td>...</td>\n      <td>...</td>\n      <td>...</td>\n      <td>...</td>\n      <td>...</td>\n      <td>...</td>\n      <td>...</td>\n      <td>...</td>\n      <td>...</td>\n      <td>...</td>\n      <td>...</td>\n      <td>...</td>\n      <td>...</td>\n      <td>...</td>\n      <td>...</td>\n      <td>...</td>\n      <td>...</td>\n    </tr>\n    <tr>\n      <th>654</th>\n      <td>2020-08-09</td>\n      <td>MULTIPOLYGON (((-7967191.988 5415879.976, -796...</td>\n      <td>Winona, Lake</td>\n      <td>New Hampton</td>\n      <td>None</td>\n      <td>None</td>\n      <td>NaN</td>\n      <td>Alert</td>\n      <td>2020</td>\n      <td>2020-08</td>\n      <td>NaN</td>\n      <td>NaN</td>\n      <td>None</td>\n      <td>None</td>\n      <td>NaN</td>\n      <td>NaN</td>\n      <td>[L1UBH]</td>\n      <td>[Lake]</td>\n      <td>109.462028</td>\n      <td>202409CSw{E8D14D59-7A54-4039-A53E-D19B726068EC...</td>\n    </tr>\n    <tr>\n      <th>655</th>\n      <td>2023-07-27</td>\n      <td>MULTIPOLYGON (((-7967191.988 5415879.976, -796...</td>\n      <td>Winona, Lake</td>\n      <td>New Hampton</td>\n      <td>Dolichospermum</td>\n      <td>950,000</td>\n      <td>7.0</td>\n      <td>Warning</td>\n      <td>2023</td>\n      <td>2023-07</td>\n      <td>NaN</td>\n      <td>NaN</td>\n      <td>None</td>\n      <td>None</td>\n      <td>NaN</td>\n      <td>NaN</td>\n      <td>[L1UBH]</td>\n      <td>[Lake]</td>\n      <td>109.462028</td>\n      <td>202409CSw{E8D14D59-7A54-4039-A53E-D19B726068EC...</td>\n    </tr>\n    <tr>\n      <th>656</th>\n      <td>2005-08-03</td>\n      <td>MULTIPOLYGON (((-7941459.002 5543510.290, -794...</td>\n      <td>York Pond</td>\n      <td>Berlin</td>\n      <td>Aphanizomenon</td>\n      <td>&gt;70,000 or &gt;50%</td>\n      <td>48.0</td>\n      <td>Warning</td>\n      <td>2005</td>\n      <td>2005-08</td>\n      <td>0.016025</td>\n      <td>0.000010</td>\n      <td>91154789</td>\n      <td>00871018</td>\n      <td>0.087565</td>\n      <td>455.1</td>\n      <td>[L2UBHh]</td>\n      <td>[Lake]</td>\n      <td>23.055085</td>\n      <td>202409CSw{C1C8CD5D-99E9-48D3-A9BA-33211910441A...</td>\n    </tr>\n    <tr>\n      <th>657</th>\n      <td>2008-07-30</td>\n      <td>MULTIPOLYGON (((-7941459.002 5543510.290, -794...</td>\n      <td>York Pond</td>\n      <td>Berlin</td>\n      <td>Aphanizomenon</td>\n      <td>&gt;70,000 or &gt;50%</td>\n      <td>124.0</td>\n      <td>Warning</td>\n      <td>2008</td>\n      <td>2008-07</td>\n      <td>0.016025</td>\n      <td>0.000010</td>\n      <td>91154789</td>\n      <td>00871018</td>\n      <td>0.087565</td>\n      <td>455.1</td>\n      <td>[L2UBHh]</td>\n      <td>[Lake]</td>\n      <td>23.055085</td>\n      <td>202409CSw{C1C8CD5D-99E9-48D3-A9BA-33211910441A...</td>\n    </tr>\n    <tr>\n      <th>658</th>\n      <td>2009-07-14</td>\n      <td>MULTIPOLYGON (((-7941459.002 5543510.290, -794...</td>\n      <td>York Pond</td>\n      <td>Berlin</td>\n      <td>Aphanizomenon</td>\n      <td>100,000</td>\n      <td>105.0</td>\n      <td>Warning</td>\n      <td>2009</td>\n      <td>2009-07</td>\n      <td>0.016025</td>\n      <td>0.000010</td>\n      <td>91154789</td>\n      <td>00871018</td>\n      <td>0.087565</td>\n      <td>455.1</td>\n      <td>[L2UBHh]</td>\n      <td>[Lake]</td>\n      <td>23.055085</td>\n      <td>202409CSw{C1C8CD5D-99E9-48D3-A9BA-33211910441A...</td>\n    </tr>\n  </tbody>\n</table>\n<p>659 rows × 20 columns</p>\n</div>"
     },
     "execution_count": 12,
     "metadata": {},
     "output_type": "execute_result"
    }
   ],
   "source": [
    "# Group by 'lake' and 'date_advisory_issued' and aggregate the data\n",
    "aggregated_bloom_data = merged_blooms_lakes.groupby(['lake', 'date_advisory_issued'], as_index=False).agg({  # Count the number of blooms for each combination of lake and advisory date\n",
    "    'geometry': 'first',  # Keep the geometry of the first bloom for each group (or adjust if needed)\n",
    "    'lake': 'first',  # Add more columns here and choose appropriate aggregation functions for each\n",
    "    'town': 'first', 'dominant_taxa': 'first', 'total_cell_concentration': 'first',\n",
    "    'advisory_days': 'first', 'notification_type': 'first', 'year': 'first', 'YearMonth': 'first',\n",
    "    'Shape_Length': 'first', 'Shape_Area': 'first', 'permanent_identifier': 'first', 'gnis_id': 'first',\n",
    "    'areasqkm': 'first', 'elevation': 'first', 'ATTRIBUTE': 'unique',\n",
    "    'WETLAND_TYPE': 'unique', 'ACRES': 'sum', 'NWI_ID': 'first'\n",
    "    # Example:\n",
    "    # 'SomeOtherColumn': 'sum',  # If you want to sum a numeric column\n",
    "    # 'AnotherColumn': 'unique',  # If you want to list unique values in a column\n",
    "})\n",
    "\n",
    "# Check the result\n",
    "aggregated_bloom_data = aggregated_bloom_data.set_geometry('geometry')\n",
    "aggregated_bloom_data"
   ],
   "metadata": {
    "collapsed": false,
    "ExecuteTime": {
     "end_time": "2024-11-30T19:17:20.262910500Z",
     "start_time": "2024-11-30T19:17:20.194797800Z"
    }
   },
   "id": "94a45f7729797dfe",
   "execution_count": 12
  },
  {
   "cell_type": "code",
   "outputs": [],
   "source": [
    "aggregated_bloom_data['buffer'] = aggregated_bloom_data.geometry.buffer(1000)"
   ],
   "metadata": {
    "collapsed": false,
    "ExecuteTime": {
     "end_time": "2024-11-30T19:17:32.177232800Z",
     "start_time": "2024-11-30T19:17:24.736728200Z"
    }
   },
   "id": "824c50d33e63bbb1",
   "execution_count": 13
  },
  {
   "cell_type": "code",
   "outputs": [
    {
     "data": {
      "text/plain": "    date_advisory_issued                                           geometry  \\\n0             2019-10-11  MULTIPOLYGON (((-7993409.975 5380279.400, -799...   \n1             2022-10-06  MULTIPOLYGON (((-7993409.975 5380279.400, -799...   \n2             2010-05-25  MULTIPOLYGON (((-7921916.903 5296831.789, -792...   \n3             2021-08-25  MULTIPOLYGON (((-7921916.903 5296831.789, -792...   \n4             2022-09-12  MULTIPOLYGON (((-7921916.903 5296831.789, -792...   \n..                   ...                                                ...   \n654           2020-08-09  MULTIPOLYGON (((-7967191.988 5415879.976, -796...   \n655           2023-07-27  MULTIPOLYGON (((-7967191.988 5415879.976, -796...   \n656           2005-08-03  MULTIPOLYGON (((-7941459.002 5543510.290, -794...   \n657           2008-07-30  MULTIPOLYGON (((-7941459.002 5543510.290, -794...   \n658           2009-07-14  MULTIPOLYGON (((-7941459.002 5543510.290, -794...   \n\n                        lake         town            dominant_taxa  \\\n0    Adder Pond/Hopkins Pond      Andover  Anabaena/Dolichospermum   \n1    Adder Pond/Hopkins Pond      Andover            Chrysosporum    \n2                 Angle Pond      Sandown                 Anabaena   \n3                 Angle Pond      Sandown                     None   \n4                 Angle Pond      Sandown           Dolichospermum   \n..                       ...          ...                      ...   \n654             Winona, Lake  New Hampton                     None   \n655             Winona, Lake  New Hampton           Dolichospermum   \n656                York Pond       Berlin            Aphanizomenon   \n657                York Pond       Berlin            Aphanizomenon   \n658                York Pond       Berlin            Aphanizomenon   \n\n    total_cell_concentration  advisory_days notification_type  year YearMonth  \\\n0                  3,580,000           41.0           Warning  2019   2019-10   \n1                  3,100,000           43.0           Warning  2022   2022-10   \n2                    235,000            9.0           Warning  2010   2010-05   \n3                       None            NaN             Alert  2021   2021-08   \n4                    138,200            7.0           Warning  2022   2022-09   \n..                       ...            ...               ...   ...       ...   \n654                     None            NaN             Alert  2020   2020-08   \n655                  950,000            7.0           Warning  2023   2023-07   \n656          >70,000 or >50%           48.0           Warning  2005   2005-08   \n657          >70,000 or >50%          124.0           Warning  2008   2008-07   \n658                  100,000          105.0           Warning  2009   2009-07   \n\n     ...  Shape_Area  permanent_identifier   gnis_id  areasqkm  elevation  \\\n0    ...    0.000012             135993959  00865203  0.109221      196.3   \n1    ...    0.000012             135993959  00865203  0.109221      196.3   \n2    ...    0.000072             135909961  00865245  0.650459       67.1   \n3    ...    0.000072             135909961  00865245  0.650459       67.1   \n4    ...    0.000072             135909961  00865245  0.650459       67.1   \n..   ...         ...                   ...       ...       ...        ...   \n654  ...         NaN                  None      None       NaN        NaN   \n655  ...         NaN                  None      None       NaN        NaN   \n656  ...    0.000010              91154789  00871018  0.087565      455.1   \n657  ...    0.000010              91154789  00871018  0.087565      455.1   \n658  ...    0.000010              91154789  00871018  0.087565      455.1   \n\n          ATTRIBUTE WETLAND_TYPE       ACRES  \\\n0    [L1ABH, L1UBH]       [Lake]   28.395538   \n1    [L1ABH, L1UBH]       [Lake]   28.395538   \n2    [L1UBH, L1ABH]       [Lake]  161.385552   \n3    [L1UBH, L1ABH]       [Lake]  161.385552   \n4    [L1UBH, L1ABH]       [Lake]  161.385552   \n..              ...          ...         ...   \n654         [L1UBH]       [Lake]  109.462028   \n655         [L1UBH]       [Lake]  109.462028   \n656        [L2UBHh]       [Lake]   23.055085   \n657        [L2UBHh]       [Lake]   23.055085   \n658        [L2UBHh]       [Lake]   23.055085   \n\n                                                NWI_ID  \\\n0    202409CSw{1ADFAE7F-219D-4F46-B4A0-77028F0E126F...   \n1    202409CSw{1ADFAE7F-219D-4F46-B4A0-77028F0E126F...   \n2    202409CSw{37230243-4B9F-4054-B052-039EC1BA33BB...   \n3    202409CSw{37230243-4B9F-4054-B052-039EC1BA33BB...   \n4    202409CSw{37230243-4B9F-4054-B052-039EC1BA33BB...   \n..                                                 ...   \n654  202409CSw{E8D14D59-7A54-4039-A53E-D19B726068EC...   \n655  202409CSw{E8D14D59-7A54-4039-A53E-D19B726068EC...   \n656  202409CSw{C1C8CD5D-99E9-48D3-A9BA-33211910441A...   \n657  202409CSw{C1C8CD5D-99E9-48D3-A9BA-33211910441A...   \n658  202409CSw{C1C8CD5D-99E9-48D3-A9BA-33211910441A...   \n\n                                                buffer  \n0    POLYGON ((-7994994.165 5380215.739, -7994994.1...  \n1    POLYGON ((-7994994.165 5380215.739, -7994994.1...  \n2    POLYGON ((-7923107.436 5297419.249, -7923104.0...  \n3    POLYGON ((-7923107.436 5297419.249, -7923104.0...  \n4    POLYGON ((-7923107.436 5297419.249, -7923104.0...  \n..                                                 ...  \n654  POLYGON ((-7966193.193 5415929.044, -7966193.1...  \n655  POLYGON ((-7966193.193 5415929.044, -7966193.1...  \n656  POLYGON ((-7942431.517 5543743.130, -7942426.0...  \n657  POLYGON ((-7942431.517 5543743.130, -7942426.0...  \n658  POLYGON ((-7942431.517 5543743.130, -7942426.0...  \n\n[659 rows x 21 columns]",
      "text/html": "<div>\n<style scoped>\n    .dataframe tbody tr th:only-of-type {\n        vertical-align: middle;\n    }\n\n    .dataframe tbody tr th {\n        vertical-align: top;\n    }\n\n    .dataframe thead th {\n        text-align: right;\n    }\n</style>\n<table border=\"1\" class=\"dataframe\">\n  <thead>\n    <tr style=\"text-align: right;\">\n      <th></th>\n      <th>date_advisory_issued</th>\n      <th>geometry</th>\n      <th>lake</th>\n      <th>town</th>\n      <th>dominant_taxa</th>\n      <th>total_cell_concentration</th>\n      <th>advisory_days</th>\n      <th>notification_type</th>\n      <th>year</th>\n      <th>YearMonth</th>\n      <th>...</th>\n      <th>Shape_Area</th>\n      <th>permanent_identifier</th>\n      <th>gnis_id</th>\n      <th>areasqkm</th>\n      <th>elevation</th>\n      <th>ATTRIBUTE</th>\n      <th>WETLAND_TYPE</th>\n      <th>ACRES</th>\n      <th>NWI_ID</th>\n      <th>buffer</th>\n    </tr>\n  </thead>\n  <tbody>\n    <tr>\n      <th>0</th>\n      <td>2019-10-11</td>\n      <td>MULTIPOLYGON (((-7993409.975 5380279.400, -799...</td>\n      <td>Adder Pond/Hopkins Pond</td>\n      <td>Andover</td>\n      <td>Anabaena/Dolichospermum</td>\n      <td>3,580,000</td>\n      <td>41.0</td>\n      <td>Warning</td>\n      <td>2019</td>\n      <td>2019-10</td>\n      <td>...</td>\n      <td>0.000012</td>\n      <td>135993959</td>\n      <td>00865203</td>\n      <td>0.109221</td>\n      <td>196.3</td>\n      <td>[L1ABH, L1UBH]</td>\n      <td>[Lake]</td>\n      <td>28.395538</td>\n      <td>202409CSw{1ADFAE7F-219D-4F46-B4A0-77028F0E126F...</td>\n      <td>POLYGON ((-7994994.165 5380215.739, -7994994.1...</td>\n    </tr>\n    <tr>\n      <th>1</th>\n      <td>2022-10-06</td>\n      <td>MULTIPOLYGON (((-7993409.975 5380279.400, -799...</td>\n      <td>Adder Pond/Hopkins Pond</td>\n      <td>Andover</td>\n      <td>Chrysosporum</td>\n      <td>3,100,000</td>\n      <td>43.0</td>\n      <td>Warning</td>\n      <td>2022</td>\n      <td>2022-10</td>\n      <td>...</td>\n      <td>0.000012</td>\n      <td>135993959</td>\n      <td>00865203</td>\n      <td>0.109221</td>\n      <td>196.3</td>\n      <td>[L1ABH, L1UBH]</td>\n      <td>[Lake]</td>\n      <td>28.395538</td>\n      <td>202409CSw{1ADFAE7F-219D-4F46-B4A0-77028F0E126F...</td>\n      <td>POLYGON ((-7994994.165 5380215.739, -7994994.1...</td>\n    </tr>\n    <tr>\n      <th>2</th>\n      <td>2010-05-25</td>\n      <td>MULTIPOLYGON (((-7921916.903 5296831.789, -792...</td>\n      <td>Angle Pond</td>\n      <td>Sandown</td>\n      <td>Anabaena</td>\n      <td>235,000</td>\n      <td>9.0</td>\n      <td>Warning</td>\n      <td>2010</td>\n      <td>2010-05</td>\n      <td>...</td>\n      <td>0.000072</td>\n      <td>135909961</td>\n      <td>00865245</td>\n      <td>0.650459</td>\n      <td>67.1</td>\n      <td>[L1UBH, L1ABH]</td>\n      <td>[Lake]</td>\n      <td>161.385552</td>\n      <td>202409CSw{37230243-4B9F-4054-B052-039EC1BA33BB...</td>\n      <td>POLYGON ((-7923107.436 5297419.249, -7923104.0...</td>\n    </tr>\n    <tr>\n      <th>3</th>\n      <td>2021-08-25</td>\n      <td>MULTIPOLYGON (((-7921916.903 5296831.789, -792...</td>\n      <td>Angle Pond</td>\n      <td>Sandown</td>\n      <td>None</td>\n      <td>None</td>\n      <td>NaN</td>\n      <td>Alert</td>\n      <td>2021</td>\n      <td>2021-08</td>\n      <td>...</td>\n      <td>0.000072</td>\n      <td>135909961</td>\n      <td>00865245</td>\n      <td>0.650459</td>\n      <td>67.1</td>\n      <td>[L1UBH, L1ABH]</td>\n      <td>[Lake]</td>\n      <td>161.385552</td>\n      <td>202409CSw{37230243-4B9F-4054-B052-039EC1BA33BB...</td>\n      <td>POLYGON ((-7923107.436 5297419.249, -7923104.0...</td>\n    </tr>\n    <tr>\n      <th>4</th>\n      <td>2022-09-12</td>\n      <td>MULTIPOLYGON (((-7921916.903 5296831.789, -792...</td>\n      <td>Angle Pond</td>\n      <td>Sandown</td>\n      <td>Dolichospermum</td>\n      <td>138,200</td>\n      <td>7.0</td>\n      <td>Warning</td>\n      <td>2022</td>\n      <td>2022-09</td>\n      <td>...</td>\n      <td>0.000072</td>\n      <td>135909961</td>\n      <td>00865245</td>\n      <td>0.650459</td>\n      <td>67.1</td>\n      <td>[L1UBH, L1ABH]</td>\n      <td>[Lake]</td>\n      <td>161.385552</td>\n      <td>202409CSw{37230243-4B9F-4054-B052-039EC1BA33BB...</td>\n      <td>POLYGON ((-7923107.436 5297419.249, -7923104.0...</td>\n    </tr>\n    <tr>\n      <th>...</th>\n      <td>...</td>\n      <td>...</td>\n      <td>...</td>\n      <td>...</td>\n      <td>...</td>\n      <td>...</td>\n      <td>...</td>\n      <td>...</td>\n      <td>...</td>\n      <td>...</td>\n      <td>...</td>\n      <td>...</td>\n      <td>...</td>\n      <td>...</td>\n      <td>...</td>\n      <td>...</td>\n      <td>...</td>\n      <td>...</td>\n      <td>...</td>\n      <td>...</td>\n      <td>...</td>\n    </tr>\n    <tr>\n      <th>654</th>\n      <td>2020-08-09</td>\n      <td>MULTIPOLYGON (((-7967191.988 5415879.976, -796...</td>\n      <td>Winona, Lake</td>\n      <td>New Hampton</td>\n      <td>None</td>\n      <td>None</td>\n      <td>NaN</td>\n      <td>Alert</td>\n      <td>2020</td>\n      <td>2020-08</td>\n      <td>...</td>\n      <td>NaN</td>\n      <td>None</td>\n      <td>None</td>\n      <td>NaN</td>\n      <td>NaN</td>\n      <td>[L1UBH]</td>\n      <td>[Lake]</td>\n      <td>109.462028</td>\n      <td>202409CSw{E8D14D59-7A54-4039-A53E-D19B726068EC...</td>\n      <td>POLYGON ((-7966193.193 5415929.044, -7966193.1...</td>\n    </tr>\n    <tr>\n      <th>655</th>\n      <td>2023-07-27</td>\n      <td>MULTIPOLYGON (((-7967191.988 5415879.976, -796...</td>\n      <td>Winona, Lake</td>\n      <td>New Hampton</td>\n      <td>Dolichospermum</td>\n      <td>950,000</td>\n      <td>7.0</td>\n      <td>Warning</td>\n      <td>2023</td>\n      <td>2023-07</td>\n      <td>...</td>\n      <td>NaN</td>\n      <td>None</td>\n      <td>None</td>\n      <td>NaN</td>\n      <td>NaN</td>\n      <td>[L1UBH]</td>\n      <td>[Lake]</td>\n      <td>109.462028</td>\n      <td>202409CSw{E8D14D59-7A54-4039-A53E-D19B726068EC...</td>\n      <td>POLYGON ((-7966193.193 5415929.044, -7966193.1...</td>\n    </tr>\n    <tr>\n      <th>656</th>\n      <td>2005-08-03</td>\n      <td>MULTIPOLYGON (((-7941459.002 5543510.290, -794...</td>\n      <td>York Pond</td>\n      <td>Berlin</td>\n      <td>Aphanizomenon</td>\n      <td>&gt;70,000 or &gt;50%</td>\n      <td>48.0</td>\n      <td>Warning</td>\n      <td>2005</td>\n      <td>2005-08</td>\n      <td>...</td>\n      <td>0.000010</td>\n      <td>91154789</td>\n      <td>00871018</td>\n      <td>0.087565</td>\n      <td>455.1</td>\n      <td>[L2UBHh]</td>\n      <td>[Lake]</td>\n      <td>23.055085</td>\n      <td>202409CSw{C1C8CD5D-99E9-48D3-A9BA-33211910441A...</td>\n      <td>POLYGON ((-7942431.517 5543743.130, -7942426.0...</td>\n    </tr>\n    <tr>\n      <th>657</th>\n      <td>2008-07-30</td>\n      <td>MULTIPOLYGON (((-7941459.002 5543510.290, -794...</td>\n      <td>York Pond</td>\n      <td>Berlin</td>\n      <td>Aphanizomenon</td>\n      <td>&gt;70,000 or &gt;50%</td>\n      <td>124.0</td>\n      <td>Warning</td>\n      <td>2008</td>\n      <td>2008-07</td>\n      <td>...</td>\n      <td>0.000010</td>\n      <td>91154789</td>\n      <td>00871018</td>\n      <td>0.087565</td>\n      <td>455.1</td>\n      <td>[L2UBHh]</td>\n      <td>[Lake]</td>\n      <td>23.055085</td>\n      <td>202409CSw{C1C8CD5D-99E9-48D3-A9BA-33211910441A...</td>\n      <td>POLYGON ((-7942431.517 5543743.130, -7942426.0...</td>\n    </tr>\n    <tr>\n      <th>658</th>\n      <td>2009-07-14</td>\n      <td>MULTIPOLYGON (((-7941459.002 5543510.290, -794...</td>\n      <td>York Pond</td>\n      <td>Berlin</td>\n      <td>Aphanizomenon</td>\n      <td>100,000</td>\n      <td>105.0</td>\n      <td>Warning</td>\n      <td>2009</td>\n      <td>2009-07</td>\n      <td>...</td>\n      <td>0.000010</td>\n      <td>91154789</td>\n      <td>00871018</td>\n      <td>0.087565</td>\n      <td>455.1</td>\n      <td>[L2UBHh]</td>\n      <td>[Lake]</td>\n      <td>23.055085</td>\n      <td>202409CSw{C1C8CD5D-99E9-48D3-A9BA-33211910441A...</td>\n      <td>POLYGON ((-7942431.517 5543743.130, -7942426.0...</td>\n    </tr>\n  </tbody>\n</table>\n<p>659 rows × 21 columns</p>\n</div>"
     },
     "execution_count": 14,
     "metadata": {},
     "output_type": "execute_result"
    }
   ],
   "source": [
    "aggregated_bloom_data"
   ],
   "metadata": {
    "collapsed": false,
    "ExecuteTime": {
     "end_time": "2024-11-30T19:17:50.830815700Z",
     "start_time": "2024-11-30T19:17:50.781999900Z"
    }
   },
   "id": "68af289377718f16",
   "execution_count": 14
  },
  {
   "cell_type": "code",
   "outputs": [
    {
     "data": {
      "text/plain": "0      MULTIPOLYGON (((-7993409.975 5380279.400, -799...\n1      MULTIPOLYGON (((-7993409.975 5380279.400, -799...\n2      MULTIPOLYGON (((-7921916.903 5296831.789, -792...\n3      MULTIPOLYGON (((-7921916.903 5296831.789, -792...\n4      MULTIPOLYGON (((-7921916.903 5296831.789, -792...\n                             ...                        \n654    MULTIPOLYGON (((-7967191.988 5415879.976, -796...\n655    MULTIPOLYGON (((-7967191.988 5415879.976, -796...\n656    MULTIPOLYGON (((-7941459.002 5543510.290, -794...\n657    MULTIPOLYGON (((-7941459.002 5543510.290, -794...\n658    MULTIPOLYGON (((-7941459.002 5543510.290, -794...\nName: geometry, Length: 659, dtype: geometry"
     },
     "execution_count": 15,
     "metadata": {},
     "output_type": "execute_result"
    }
   ],
   "source": [
    "aggregated_bloom_data.geometry"
   ],
   "metadata": {
    "collapsed": false,
    "ExecuteTime": {
     "end_time": "2024-11-30T19:18:00.906723300Z",
     "start_time": "2024-11-30T19:18:00.888357100Z"
    }
   },
   "id": "3a046be718221544",
   "execution_count": 15
  },
  {
   "cell_type": "code",
   "outputs": [
    {
     "ename": "ValueError",
     "evalue": "Invalid field type <class 'numpy.ndarray'>",
     "output_type": "error",
     "traceback": [
      "\u001B[1;31m---------------------------------------------------------------------------\u001B[0m",
      "\u001B[1;31mValueError\u001B[0m                                Traceback (most recent call last)",
      "Cell \u001B[1;32mIn[33], line 4\u001B[0m\n\u001B[0;32m      1\u001B[0m \u001B[38;5;66;03m# aggregated_bloom_data.drop('geometry', axis=1, inplace=True)\u001B[39;00m\n\u001B[0;32m      2\u001B[0m \u001B[38;5;66;03m# aggregated_bloom_data.set_geometry('buffer', inplace=True)\u001B[39;00m\n\u001B[1;32m----> 4\u001B[0m aggregated_bloom_data\u001B[38;5;241m.\u001B[39mto_file(\u001B[38;5;124m'\u001B[39m\u001B[38;5;124maggregated_bloom_data_buffer_1km.gpkg\u001B[39m\u001B[38;5;124m'\u001B[39m, driver\u001B[38;5;241m=\u001B[39m\u001B[38;5;124m'\u001B[39m\u001B[38;5;124mGPKG\u001B[39m\u001B[38;5;124m'\u001B[39m)\n",
      "File \u001B[1;32m~\\anaconda3\\Lib\\site-packages\\geopandas\\geodataframe.py:1264\u001B[0m, in \u001B[0;36mGeoDataFrame.to_file\u001B[1;34m(self, filename, driver, schema, index, **kwargs)\u001B[0m\n\u001B[0;32m   1173\u001B[0m \u001B[38;5;250m\u001B[39m\u001B[38;5;124;03m\"\"\"Write the ``GeoDataFrame`` to a file.\u001B[39;00m\n\u001B[0;32m   1174\u001B[0m \n\u001B[0;32m   1175\u001B[0m \u001B[38;5;124;03mBy default, an ESRI shapefile is written, but any OGR data source\u001B[39;00m\n\u001B[1;32m   (...)\u001B[0m\n\u001B[0;32m   1260\u001B[0m \n\u001B[0;32m   1261\u001B[0m \u001B[38;5;124;03m\"\"\"\u001B[39;00m\n\u001B[0;32m   1262\u001B[0m \u001B[38;5;28;01mfrom\u001B[39;00m \u001B[38;5;21;01mgeopandas\u001B[39;00m\u001B[38;5;21;01m.\u001B[39;00m\u001B[38;5;21;01mio\u001B[39;00m\u001B[38;5;21;01m.\u001B[39;00m\u001B[38;5;21;01mfile\u001B[39;00m \u001B[38;5;28;01mimport\u001B[39;00m _to_file\n\u001B[1;32m-> 1264\u001B[0m _to_file(\u001B[38;5;28mself\u001B[39m, filename, driver, schema, index, \u001B[38;5;241m*\u001B[39m\u001B[38;5;241m*\u001B[39mkwargs)\n",
      "File \u001B[1;32m~\\anaconda3\\Lib\\site-packages\\geopandas\\io\\file.py:612\u001B[0m, in \u001B[0;36m_to_file\u001B[1;34m(df, filename, driver, schema, index, mode, crs, engine, **kwargs)\u001B[0m\n\u001B[0;32m    609\u001B[0m     \u001B[38;5;28;01mraise\u001B[39;00m \u001B[38;5;167;01mValueError\u001B[39;00m(\u001B[38;5;124mf\u001B[39m\u001B[38;5;124m\"\u001B[39m\u001B[38;5;124m'\u001B[39m\u001B[38;5;124mmode\u001B[39m\u001B[38;5;124m'\u001B[39m\u001B[38;5;124m should be one of \u001B[39m\u001B[38;5;124m'\u001B[39m\u001B[38;5;124mw\u001B[39m\u001B[38;5;124m'\u001B[39m\u001B[38;5;124m or \u001B[39m\u001B[38;5;124m'\u001B[39m\u001B[38;5;124ma\u001B[39m\u001B[38;5;124m'\u001B[39m\u001B[38;5;124m, got \u001B[39m\u001B[38;5;124m'\u001B[39m\u001B[38;5;132;01m{\u001B[39;00mmode\u001B[38;5;132;01m}\u001B[39;00m\u001B[38;5;124m'\u001B[39m\u001B[38;5;124m instead\u001B[39m\u001B[38;5;124m\"\u001B[39m)\n\u001B[0;32m    611\u001B[0m \u001B[38;5;28;01mif\u001B[39;00m engine \u001B[38;5;241m==\u001B[39m \u001B[38;5;124m\"\u001B[39m\u001B[38;5;124mfiona\u001B[39m\u001B[38;5;124m\"\u001B[39m:\n\u001B[1;32m--> 612\u001B[0m     _to_file_fiona(df, filename, driver, schema, crs, mode, \u001B[38;5;241m*\u001B[39m\u001B[38;5;241m*\u001B[39mkwargs)\n\u001B[0;32m    613\u001B[0m \u001B[38;5;28;01melif\u001B[39;00m engine \u001B[38;5;241m==\u001B[39m \u001B[38;5;124m\"\u001B[39m\u001B[38;5;124mpyogrio\u001B[39m\u001B[38;5;124m\"\u001B[39m:\n\u001B[0;32m    614\u001B[0m     _to_file_pyogrio(df, filename, driver, schema, crs, mode, \u001B[38;5;241m*\u001B[39m\u001B[38;5;241m*\u001B[39mkwargs)\n",
      "File \u001B[1;32m~\\anaconda3\\Lib\\site-packages\\geopandas\\io\\file.py:641\u001B[0m, in \u001B[0;36m_to_file_fiona\u001B[1;34m(df, filename, driver, schema, crs, mode, **kwargs)\u001B[0m\n\u001B[0;32m    637\u001B[0m     crs_wkt \u001B[38;5;241m=\u001B[39m crs\u001B[38;5;241m.\u001B[39mto_wkt(\u001B[38;5;124m\"\u001B[39m\u001B[38;5;124mWKT1_GDAL\u001B[39m\u001B[38;5;124m\"\u001B[39m)\n\u001B[0;32m    638\u001B[0m \u001B[38;5;28;01mwith\u001B[39;00m fiona\u001B[38;5;241m.\u001B[39mopen(\n\u001B[0;32m    639\u001B[0m     filename, mode\u001B[38;5;241m=\u001B[39mmode, driver\u001B[38;5;241m=\u001B[39mdriver, crs_wkt\u001B[38;5;241m=\u001B[39mcrs_wkt, schema\u001B[38;5;241m=\u001B[39mschema, \u001B[38;5;241m*\u001B[39m\u001B[38;5;241m*\u001B[39mkwargs\n\u001B[0;32m    640\u001B[0m ) \u001B[38;5;28;01mas\u001B[39;00m colxn:\n\u001B[1;32m--> 641\u001B[0m     colxn\u001B[38;5;241m.\u001B[39mwriterecords(df\u001B[38;5;241m.\u001B[39miterfeatures())\n",
      "File \u001B[1;32m~\\anaconda3\\Lib\\site-packages\\fiona\\collection.py:558\u001B[0m, in \u001B[0;36mCollection.writerecords\u001B[1;34m(self, records)\u001B[0m\n\u001B[0;32m    556\u001B[0m \u001B[38;5;28;01mif\u001B[39;00m \u001B[38;5;28mself\u001B[39m\u001B[38;5;241m.\u001B[39mmode \u001B[38;5;129;01mnot\u001B[39;00m \u001B[38;5;129;01min\u001B[39;00m (\u001B[38;5;124m\"\u001B[39m\u001B[38;5;124ma\u001B[39m\u001B[38;5;124m\"\u001B[39m, \u001B[38;5;124m\"\u001B[39m\u001B[38;5;124mw\u001B[39m\u001B[38;5;124m\"\u001B[39m):\n\u001B[0;32m    557\u001B[0m     \u001B[38;5;28;01mraise\u001B[39;00m \u001B[38;5;167;01mOSError\u001B[39;00m(\u001B[38;5;124m\"\u001B[39m\u001B[38;5;124mcollection not open for writing\u001B[39m\u001B[38;5;124m\"\u001B[39m)\n\u001B[1;32m--> 558\u001B[0m \u001B[38;5;28mself\u001B[39m\u001B[38;5;241m.\u001B[39msession\u001B[38;5;241m.\u001B[39mwriterecs(records, \u001B[38;5;28mself\u001B[39m)\n\u001B[0;32m    559\u001B[0m \u001B[38;5;28mself\u001B[39m\u001B[38;5;241m.\u001B[39m_len \u001B[38;5;241m=\u001B[39m \u001B[38;5;28mself\u001B[39m\u001B[38;5;241m.\u001B[39msession\u001B[38;5;241m.\u001B[39mget_length()\n\u001B[0;32m    560\u001B[0m \u001B[38;5;28mself\u001B[39m\u001B[38;5;241m.\u001B[39m_bounds \u001B[38;5;241m=\u001B[39m \u001B[38;5;28;01mNone\u001B[39;00m\n",
      "File \u001B[1;32mfiona\\\\ogrext.pyx:1409\u001B[0m, in \u001B[0;36mfiona.ogrext.WritingSession.writerecs\u001B[1;34m()\u001B[0m\n",
      "File \u001B[1;32mfiona\\\\ogrext.pyx:514\u001B[0m, in \u001B[0;36mfiona.ogrext.OGRFeatureBuilder.build\u001B[1;34m()\u001B[0m\n",
      "\u001B[1;31mValueError\u001B[0m: Invalid field type <class 'numpy.ndarray'>"
     ]
    }
   ],
   "source": [
    "# aggregated_bloom_data.drop('geometry', axis=1, inplace=True)\n",
    "# aggregated_bloom_data.set_geometry('buffer', inplace=True)\n",
    "\n",
    "aggregated_bloom_data.to_file('aggregated_bloom_data_buffer_1km.gpkg', driver='GPKG')"
   ],
   "metadata": {
    "collapsed": false,
    "ExecuteTime": {
     "end_time": "2024-11-30T19:24:06.526531Z",
     "start_time": "2024-11-30T19:24:06.456816200Z"
    }
   },
   "id": "6469827c8ff88f7c",
   "execution_count": 33
  },
  {
   "cell_type": "code",
   "outputs": [
    {
     "data": {
      "text/plain": "date_advisory_issued        datetime64[ns]\ngeometry                          geometry\nlake                                object\ntown                                object\ndominant_taxa                       object\ntotal_cell_concentration            object\nadvisory_days                      float64\nnotification_type                   object\nyear                                 int64\nYearMonth                           object\nShape_Length                       float64\nShape_Area                         float64\npermanent_identifier                object\ngnis_id                             object\nareasqkm                           float64\nelevation                          float64\nATTRIBUTE                           object\nWETLAND_TYPE                        object\nACRES                              float64\nNWI_ID                              object\nbuffer                            geometry\ndtype: object"
     },
     "execution_count": 17,
     "metadata": {},
     "output_type": "execute_result"
    }
   ],
   "source": [
    "aggregated_bloom_data.dtypes"
   ],
   "metadata": {
    "collapsed": false,
    "ExecuteTime": {
     "end_time": "2024-11-30T19:19:16.976776300Z",
     "start_time": "2024-11-30T19:19:16.967758Z"
    }
   },
   "id": "34f48030537cad4",
   "execution_count": 17
  },
  {
   "cell_type": "code",
   "outputs": [
    {
     "data": {
      "text/plain": "Index(['buffer'], dtype='object')"
     },
     "execution_count": 20,
     "metadata": {},
     "output_type": "execute_result"
    }
   ],
   "source": [
    "geometry_columns = aggregated_bloom_data.select_dtypes(include=['geometry']).columns\n",
    "geometry_columns"
   ],
   "metadata": {
    "collapsed": false,
    "ExecuteTime": {
     "end_time": "2024-11-30T19:20:46.287451800Z",
     "start_time": "2024-11-30T19:20:46.281783900Z"
    }
   },
   "id": "c1809f71305779e1",
   "execution_count": 20
  },
  {
   "cell_type": "code",
   "outputs": [],
   "source": [
    "aggregated_bloom_data['geometry'] = aggregated_bloom_data['geometry'].apply(lambda geom: geom.wkt)"
   ],
   "metadata": {
    "collapsed": false,
    "ExecuteTime": {
     "end_time": "2024-11-30T19:20:44.416789400Z",
     "start_time": "2024-11-30T19:20:43.411829800Z"
    }
   },
   "id": "378877ce283164a8",
   "execution_count": 19
  },
  {
   "cell_type": "code",
   "outputs": [],
   "source": [
    "aggregated_bloom_data = aggregated_bloom_data.set_geometry('buffer')"
   ],
   "metadata": {
    "collapsed": false,
    "ExecuteTime": {
     "end_time": "2024-11-30T19:22:22.112596800Z",
     "start_time": "2024-11-30T19:22:22.104351800Z"
    }
   },
   "id": "49b78ecf96cf0f1f",
   "execution_count": 25
  },
  {
   "cell_type": "code",
   "outputs": [
    {
     "name": "stdout",
     "output_type": "stream",
     "text": [
      "0      POLYGON ((-7994994.165 5380215.739, -7994994.1...\n",
      "1      POLYGON ((-7994994.165 5380215.739, -7994994.1...\n",
      "2      POLYGON ((-7923107.436 5297419.249, -7923104.0...\n",
      "3      POLYGON ((-7923107.436 5297419.249, -7923104.0...\n",
      "4      POLYGON ((-7923107.436 5297419.249, -7923104.0...\n",
      "                             ...                        \n",
      "654    POLYGON ((-7966193.193 5415929.044, -7966193.1...\n",
      "655    POLYGON ((-7966193.193 5415929.044, -7966193.1...\n",
      "656    POLYGON ((-7942431.517 5543743.130, -7942426.0...\n",
      "657    POLYGON ((-7942431.517 5543743.130, -7942426.0...\n",
      "658    POLYGON ((-7942431.517 5543743.130, -7942426.0...\n",
      "Name: buffer, Length: 659, dtype: geometry\n"
     ]
    }
   ],
   "source": [
    "print(aggregated_bloom_data.geometry)"
   ],
   "metadata": {
    "collapsed": false,
    "ExecuteTime": {
     "end_time": "2024-11-30T19:23:59.022533800Z",
     "start_time": "2024-11-30T19:23:59.008962900Z"
    }
   },
   "id": "c28450193e3f98a2",
   "execution_count": 32
  },
  {
   "cell_type": "code",
   "outputs": [],
   "source": [
    "from shapely.geometry import shape\n",
    "import numpy as np\n",
    "\n",
    "# Assuming 'geometry' is your geometry column\n",
    "aggregated_bloom_data['buffer'] = aggregated_bloom_data['buffer'].apply(lambda x: shape(x) if isinstance(x, np.ndarray) else x)\n"
   ],
   "metadata": {
    "collapsed": false,
    "ExecuteTime": {
     "end_time": "2024-11-30T19:23:53.058978800Z",
     "start_time": "2024-11-30T19:23:53.051974500Z"
    }
   },
   "id": "5e6d9fe316c45066",
   "execution_count": 31
  },
  {
   "cell_type": "code",
   "outputs": [
    {
     "data": {
      "text/plain": "    date_advisory_issued                     lake         town  \\\n0             2019-10-11  Adder Pond/Hopkins Pond      Andover   \n1             2022-10-06  Adder Pond/Hopkins Pond      Andover   \n2             2010-05-25               Angle Pond      Sandown   \n3             2021-08-25               Angle Pond      Sandown   \n4             2022-09-12               Angle Pond      Sandown   \n..                   ...                      ...          ...   \n654           2020-08-09             Winona, Lake  New Hampton   \n655           2023-07-27             Winona, Lake  New Hampton   \n656           2005-08-03                York Pond       Berlin   \n657           2008-07-30                York Pond       Berlin   \n658           2009-07-14                York Pond       Berlin   \n\n               dominant_taxa total_cell_concentration  advisory_days  \\\n0    Anabaena/Dolichospermum                3,580,000           41.0   \n1              Chrysosporum                 3,100,000           43.0   \n2                   Anabaena                  235,000            9.0   \n3                       None                     None            NaN   \n4             Dolichospermum                  138,200            7.0   \n..                       ...                      ...            ...   \n654                     None                     None            NaN   \n655           Dolichospermum                  950,000            7.0   \n656            Aphanizomenon          >70,000 or >50%           48.0   \n657            Aphanizomenon          >70,000 or >50%          124.0   \n658            Aphanizomenon                  100,000          105.0   \n\n    notification_type  year YearMonth  Shape_Length  Shape_Area  \\\n0             Warning  2019   2019-10      0.015388    0.000012   \n1             Warning  2022   2022-10      0.015388    0.000012   \n2             Warning  2010   2010-05      0.049024    0.000072   \n3               Alert  2021   2021-08      0.049024    0.000072   \n4             Warning  2022   2022-09      0.049024    0.000072   \n..                ...   ...       ...           ...         ...   \n654             Alert  2020   2020-08           NaN         NaN   \n655           Warning  2023   2023-07           NaN         NaN   \n656           Warning  2005   2005-08      0.016025    0.000010   \n657           Warning  2008   2008-07      0.016025    0.000010   \n658           Warning  2009   2009-07      0.016025    0.000010   \n\n    permanent_identifier   gnis_id  areasqkm  elevation       ATTRIBUTE  \\\n0              135993959  00865203  0.109221      196.3  [L1ABH, L1UBH]   \n1              135993959  00865203  0.109221      196.3  [L1ABH, L1UBH]   \n2              135909961  00865245  0.650459       67.1  [L1UBH, L1ABH]   \n3              135909961  00865245  0.650459       67.1  [L1UBH, L1ABH]   \n4              135909961  00865245  0.650459       67.1  [L1UBH, L1ABH]   \n..                   ...       ...       ...        ...             ...   \n654                 None      None       NaN        NaN         [L1UBH]   \n655                 None      None       NaN        NaN         [L1UBH]   \n656             91154789  00871018  0.087565      455.1        [L2UBHh]   \n657             91154789  00871018  0.087565      455.1        [L2UBHh]   \n658             91154789  00871018  0.087565      455.1        [L2UBHh]   \n\n    WETLAND_TYPE       ACRES  \\\n0         [Lake]   28.395538   \n1         [Lake]   28.395538   \n2         [Lake]  161.385552   \n3         [Lake]  161.385552   \n4         [Lake]  161.385552   \n..           ...         ...   \n654       [Lake]  109.462028   \n655       [Lake]  109.462028   \n656       [Lake]   23.055085   \n657       [Lake]   23.055085   \n658       [Lake]   23.055085   \n\n                                                NWI_ID  \\\n0    202409CSw{1ADFAE7F-219D-4F46-B4A0-77028F0E126F...   \n1    202409CSw{1ADFAE7F-219D-4F46-B4A0-77028F0E126F...   \n2    202409CSw{37230243-4B9F-4054-B052-039EC1BA33BB...   \n3    202409CSw{37230243-4B9F-4054-B052-039EC1BA33BB...   \n4    202409CSw{37230243-4B9F-4054-B052-039EC1BA33BB...   \n..                                                 ...   \n654  202409CSw{E8D14D59-7A54-4039-A53E-D19B726068EC...   \n655  202409CSw{E8D14D59-7A54-4039-A53E-D19B726068EC...   \n656  202409CSw{C1C8CD5D-99E9-48D3-A9BA-33211910441A...   \n657  202409CSw{C1C8CD5D-99E9-48D3-A9BA-33211910441A...   \n658  202409CSw{C1C8CD5D-99E9-48D3-A9BA-33211910441A...   \n\n                                                buffer  \n0    POLYGON ((-7994994.165 5380215.739, -7994994.1...  \n1    POLYGON ((-7994994.165 5380215.739, -7994994.1...  \n2    POLYGON ((-7923107.436 5297419.249, -7923104.0...  \n3    POLYGON ((-7923107.436 5297419.249, -7923104.0...  \n4    POLYGON ((-7923107.436 5297419.249, -7923104.0...  \n..                                                 ...  \n654  POLYGON ((-7966193.193 5415929.044, -7966193.1...  \n655  POLYGON ((-7966193.193 5415929.044, -7966193.1...  \n656  POLYGON ((-7942431.517 5543743.130, -7942426.0...  \n657  POLYGON ((-7942431.517 5543743.130, -7942426.0...  \n658  POLYGON ((-7942431.517 5543743.130, -7942426.0...  \n\n[659 rows x 20 columns]",
      "text/html": "<div>\n<style scoped>\n    .dataframe tbody tr th:only-of-type {\n        vertical-align: middle;\n    }\n\n    .dataframe tbody tr th {\n        vertical-align: top;\n    }\n\n    .dataframe thead th {\n        text-align: right;\n    }\n</style>\n<table border=\"1\" class=\"dataframe\">\n  <thead>\n    <tr style=\"text-align: right;\">\n      <th></th>\n      <th>date_advisory_issued</th>\n      <th>lake</th>\n      <th>town</th>\n      <th>dominant_taxa</th>\n      <th>total_cell_concentration</th>\n      <th>advisory_days</th>\n      <th>notification_type</th>\n      <th>year</th>\n      <th>YearMonth</th>\n      <th>Shape_Length</th>\n      <th>Shape_Area</th>\n      <th>permanent_identifier</th>\n      <th>gnis_id</th>\n      <th>areasqkm</th>\n      <th>elevation</th>\n      <th>ATTRIBUTE</th>\n      <th>WETLAND_TYPE</th>\n      <th>ACRES</th>\n      <th>NWI_ID</th>\n      <th>buffer</th>\n    </tr>\n  </thead>\n  <tbody>\n    <tr>\n      <th>0</th>\n      <td>2019-10-11</td>\n      <td>Adder Pond/Hopkins Pond</td>\n      <td>Andover</td>\n      <td>Anabaena/Dolichospermum</td>\n      <td>3,580,000</td>\n      <td>41.0</td>\n      <td>Warning</td>\n      <td>2019</td>\n      <td>2019-10</td>\n      <td>0.015388</td>\n      <td>0.000012</td>\n      <td>135993959</td>\n      <td>00865203</td>\n      <td>0.109221</td>\n      <td>196.3</td>\n      <td>[L1ABH, L1UBH]</td>\n      <td>[Lake]</td>\n      <td>28.395538</td>\n      <td>202409CSw{1ADFAE7F-219D-4F46-B4A0-77028F0E126F...</td>\n      <td>POLYGON ((-7994994.165 5380215.739, -7994994.1...</td>\n    </tr>\n    <tr>\n      <th>1</th>\n      <td>2022-10-06</td>\n      <td>Adder Pond/Hopkins Pond</td>\n      <td>Andover</td>\n      <td>Chrysosporum</td>\n      <td>3,100,000</td>\n      <td>43.0</td>\n      <td>Warning</td>\n      <td>2022</td>\n      <td>2022-10</td>\n      <td>0.015388</td>\n      <td>0.000012</td>\n      <td>135993959</td>\n      <td>00865203</td>\n      <td>0.109221</td>\n      <td>196.3</td>\n      <td>[L1ABH, L1UBH]</td>\n      <td>[Lake]</td>\n      <td>28.395538</td>\n      <td>202409CSw{1ADFAE7F-219D-4F46-B4A0-77028F0E126F...</td>\n      <td>POLYGON ((-7994994.165 5380215.739, -7994994.1...</td>\n    </tr>\n    <tr>\n      <th>2</th>\n      <td>2010-05-25</td>\n      <td>Angle Pond</td>\n      <td>Sandown</td>\n      <td>Anabaena</td>\n      <td>235,000</td>\n      <td>9.0</td>\n      <td>Warning</td>\n      <td>2010</td>\n      <td>2010-05</td>\n      <td>0.049024</td>\n      <td>0.000072</td>\n      <td>135909961</td>\n      <td>00865245</td>\n      <td>0.650459</td>\n      <td>67.1</td>\n      <td>[L1UBH, L1ABH]</td>\n      <td>[Lake]</td>\n      <td>161.385552</td>\n      <td>202409CSw{37230243-4B9F-4054-B052-039EC1BA33BB...</td>\n      <td>POLYGON ((-7923107.436 5297419.249, -7923104.0...</td>\n    </tr>\n    <tr>\n      <th>3</th>\n      <td>2021-08-25</td>\n      <td>Angle Pond</td>\n      <td>Sandown</td>\n      <td>None</td>\n      <td>None</td>\n      <td>NaN</td>\n      <td>Alert</td>\n      <td>2021</td>\n      <td>2021-08</td>\n      <td>0.049024</td>\n      <td>0.000072</td>\n      <td>135909961</td>\n      <td>00865245</td>\n      <td>0.650459</td>\n      <td>67.1</td>\n      <td>[L1UBH, L1ABH]</td>\n      <td>[Lake]</td>\n      <td>161.385552</td>\n      <td>202409CSw{37230243-4B9F-4054-B052-039EC1BA33BB...</td>\n      <td>POLYGON ((-7923107.436 5297419.249, -7923104.0...</td>\n    </tr>\n    <tr>\n      <th>4</th>\n      <td>2022-09-12</td>\n      <td>Angle Pond</td>\n      <td>Sandown</td>\n      <td>Dolichospermum</td>\n      <td>138,200</td>\n      <td>7.0</td>\n      <td>Warning</td>\n      <td>2022</td>\n      <td>2022-09</td>\n      <td>0.049024</td>\n      <td>0.000072</td>\n      <td>135909961</td>\n      <td>00865245</td>\n      <td>0.650459</td>\n      <td>67.1</td>\n      <td>[L1UBH, L1ABH]</td>\n      <td>[Lake]</td>\n      <td>161.385552</td>\n      <td>202409CSw{37230243-4B9F-4054-B052-039EC1BA33BB...</td>\n      <td>POLYGON ((-7923107.436 5297419.249, -7923104.0...</td>\n    </tr>\n    <tr>\n      <th>...</th>\n      <td>...</td>\n      <td>...</td>\n      <td>...</td>\n      <td>...</td>\n      <td>...</td>\n      <td>...</td>\n      <td>...</td>\n      <td>...</td>\n      <td>...</td>\n      <td>...</td>\n      <td>...</td>\n      <td>...</td>\n      <td>...</td>\n      <td>...</td>\n      <td>...</td>\n      <td>...</td>\n      <td>...</td>\n      <td>...</td>\n      <td>...</td>\n      <td>...</td>\n    </tr>\n    <tr>\n      <th>654</th>\n      <td>2020-08-09</td>\n      <td>Winona, Lake</td>\n      <td>New Hampton</td>\n      <td>None</td>\n      <td>None</td>\n      <td>NaN</td>\n      <td>Alert</td>\n      <td>2020</td>\n      <td>2020-08</td>\n      <td>NaN</td>\n      <td>NaN</td>\n      <td>None</td>\n      <td>None</td>\n      <td>NaN</td>\n      <td>NaN</td>\n      <td>[L1UBH]</td>\n      <td>[Lake]</td>\n      <td>109.462028</td>\n      <td>202409CSw{E8D14D59-7A54-4039-A53E-D19B726068EC...</td>\n      <td>POLYGON ((-7966193.193 5415929.044, -7966193.1...</td>\n    </tr>\n    <tr>\n      <th>655</th>\n      <td>2023-07-27</td>\n      <td>Winona, Lake</td>\n      <td>New Hampton</td>\n      <td>Dolichospermum</td>\n      <td>950,000</td>\n      <td>7.0</td>\n      <td>Warning</td>\n      <td>2023</td>\n      <td>2023-07</td>\n      <td>NaN</td>\n      <td>NaN</td>\n      <td>None</td>\n      <td>None</td>\n      <td>NaN</td>\n      <td>NaN</td>\n      <td>[L1UBH]</td>\n      <td>[Lake]</td>\n      <td>109.462028</td>\n      <td>202409CSw{E8D14D59-7A54-4039-A53E-D19B726068EC...</td>\n      <td>POLYGON ((-7966193.193 5415929.044, -7966193.1...</td>\n    </tr>\n    <tr>\n      <th>656</th>\n      <td>2005-08-03</td>\n      <td>York Pond</td>\n      <td>Berlin</td>\n      <td>Aphanizomenon</td>\n      <td>&gt;70,000 or &gt;50%</td>\n      <td>48.0</td>\n      <td>Warning</td>\n      <td>2005</td>\n      <td>2005-08</td>\n      <td>0.016025</td>\n      <td>0.000010</td>\n      <td>91154789</td>\n      <td>00871018</td>\n      <td>0.087565</td>\n      <td>455.1</td>\n      <td>[L2UBHh]</td>\n      <td>[Lake]</td>\n      <td>23.055085</td>\n      <td>202409CSw{C1C8CD5D-99E9-48D3-A9BA-33211910441A...</td>\n      <td>POLYGON ((-7942431.517 5543743.130, -7942426.0...</td>\n    </tr>\n    <tr>\n      <th>657</th>\n      <td>2008-07-30</td>\n      <td>York Pond</td>\n      <td>Berlin</td>\n      <td>Aphanizomenon</td>\n      <td>&gt;70,000 or &gt;50%</td>\n      <td>124.0</td>\n      <td>Warning</td>\n      <td>2008</td>\n      <td>2008-07</td>\n      <td>0.016025</td>\n      <td>0.000010</td>\n      <td>91154789</td>\n      <td>00871018</td>\n      <td>0.087565</td>\n      <td>455.1</td>\n      <td>[L2UBHh]</td>\n      <td>[Lake]</td>\n      <td>23.055085</td>\n      <td>202409CSw{C1C8CD5D-99E9-48D3-A9BA-33211910441A...</td>\n      <td>POLYGON ((-7942431.517 5543743.130, -7942426.0...</td>\n    </tr>\n    <tr>\n      <th>658</th>\n      <td>2009-07-14</td>\n      <td>York Pond</td>\n      <td>Berlin</td>\n      <td>Aphanizomenon</td>\n      <td>100,000</td>\n      <td>105.0</td>\n      <td>Warning</td>\n      <td>2009</td>\n      <td>2009-07</td>\n      <td>0.016025</td>\n      <td>0.000010</td>\n      <td>91154789</td>\n      <td>00871018</td>\n      <td>0.087565</td>\n      <td>455.1</td>\n      <td>[L2UBHh]</td>\n      <td>[Lake]</td>\n      <td>23.055085</td>\n      <td>202409CSw{C1C8CD5D-99E9-48D3-A9BA-33211910441A...</td>\n      <td>POLYGON ((-7942431.517 5543743.130, -7942426.0...</td>\n    </tr>\n  </tbody>\n</table>\n<p>659 rows × 20 columns</p>\n</div>"
     },
     "execution_count": 34,
     "metadata": {},
     "output_type": "execute_result"
    }
   ],
   "source": [
    "aggregated_bloom_data"
   ],
   "metadata": {
    "collapsed": false,
    "ExecuteTime": {
     "end_time": "2024-11-30T19:24:31.565774Z",
     "start_time": "2024-11-30T19:24:31.532266Z"
    }
   },
   "id": "513137371644123e",
   "execution_count": 34
  },
  {
   "cell_type": "code",
   "outputs": [
    {
     "name": "stdout",
     "output_type": "stream",
     "text": [
      "geometry\n"
     ]
    }
   ],
   "source": [
    "# Check the data type of the geometry column\n",
    "print(aggregated_bloom_data['buffer'].dtype)\n"
   ],
   "metadata": {
    "collapsed": false,
    "ExecuteTime": {
     "end_time": "2024-11-30T19:25:04.740781800Z",
     "start_time": "2024-11-30T19:25:04.710195900Z"
    }
   },
   "id": "c4ea261996b1a510",
   "execution_count": 35
  },
  {
   "cell_type": "code",
   "outputs": [
    {
     "name": "stdout",
     "output_type": "stream",
     "text": [
      "[<class 'shapely.geometry.polygon.Polygon'>, <class 'shapely.geometry.polygon.Polygon'>, <class 'shapely.geometry.polygon.Polygon'>, <class 'shapely.geometry.polygon.Polygon'>, <class 'shapely.geometry.polygon.Polygon'>]\n"
     ]
    }
   ],
   "source": [
    "# Check the type of the first few entries in the 'buffer' column\n",
    "print([type(x) for x in aggregated_bloom_data['buffer'].head()])\n"
   ],
   "metadata": {
    "collapsed": false,
    "ExecuteTime": {
     "end_time": "2024-11-30T19:28:32.532242500Z",
     "start_time": "2024-11-30T19:28:32.530734500Z"
    }
   },
   "id": "f201c31c65ec534a",
   "execution_count": 47
  },
  {
   "cell_type": "code",
   "outputs": [
    {
     "ename": "ValueError",
     "evalue": "Invalid field type <class 'numpy.ndarray'>",
     "output_type": "error",
     "traceback": [
      "\u001B[1;31m---------------------------------------------------------------------------\u001B[0m",
      "\u001B[1;31mValueError\u001B[0m                                Traceback (most recent call last)",
      "Cell \u001B[1;32mIn[37], line 1\u001B[0m\n\u001B[1;32m----> 1\u001B[0m aggregated_bloom_data\u001B[38;5;241m.\u001B[39mto_file(\u001B[38;5;124m'\u001B[39m\u001B[38;5;124maggregated_bloom_data_buffer_1km.gpkg\u001B[39m\u001B[38;5;124m'\u001B[39m, driver\u001B[38;5;241m=\u001B[39m\u001B[38;5;124m'\u001B[39m\u001B[38;5;124mGPKG\u001B[39m\u001B[38;5;124m'\u001B[39m)\n",
      "File \u001B[1;32m~\\anaconda3\\Lib\\site-packages\\geopandas\\geodataframe.py:1264\u001B[0m, in \u001B[0;36mGeoDataFrame.to_file\u001B[1;34m(self, filename, driver, schema, index, **kwargs)\u001B[0m\n\u001B[0;32m   1173\u001B[0m \u001B[38;5;250m\u001B[39m\u001B[38;5;124;03m\"\"\"Write the ``GeoDataFrame`` to a file.\u001B[39;00m\n\u001B[0;32m   1174\u001B[0m \n\u001B[0;32m   1175\u001B[0m \u001B[38;5;124;03mBy default, an ESRI shapefile is written, but any OGR data source\u001B[39;00m\n\u001B[1;32m   (...)\u001B[0m\n\u001B[0;32m   1260\u001B[0m \n\u001B[0;32m   1261\u001B[0m \u001B[38;5;124;03m\"\"\"\u001B[39;00m\n\u001B[0;32m   1262\u001B[0m \u001B[38;5;28;01mfrom\u001B[39;00m \u001B[38;5;21;01mgeopandas\u001B[39;00m\u001B[38;5;21;01m.\u001B[39;00m\u001B[38;5;21;01mio\u001B[39;00m\u001B[38;5;21;01m.\u001B[39;00m\u001B[38;5;21;01mfile\u001B[39;00m \u001B[38;5;28;01mimport\u001B[39;00m _to_file\n\u001B[1;32m-> 1264\u001B[0m _to_file(\u001B[38;5;28mself\u001B[39m, filename, driver, schema, index, \u001B[38;5;241m*\u001B[39m\u001B[38;5;241m*\u001B[39mkwargs)\n",
      "File \u001B[1;32m~\\anaconda3\\Lib\\site-packages\\geopandas\\io\\file.py:612\u001B[0m, in \u001B[0;36m_to_file\u001B[1;34m(df, filename, driver, schema, index, mode, crs, engine, **kwargs)\u001B[0m\n\u001B[0;32m    609\u001B[0m     \u001B[38;5;28;01mraise\u001B[39;00m \u001B[38;5;167;01mValueError\u001B[39;00m(\u001B[38;5;124mf\u001B[39m\u001B[38;5;124m\"\u001B[39m\u001B[38;5;124m'\u001B[39m\u001B[38;5;124mmode\u001B[39m\u001B[38;5;124m'\u001B[39m\u001B[38;5;124m should be one of \u001B[39m\u001B[38;5;124m'\u001B[39m\u001B[38;5;124mw\u001B[39m\u001B[38;5;124m'\u001B[39m\u001B[38;5;124m or \u001B[39m\u001B[38;5;124m'\u001B[39m\u001B[38;5;124ma\u001B[39m\u001B[38;5;124m'\u001B[39m\u001B[38;5;124m, got \u001B[39m\u001B[38;5;124m'\u001B[39m\u001B[38;5;132;01m{\u001B[39;00mmode\u001B[38;5;132;01m}\u001B[39;00m\u001B[38;5;124m'\u001B[39m\u001B[38;5;124m instead\u001B[39m\u001B[38;5;124m\"\u001B[39m)\n\u001B[0;32m    611\u001B[0m \u001B[38;5;28;01mif\u001B[39;00m engine \u001B[38;5;241m==\u001B[39m \u001B[38;5;124m\"\u001B[39m\u001B[38;5;124mfiona\u001B[39m\u001B[38;5;124m\"\u001B[39m:\n\u001B[1;32m--> 612\u001B[0m     _to_file_fiona(df, filename, driver, schema, crs, mode, \u001B[38;5;241m*\u001B[39m\u001B[38;5;241m*\u001B[39mkwargs)\n\u001B[0;32m    613\u001B[0m \u001B[38;5;28;01melif\u001B[39;00m engine \u001B[38;5;241m==\u001B[39m \u001B[38;5;124m\"\u001B[39m\u001B[38;5;124mpyogrio\u001B[39m\u001B[38;5;124m\"\u001B[39m:\n\u001B[0;32m    614\u001B[0m     _to_file_pyogrio(df, filename, driver, schema, crs, mode, \u001B[38;5;241m*\u001B[39m\u001B[38;5;241m*\u001B[39mkwargs)\n",
      "File \u001B[1;32m~\\anaconda3\\Lib\\site-packages\\geopandas\\io\\file.py:641\u001B[0m, in \u001B[0;36m_to_file_fiona\u001B[1;34m(df, filename, driver, schema, crs, mode, **kwargs)\u001B[0m\n\u001B[0;32m    637\u001B[0m     crs_wkt \u001B[38;5;241m=\u001B[39m crs\u001B[38;5;241m.\u001B[39mto_wkt(\u001B[38;5;124m\"\u001B[39m\u001B[38;5;124mWKT1_GDAL\u001B[39m\u001B[38;5;124m\"\u001B[39m)\n\u001B[0;32m    638\u001B[0m \u001B[38;5;28;01mwith\u001B[39;00m fiona\u001B[38;5;241m.\u001B[39mopen(\n\u001B[0;32m    639\u001B[0m     filename, mode\u001B[38;5;241m=\u001B[39mmode, driver\u001B[38;5;241m=\u001B[39mdriver, crs_wkt\u001B[38;5;241m=\u001B[39mcrs_wkt, schema\u001B[38;5;241m=\u001B[39mschema, \u001B[38;5;241m*\u001B[39m\u001B[38;5;241m*\u001B[39mkwargs\n\u001B[0;32m    640\u001B[0m ) \u001B[38;5;28;01mas\u001B[39;00m colxn:\n\u001B[1;32m--> 641\u001B[0m     colxn\u001B[38;5;241m.\u001B[39mwriterecords(df\u001B[38;5;241m.\u001B[39miterfeatures())\n",
      "File \u001B[1;32m~\\anaconda3\\Lib\\site-packages\\fiona\\collection.py:558\u001B[0m, in \u001B[0;36mCollection.writerecords\u001B[1;34m(self, records)\u001B[0m\n\u001B[0;32m    556\u001B[0m \u001B[38;5;28;01mif\u001B[39;00m \u001B[38;5;28mself\u001B[39m\u001B[38;5;241m.\u001B[39mmode \u001B[38;5;129;01mnot\u001B[39;00m \u001B[38;5;129;01min\u001B[39;00m (\u001B[38;5;124m\"\u001B[39m\u001B[38;5;124ma\u001B[39m\u001B[38;5;124m\"\u001B[39m, \u001B[38;5;124m\"\u001B[39m\u001B[38;5;124mw\u001B[39m\u001B[38;5;124m\"\u001B[39m):\n\u001B[0;32m    557\u001B[0m     \u001B[38;5;28;01mraise\u001B[39;00m \u001B[38;5;167;01mOSError\u001B[39;00m(\u001B[38;5;124m\"\u001B[39m\u001B[38;5;124mcollection not open for writing\u001B[39m\u001B[38;5;124m\"\u001B[39m)\n\u001B[1;32m--> 558\u001B[0m \u001B[38;5;28mself\u001B[39m\u001B[38;5;241m.\u001B[39msession\u001B[38;5;241m.\u001B[39mwriterecs(records, \u001B[38;5;28mself\u001B[39m)\n\u001B[0;32m    559\u001B[0m \u001B[38;5;28mself\u001B[39m\u001B[38;5;241m.\u001B[39m_len \u001B[38;5;241m=\u001B[39m \u001B[38;5;28mself\u001B[39m\u001B[38;5;241m.\u001B[39msession\u001B[38;5;241m.\u001B[39mget_length()\n\u001B[0;32m    560\u001B[0m \u001B[38;5;28mself\u001B[39m\u001B[38;5;241m.\u001B[39m_bounds \u001B[38;5;241m=\u001B[39m \u001B[38;5;28;01mNone\u001B[39;00m\n",
      "File \u001B[1;32mfiona\\\\ogrext.pyx:1409\u001B[0m, in \u001B[0;36mfiona.ogrext.WritingSession.writerecs\u001B[1;34m()\u001B[0m\n",
      "File \u001B[1;32mfiona\\\\ogrext.pyx:514\u001B[0m, in \u001B[0;36mfiona.ogrext.OGRFeatureBuilder.build\u001B[1;34m()\u001B[0m\n",
      "\u001B[1;31mValueError\u001B[0m: Invalid field type <class 'numpy.ndarray'>"
     ]
    }
   ],
   "source": [
    "aggregated_bloom_data.to_file('aggregated_bloom_data_buffer_1km.gpkg', driver='GPKG')"
   ],
   "metadata": {
    "collapsed": false,
    "ExecuteTime": {
     "end_time": "2024-11-30T19:26:01.061727300Z",
     "start_time": "2024-11-30T19:26:01.015212400Z"
    }
   },
   "id": "e242df6a95d1cb99",
   "execution_count": 37
  },
  {
   "cell_type": "code",
   "outputs": [
    {
     "name": "stdout",
     "output_type": "stream",
     "text": [
      "date_advisory_issued        datetime64[ns]\n",
      "lake                                object\n",
      "town                                object\n",
      "dominant_taxa                       object\n",
      "total_cell_concentration            object\n",
      "advisory_days                      float64\n",
      "notification_type                   object\n",
      "year                                 int64\n",
      "YearMonth                           object\n",
      "Shape_Length                       float64\n",
      "Shape_Area                         float64\n",
      "permanent_identifier                object\n",
      "gnis_id                             object\n",
      "areasqkm                           float64\n",
      "elevation                          float64\n",
      "ATTRIBUTE                           object\n",
      "WETLAND_TYPE                        object\n",
      "ACRES                              float64\n",
      "NWI_ID                              object\n",
      "buffer                            geometry\n",
      "dtype: object\n"
     ]
    }
   ],
   "source": [
    "print(aggregated_bloom_data.dtypes)"
   ],
   "metadata": {
    "collapsed": false,
    "ExecuteTime": {
     "end_time": "2024-11-30T19:26:10.519801700Z",
     "start_time": "2024-11-30T19:26:10.509905100Z"
    }
   },
   "id": "c57260c272e6098d",
   "execution_count": 38
  },
  {
   "cell_type": "code",
   "outputs": [],
   "source": [
    "from shapely.geometry import shape\n",
    "\n",
    "# Convert each entry to a Shapely geometry (if not already)\n",
    "aggregated_bloom_data['buffer'] = aggregated_bloom_data['buffer'].apply(lambda x: shape(x) if isinstance(x, np.ndarray) else x)\n"
   ],
   "metadata": {
    "collapsed": false,
    "ExecuteTime": {
     "end_time": "2024-11-30T19:29:17.600565700Z",
     "start_time": "2024-11-30T19:29:17.583261300Z"
    }
   },
   "id": "51242be63617dec6",
   "execution_count": 48
  },
  {
   "cell_type": "code",
   "outputs": [
    {
     "name": "stdout",
     "output_type": "stream",
     "text": [
      "geometry\n",
      "[<class 'shapely.geometry.polygon.Polygon'>, <class 'shapely.geometry.polygon.Polygon'>, <class 'shapely.geometry.polygon.Polygon'>, <class 'shapely.geometry.polygon.Polygon'>, <class 'shapely.geometry.polygon.Polygon'>]\n"
     ]
    }
   ],
   "source": [
    "# Check the data type of the 'buffer' column\n",
    "print(aggregated_bloom_data['buffer'].dtype)\n",
    "\n",
    "# Check the geometry type for a sample\n",
    "print([type(x) for x in aggregated_bloom_data['buffer'].head()])\n"
   ],
   "metadata": {
    "collapsed": false,
    "ExecuteTime": {
     "end_time": "2024-11-30T19:29:24.088582900Z",
     "start_time": "2024-11-30T19:29:24.081074300Z"
    }
   },
   "id": "a855147ec6cdb57",
   "execution_count": 49
  },
  {
   "cell_type": "code",
   "outputs": [
    {
     "name": "stdout",
     "output_type": "stream",
     "text": [
      "Empty GeoDataFrame\n",
      "Columns: [date_advisory_issued, lake, town, dominant_taxa, total_cell_concentration, advisory_days, notification_type, year, YearMonth, Shape_Length, Shape_Area, permanent_identifier, gnis_id, areasqkm, elevation, ATTRIBUTE, WETLAND_TYPE, ACRES, NWI_ID, buffer]\n",
      "Index: []\n"
     ]
    }
   ],
   "source": [
    "# Check for invalid geometries\n",
    "invalid_geometries = aggregated_bloom_data[~aggregated_bloom_data.is_valid]\n",
    "print(invalid_geometries)\n",
    "\n",
    "# Optionally fix invalid geometries\n",
    "aggregated_bloom_data['buffer'] = aggregated_bloom_data['buffer'].buffer(0)\n"
   ],
   "metadata": {
    "collapsed": false,
    "ExecuteTime": {
     "end_time": "2024-11-30T19:29:34.906568400Z",
     "start_time": "2024-11-30T19:29:34.776911100Z"
    }
   },
   "id": "115f2251c7ac7728",
   "execution_count": 50
  },
  {
   "cell_type": "code",
   "outputs": [],
   "source": [
    "# Save to GeoPackage\n",
    "aggregated_bloom_data = aggregated_bloom_data.set_crs(epsg=3857)\n",
    "aggregated_bloom_data.to_file('Data/aggregated_bloom_data_buffer_1km.gpkg', driver='GPKG')\n"
   ],
   "metadata": {
    "collapsed": false,
    "ExecuteTime": {
     "end_time": "2024-11-30T19:51:28.549088500Z",
     "start_time": "2024-11-30T19:51:28.258652300Z"
    }
   },
   "id": "a89471c44678aae3",
   "execution_count": 64
  },
  {
   "cell_type": "code",
   "outputs": [
    {
     "name": "stdout",
     "output_type": "stream",
     "text": [
      "<class 'geopandas.geodataframe.GeoDataFrame'>\n",
      "RangeIndex: 659 entries, 0 to 658\n",
      "Data columns (total 20 columns):\n",
      " #   Column                    Non-Null Count  Dtype         \n",
      "---  ------                    --------------  -----         \n",
      " 0   date_advisory_issued      659 non-null    datetime64[ns]\n",
      " 1   lake                      659 non-null    object        \n",
      " 2   town                      659 non-null    object        \n",
      " 3   dominant_taxa             506 non-null    object        \n",
      " 4   total_cell_concentration  419 non-null    object        \n",
      " 5   advisory_days             486 non-null    float64       \n",
      " 6   notification_type         659 non-null    object        \n",
      " 7   year                      659 non-null    int64         \n",
      " 8   YearMonth                 659 non-null    object        \n",
      " 9   Shape_Length              617 non-null    float64       \n",
      " 10  Shape_Area                617 non-null    float64       \n",
      " 11  permanent_identifier      617 non-null    object        \n",
      " 12  gnis_id                   617 non-null    object        \n",
      " 13  areasqkm                  617 non-null    float64       \n",
      " 14  elevation                 529 non-null    float64       \n",
      " 15  ATTRIBUTE                 659 non-null    object        \n",
      " 16  WETLAND_TYPE              659 non-null    object        \n",
      " 17  ACRES                     659 non-null    float64       \n",
      " 18  NWI_ID                    659 non-null    object        \n",
      " 19  buffer                    659 non-null    geometry      \n",
      "dtypes: datetime64[ns](1), float64(6), geometry(1), int64(1), object(11)\n",
      "memory usage: 103.1+ KB\n",
      "None\n",
      "  date_advisory_issued                     lake     town  \\\n",
      "0           2019-10-11  Adder Pond/Hopkins Pond  Andover   \n",
      "1           2022-10-06  Adder Pond/Hopkins Pond  Andover   \n",
      "2           2010-05-25               Angle Pond  Sandown   \n",
      "3           2021-08-25               Angle Pond  Sandown   \n",
      "4           2022-09-12               Angle Pond  Sandown   \n",
      "\n",
      "             dominant_taxa total_cell_concentration  advisory_days  \\\n",
      "0  Anabaena/Dolichospermum                3,580,000           41.0   \n",
      "1            Chrysosporum                 3,100,000           43.0   \n",
      "2                 Anabaena                  235,000            9.0   \n",
      "3                     None                     None            NaN   \n",
      "4           Dolichospermum                  138,200            7.0   \n",
      "\n",
      "  notification_type  year YearMonth  Shape_Length  Shape_Area  \\\n",
      "0           Warning  2019   2019-10      0.015388    0.000012   \n",
      "1           Warning  2022   2022-10      0.015388    0.000012   \n",
      "2           Warning  2010   2010-05      0.049024    0.000072   \n",
      "3             Alert  2021   2021-08      0.049024    0.000072   \n",
      "4           Warning  2022   2022-09      0.049024    0.000072   \n",
      "\n",
      "  permanent_identifier   gnis_id  areasqkm  elevation       ATTRIBUTE  \\\n",
      "0            135993959  00865203  0.109221      196.3  [L1ABH, L1UBH]   \n",
      "1            135993959  00865203  0.109221      196.3  [L1ABH, L1UBH]   \n",
      "2            135909961  00865245  0.650459       67.1  [L1UBH, L1ABH]   \n",
      "3            135909961  00865245  0.650459       67.1  [L1UBH, L1ABH]   \n",
      "4            135909961  00865245  0.650459       67.1  [L1UBH, L1ABH]   \n",
      "\n",
      "  WETLAND_TYPE       ACRES                                             NWI_ID  \\\n",
      "0       [Lake]   28.395538  202409CSw{1ADFAE7F-219D-4F46-B4A0-77028F0E126F...   \n",
      "1       [Lake]   28.395538  202409CSw{1ADFAE7F-219D-4F46-B4A0-77028F0E126F...   \n",
      "2       [Lake]  161.385552  202409CSw{37230243-4B9F-4054-B052-039EC1BA33BB...   \n",
      "3       [Lake]  161.385552  202409CSw{37230243-4B9F-4054-B052-039EC1BA33BB...   \n",
      "4       [Lake]  161.385552  202409CSw{37230243-4B9F-4054-B052-039EC1BA33BB...   \n",
      "\n",
      "                                              buffer  \n",
      "0  POLYGON ((-7994994.165 5380215.739, -7994994.1...  \n",
      "1  POLYGON ((-7994994.165 5380215.739, -7994994.1...  \n",
      "2  POLYGON ((-7923107.436 5297419.249, -7923104.0...  \n",
      "3  POLYGON ((-7923107.436 5297419.249, -7923104.0...  \n",
      "4  POLYGON ((-7923107.436 5297419.249, -7923104.0...  \n"
     ]
    }
   ],
   "source": [
    "# Inspect the entire GeoDataFrame structure\n",
    "print(aggregated_bloom_data.info())\n",
    "\n",
    "# Check the first few rows to inspect the data\n",
    "print(aggregated_bloom_data.head())\n"
   ],
   "metadata": {
    "collapsed": false,
    "ExecuteTime": {
     "end_time": "2024-11-30T19:29:59.772178500Z",
     "start_time": "2024-11-30T19:29:59.758644Z"
    }
   },
   "id": "7250d0096048dd06",
   "execution_count": 52
  },
  {
   "cell_type": "code",
   "outputs": [
    {
     "name": "stdout",
     "output_type": "stream",
     "text": [
      "[<class 'shapely.geometry.polygon.Polygon'>, <class 'shapely.geometry.polygon.Polygon'>, <class 'shapely.geometry.polygon.Polygon'>, <class 'shapely.geometry.polygon.Polygon'>, <class 'shapely.geometry.polygon.Polygon'>, <class 'shapely.geometry.polygon.Polygon'>, <class 'shapely.geometry.polygon.Polygon'>, <class 'shapely.geometry.polygon.Polygon'>, <class 'shapely.geometry.polygon.Polygon'>, <class 'shapely.geometry.polygon.Polygon'>, <class 'shapely.geometry.polygon.Polygon'>, <class 'shapely.geometry.polygon.Polygon'>, <class 'shapely.geometry.polygon.Polygon'>, <class 'shapely.geometry.multipolygon.MultiPolygon'>, <class 'shapely.geometry.multipolygon.MultiPolygon'>, <class 'shapely.geometry.multipolygon.MultiPolygon'>, <class 'shapely.geometry.multipolygon.MultiPolygon'>, <class 'shapely.geometry.multipolygon.MultiPolygon'>, <class 'shapely.geometry.polygon.Polygon'>, <class 'shapely.geometry.polygon.Polygon'>]\n"
     ]
    }
   ],
   "source": [
    "# Check the type of each entry in the 'buffer' column\n",
    "types_in_buffer = [type(x) for x in aggregated_bloom_data['buffer']]\n",
    "print(types_in_buffer[:20])  # Print the first 20 types to inspect\n"
   ],
   "metadata": {
    "collapsed": false,
    "ExecuteTime": {
     "end_time": "2024-11-30T19:30:56.134220200Z",
     "start_time": "2024-11-30T19:30:56.126700600Z"
    }
   },
   "id": "632af81b1ca5b4a8",
   "execution_count": 53
  },
  {
   "cell_type": "code",
   "outputs": [
    {
     "name": "stdout",
     "output_type": "stream",
     "text": [
      "Column: date_advisory_issued\n",
      "[<class 'pandas._libs.tslibs.timestamps.Timestamp'>, <class 'pandas._libs.tslibs.timestamps.Timestamp'>, <class 'pandas._libs.tslibs.timestamps.Timestamp'>, <class 'pandas._libs.tslibs.timestamps.Timestamp'>, <class 'pandas._libs.tslibs.timestamps.Timestamp'>]\n",
      "\n",
      "Column: lake\n",
      "[<class 'str'>, <class 'str'>, <class 'str'>, <class 'str'>, <class 'str'>]\n",
      "\n",
      "Column: town\n",
      "[<class 'str'>, <class 'str'>, <class 'str'>, <class 'str'>, <class 'str'>]\n",
      "\n",
      "Column: dominant_taxa\n",
      "[<class 'str'>, <class 'str'>, <class 'str'>, <class 'NoneType'>, <class 'str'>]\n",
      "\n",
      "Column: total_cell_concentration\n",
      "[<class 'str'>, <class 'str'>, <class 'str'>, <class 'NoneType'>, <class 'str'>]\n",
      "\n",
      "Column: advisory_days\n",
      "[<class 'float'>, <class 'float'>, <class 'float'>, <class 'float'>, <class 'float'>]\n",
      "\n",
      "Column: notification_type\n",
      "[<class 'str'>, <class 'str'>, <class 'str'>, <class 'str'>, <class 'str'>]\n",
      "\n",
      "Column: year\n",
      "[<class 'int'>, <class 'int'>, <class 'int'>, <class 'int'>, <class 'int'>]\n",
      "\n",
      "Column: YearMonth\n",
      "[<class 'str'>, <class 'str'>, <class 'str'>, <class 'str'>, <class 'str'>]\n",
      "\n",
      "Column: Shape_Length\n",
      "[<class 'float'>, <class 'float'>, <class 'float'>, <class 'float'>, <class 'float'>]\n",
      "\n",
      "Column: Shape_Area\n",
      "[<class 'float'>, <class 'float'>, <class 'float'>, <class 'float'>, <class 'float'>]\n",
      "\n",
      "Column: permanent_identifier\n",
      "[<class 'str'>, <class 'str'>, <class 'str'>, <class 'str'>, <class 'str'>]\n",
      "\n",
      "Column: gnis_id\n",
      "[<class 'str'>, <class 'str'>, <class 'str'>, <class 'str'>, <class 'str'>]\n",
      "\n",
      "Column: areasqkm\n",
      "[<class 'float'>, <class 'float'>, <class 'float'>, <class 'float'>, <class 'float'>]\n",
      "\n",
      "Column: elevation\n",
      "[<class 'float'>, <class 'float'>, <class 'float'>, <class 'float'>, <class 'float'>]\n",
      "\n",
      "Column: ATTRIBUTE\n",
      "[<class 'numpy.ndarray'>, <class 'numpy.ndarray'>, <class 'numpy.ndarray'>, <class 'numpy.ndarray'>, <class 'numpy.ndarray'>]\n",
      "\n",
      "Column: WETLAND_TYPE\n",
      "[<class 'numpy.ndarray'>, <class 'numpy.ndarray'>, <class 'numpy.ndarray'>, <class 'numpy.ndarray'>, <class 'numpy.ndarray'>]\n",
      "\n",
      "Column: ACRES\n",
      "[<class 'float'>, <class 'float'>, <class 'float'>, <class 'float'>, <class 'float'>]\n",
      "\n",
      "Column: NWI_ID\n",
      "[<class 'str'>, <class 'str'>, <class 'str'>, <class 'str'>, <class 'str'>]\n",
      "\n",
      "Column: buffer\n",
      "[<class 'shapely.geometry.polygon.Polygon'>, <class 'shapely.geometry.polygon.Polygon'>, <class 'shapely.geometry.polygon.Polygon'>, <class 'shapely.geometry.polygon.Polygon'>, <class 'shapely.geometry.polygon.Polygon'>]\n"
     ]
    }
   ],
   "source": [
    "# Check the type of the first entry in each column\n",
    "for column in aggregated_bloom_data.columns:\n",
    "    column_types = [type(x) for x in aggregated_bloom_data[column]]\n",
    "    print(f\"Column: {column}\")\n",
    "    print(column_types[:5])  # Show the type of the first 5 entries in each column\n",
    "    print()\n"
   ],
   "metadata": {
    "collapsed": false,
    "ExecuteTime": {
     "end_time": "2024-11-30T19:31:06.677963600Z",
     "start_time": "2024-11-30T19:31:06.662940200Z"
    }
   },
   "id": "c0b7992375d79045",
   "execution_count": 54
  },
  {
   "cell_type": "code",
   "outputs": [
    {
     "data": {
      "text/plain": "0      [L1ABH, L1UBH]\n1      [L1ABH, L1UBH]\n2      [L1UBH, L1ABH]\n3      [L1UBH, L1ABH]\n4      [L1UBH, L1ABH]\n            ...      \n654           [L1UBH]\n655           [L1UBH]\n656          [L2UBHh]\n657          [L2UBHh]\n658          [L2UBHh]\nName: ATTRIBUTE, Length: 659, dtype: object"
     },
     "execution_count": 55,
     "metadata": {},
     "output_type": "execute_result"
    }
   ],
   "source": [
    "aggregated_bloom_data['ATTRIBUTE']"
   ],
   "metadata": {
    "collapsed": false,
    "ExecuteTime": {
     "end_time": "2024-11-30T19:31:32.854012200Z",
     "start_time": "2024-11-30T19:31:32.843034100Z"
    }
   },
   "id": "7c0f140b2c42bb00",
   "execution_count": 55
  },
  {
   "cell_type": "code",
   "outputs": [],
   "source": [
    "# Assuming the two classification columns are 'classification_1' and 'classification_2'\n",
    "aggregated_bloom_data['ATTRIBUTE'] = aggregated_bloom_data['ATTRIBUTE'].apply(lambda x: ','.join(x) if isinstance(x, np.ndarray) else x)\n",
    "aggregated_bloom_data['WETLAND_TYPE'] = aggregated_bloom_data['WETLAND_TYPE'].apply(lambda x: ','.join(x) if isinstance(x, np.ndarray) else x)\n"
   ],
   "metadata": {
    "collapsed": false,
    "ExecuteTime": {
     "end_time": "2024-11-30T19:34:23.963484100Z",
     "start_time": "2024-11-30T19:34:23.958701700Z"
    }
   },
   "id": "983bf44f9cc6fa78",
   "execution_count": 57
  },
  {
   "cell_type": "code",
   "outputs": [
    {
     "data": {
      "text/plain": "    date_advisory_issued                     lake         town  \\\n0             2019-10-11  Adder Pond/Hopkins Pond      Andover   \n1             2022-10-06  Adder Pond/Hopkins Pond      Andover   \n2             2010-05-25               Angle Pond      Sandown   \n3             2021-08-25               Angle Pond      Sandown   \n4             2022-09-12               Angle Pond      Sandown   \n..                   ...                      ...          ...   \n654           2020-08-09             Winona, Lake  New Hampton   \n655           2023-07-27             Winona, Lake  New Hampton   \n656           2005-08-03                York Pond       Berlin   \n657           2008-07-30                York Pond       Berlin   \n658           2009-07-14                York Pond       Berlin   \n\n               dominant_taxa total_cell_concentration  advisory_days  \\\n0    Anabaena/Dolichospermum                3,580,000           41.0   \n1              Chrysosporum                 3,100,000           43.0   \n2                   Anabaena                  235,000            9.0   \n3                       None                     None            NaN   \n4             Dolichospermum                  138,200            7.0   \n..                       ...                      ...            ...   \n654                     None                     None            NaN   \n655           Dolichospermum                  950,000            7.0   \n656            Aphanizomenon          >70,000 or >50%           48.0   \n657            Aphanizomenon          >70,000 or >50%          124.0   \n658            Aphanizomenon                  100,000          105.0   \n\n    notification_type  year YearMonth  Shape_Length  Shape_Area  \\\n0             Warning  2019   2019-10      0.015388    0.000012   \n1             Warning  2022   2022-10      0.015388    0.000012   \n2             Warning  2010   2010-05      0.049024    0.000072   \n3               Alert  2021   2021-08      0.049024    0.000072   \n4             Warning  2022   2022-09      0.049024    0.000072   \n..                ...   ...       ...           ...         ...   \n654             Alert  2020   2020-08           NaN         NaN   \n655           Warning  2023   2023-07           NaN         NaN   \n656           Warning  2005   2005-08      0.016025    0.000010   \n657           Warning  2008   2008-07      0.016025    0.000010   \n658           Warning  2009   2009-07      0.016025    0.000010   \n\n    permanent_identifier   gnis_id  areasqkm  elevation    ATTRIBUTE  \\\n0              135993959  00865203  0.109221      196.3  L1ABH,L1UBH   \n1              135993959  00865203  0.109221      196.3  L1ABH,L1UBH   \n2              135909961  00865245  0.650459       67.1  L1UBH,L1ABH   \n3              135909961  00865245  0.650459       67.1  L1UBH,L1ABH   \n4              135909961  00865245  0.650459       67.1  L1UBH,L1ABH   \n..                   ...       ...       ...        ...          ...   \n654                 None      None       NaN        NaN        L1UBH   \n655                 None      None       NaN        NaN        L1UBH   \n656             91154789  00871018  0.087565      455.1       L2UBHh   \n657             91154789  00871018  0.087565      455.1       L2UBHh   \n658             91154789  00871018  0.087565      455.1       L2UBHh   \n\n    WETLAND_TYPE       ACRES  \\\n0           Lake   28.395538   \n1           Lake   28.395538   \n2           Lake  161.385552   \n3           Lake  161.385552   \n4           Lake  161.385552   \n..           ...         ...   \n654         Lake  109.462028   \n655         Lake  109.462028   \n656         Lake   23.055085   \n657         Lake   23.055085   \n658         Lake   23.055085   \n\n                                                NWI_ID  \\\n0    202409CSw{1ADFAE7F-219D-4F46-B4A0-77028F0E126F...   \n1    202409CSw{1ADFAE7F-219D-4F46-B4A0-77028F0E126F...   \n2    202409CSw{37230243-4B9F-4054-B052-039EC1BA33BB...   \n3    202409CSw{37230243-4B9F-4054-B052-039EC1BA33BB...   \n4    202409CSw{37230243-4B9F-4054-B052-039EC1BA33BB...   \n..                                                 ...   \n654  202409CSw{E8D14D59-7A54-4039-A53E-D19B726068EC...   \n655  202409CSw{E8D14D59-7A54-4039-A53E-D19B726068EC...   \n656  202409CSw{C1C8CD5D-99E9-48D3-A9BA-33211910441A...   \n657  202409CSw{C1C8CD5D-99E9-48D3-A9BA-33211910441A...   \n658  202409CSw{C1C8CD5D-99E9-48D3-A9BA-33211910441A...   \n\n                                                buffer  \n0    POLYGON ((-7994994.165 5380215.739, -7994994.1...  \n1    POLYGON ((-7994994.165 5380215.739, -7994994.1...  \n2    POLYGON ((-7923107.436 5297419.249, -7923104.0...  \n3    POLYGON ((-7923107.436 5297419.249, -7923104.0...  \n4    POLYGON ((-7923107.436 5297419.249, -7923104.0...  \n..                                                 ...  \n654  POLYGON ((-7966193.193 5415929.044, -7966193.1...  \n655  POLYGON ((-7966193.193 5415929.044, -7966193.1...  \n656  POLYGON ((-7942431.517 5543743.130, -7942426.0...  \n657  POLYGON ((-7942431.517 5543743.130, -7942426.0...  \n658  POLYGON ((-7942431.517 5543743.130, -7942426.0...  \n\n[659 rows x 20 columns]",
      "text/html": "<div>\n<style scoped>\n    .dataframe tbody tr th:only-of-type {\n        vertical-align: middle;\n    }\n\n    .dataframe tbody tr th {\n        vertical-align: top;\n    }\n\n    .dataframe thead th {\n        text-align: right;\n    }\n</style>\n<table border=\"1\" class=\"dataframe\">\n  <thead>\n    <tr style=\"text-align: right;\">\n      <th></th>\n      <th>date_advisory_issued</th>\n      <th>lake</th>\n      <th>town</th>\n      <th>dominant_taxa</th>\n      <th>total_cell_concentration</th>\n      <th>advisory_days</th>\n      <th>notification_type</th>\n      <th>year</th>\n      <th>YearMonth</th>\n      <th>Shape_Length</th>\n      <th>Shape_Area</th>\n      <th>permanent_identifier</th>\n      <th>gnis_id</th>\n      <th>areasqkm</th>\n      <th>elevation</th>\n      <th>ATTRIBUTE</th>\n      <th>WETLAND_TYPE</th>\n      <th>ACRES</th>\n      <th>NWI_ID</th>\n      <th>buffer</th>\n    </tr>\n  </thead>\n  <tbody>\n    <tr>\n      <th>0</th>\n      <td>2019-10-11</td>\n      <td>Adder Pond/Hopkins Pond</td>\n      <td>Andover</td>\n      <td>Anabaena/Dolichospermum</td>\n      <td>3,580,000</td>\n      <td>41.0</td>\n      <td>Warning</td>\n      <td>2019</td>\n      <td>2019-10</td>\n      <td>0.015388</td>\n      <td>0.000012</td>\n      <td>135993959</td>\n      <td>00865203</td>\n      <td>0.109221</td>\n      <td>196.3</td>\n      <td>L1ABH,L1UBH</td>\n      <td>Lake</td>\n      <td>28.395538</td>\n      <td>202409CSw{1ADFAE7F-219D-4F46-B4A0-77028F0E126F...</td>\n      <td>POLYGON ((-7994994.165 5380215.739, -7994994.1...</td>\n    </tr>\n    <tr>\n      <th>1</th>\n      <td>2022-10-06</td>\n      <td>Adder Pond/Hopkins Pond</td>\n      <td>Andover</td>\n      <td>Chrysosporum</td>\n      <td>3,100,000</td>\n      <td>43.0</td>\n      <td>Warning</td>\n      <td>2022</td>\n      <td>2022-10</td>\n      <td>0.015388</td>\n      <td>0.000012</td>\n      <td>135993959</td>\n      <td>00865203</td>\n      <td>0.109221</td>\n      <td>196.3</td>\n      <td>L1ABH,L1UBH</td>\n      <td>Lake</td>\n      <td>28.395538</td>\n      <td>202409CSw{1ADFAE7F-219D-4F46-B4A0-77028F0E126F...</td>\n      <td>POLYGON ((-7994994.165 5380215.739, -7994994.1...</td>\n    </tr>\n    <tr>\n      <th>2</th>\n      <td>2010-05-25</td>\n      <td>Angle Pond</td>\n      <td>Sandown</td>\n      <td>Anabaena</td>\n      <td>235,000</td>\n      <td>9.0</td>\n      <td>Warning</td>\n      <td>2010</td>\n      <td>2010-05</td>\n      <td>0.049024</td>\n      <td>0.000072</td>\n      <td>135909961</td>\n      <td>00865245</td>\n      <td>0.650459</td>\n      <td>67.1</td>\n      <td>L1UBH,L1ABH</td>\n      <td>Lake</td>\n      <td>161.385552</td>\n      <td>202409CSw{37230243-4B9F-4054-B052-039EC1BA33BB...</td>\n      <td>POLYGON ((-7923107.436 5297419.249, -7923104.0...</td>\n    </tr>\n    <tr>\n      <th>3</th>\n      <td>2021-08-25</td>\n      <td>Angle Pond</td>\n      <td>Sandown</td>\n      <td>None</td>\n      <td>None</td>\n      <td>NaN</td>\n      <td>Alert</td>\n      <td>2021</td>\n      <td>2021-08</td>\n      <td>0.049024</td>\n      <td>0.000072</td>\n      <td>135909961</td>\n      <td>00865245</td>\n      <td>0.650459</td>\n      <td>67.1</td>\n      <td>L1UBH,L1ABH</td>\n      <td>Lake</td>\n      <td>161.385552</td>\n      <td>202409CSw{37230243-4B9F-4054-B052-039EC1BA33BB...</td>\n      <td>POLYGON ((-7923107.436 5297419.249, -7923104.0...</td>\n    </tr>\n    <tr>\n      <th>4</th>\n      <td>2022-09-12</td>\n      <td>Angle Pond</td>\n      <td>Sandown</td>\n      <td>Dolichospermum</td>\n      <td>138,200</td>\n      <td>7.0</td>\n      <td>Warning</td>\n      <td>2022</td>\n      <td>2022-09</td>\n      <td>0.049024</td>\n      <td>0.000072</td>\n      <td>135909961</td>\n      <td>00865245</td>\n      <td>0.650459</td>\n      <td>67.1</td>\n      <td>L1UBH,L1ABH</td>\n      <td>Lake</td>\n      <td>161.385552</td>\n      <td>202409CSw{37230243-4B9F-4054-B052-039EC1BA33BB...</td>\n      <td>POLYGON ((-7923107.436 5297419.249, -7923104.0...</td>\n    </tr>\n    <tr>\n      <th>...</th>\n      <td>...</td>\n      <td>...</td>\n      <td>...</td>\n      <td>...</td>\n      <td>...</td>\n      <td>...</td>\n      <td>...</td>\n      <td>...</td>\n      <td>...</td>\n      <td>...</td>\n      <td>...</td>\n      <td>...</td>\n      <td>...</td>\n      <td>...</td>\n      <td>...</td>\n      <td>...</td>\n      <td>...</td>\n      <td>...</td>\n      <td>...</td>\n      <td>...</td>\n    </tr>\n    <tr>\n      <th>654</th>\n      <td>2020-08-09</td>\n      <td>Winona, Lake</td>\n      <td>New Hampton</td>\n      <td>None</td>\n      <td>None</td>\n      <td>NaN</td>\n      <td>Alert</td>\n      <td>2020</td>\n      <td>2020-08</td>\n      <td>NaN</td>\n      <td>NaN</td>\n      <td>None</td>\n      <td>None</td>\n      <td>NaN</td>\n      <td>NaN</td>\n      <td>L1UBH</td>\n      <td>Lake</td>\n      <td>109.462028</td>\n      <td>202409CSw{E8D14D59-7A54-4039-A53E-D19B726068EC...</td>\n      <td>POLYGON ((-7966193.193 5415929.044, -7966193.1...</td>\n    </tr>\n    <tr>\n      <th>655</th>\n      <td>2023-07-27</td>\n      <td>Winona, Lake</td>\n      <td>New Hampton</td>\n      <td>Dolichospermum</td>\n      <td>950,000</td>\n      <td>7.0</td>\n      <td>Warning</td>\n      <td>2023</td>\n      <td>2023-07</td>\n      <td>NaN</td>\n      <td>NaN</td>\n      <td>None</td>\n      <td>None</td>\n      <td>NaN</td>\n      <td>NaN</td>\n      <td>L1UBH</td>\n      <td>Lake</td>\n      <td>109.462028</td>\n      <td>202409CSw{E8D14D59-7A54-4039-A53E-D19B726068EC...</td>\n      <td>POLYGON ((-7966193.193 5415929.044, -7966193.1...</td>\n    </tr>\n    <tr>\n      <th>656</th>\n      <td>2005-08-03</td>\n      <td>York Pond</td>\n      <td>Berlin</td>\n      <td>Aphanizomenon</td>\n      <td>&gt;70,000 or &gt;50%</td>\n      <td>48.0</td>\n      <td>Warning</td>\n      <td>2005</td>\n      <td>2005-08</td>\n      <td>0.016025</td>\n      <td>0.000010</td>\n      <td>91154789</td>\n      <td>00871018</td>\n      <td>0.087565</td>\n      <td>455.1</td>\n      <td>L2UBHh</td>\n      <td>Lake</td>\n      <td>23.055085</td>\n      <td>202409CSw{C1C8CD5D-99E9-48D3-A9BA-33211910441A...</td>\n      <td>POLYGON ((-7942431.517 5543743.130, -7942426.0...</td>\n    </tr>\n    <tr>\n      <th>657</th>\n      <td>2008-07-30</td>\n      <td>York Pond</td>\n      <td>Berlin</td>\n      <td>Aphanizomenon</td>\n      <td>&gt;70,000 or &gt;50%</td>\n      <td>124.0</td>\n      <td>Warning</td>\n      <td>2008</td>\n      <td>2008-07</td>\n      <td>0.016025</td>\n      <td>0.000010</td>\n      <td>91154789</td>\n      <td>00871018</td>\n      <td>0.087565</td>\n      <td>455.1</td>\n      <td>L2UBHh</td>\n      <td>Lake</td>\n      <td>23.055085</td>\n      <td>202409CSw{C1C8CD5D-99E9-48D3-A9BA-33211910441A...</td>\n      <td>POLYGON ((-7942431.517 5543743.130, -7942426.0...</td>\n    </tr>\n    <tr>\n      <th>658</th>\n      <td>2009-07-14</td>\n      <td>York Pond</td>\n      <td>Berlin</td>\n      <td>Aphanizomenon</td>\n      <td>100,000</td>\n      <td>105.0</td>\n      <td>Warning</td>\n      <td>2009</td>\n      <td>2009-07</td>\n      <td>0.016025</td>\n      <td>0.000010</td>\n      <td>91154789</td>\n      <td>00871018</td>\n      <td>0.087565</td>\n      <td>455.1</td>\n      <td>L2UBHh</td>\n      <td>Lake</td>\n      <td>23.055085</td>\n      <td>202409CSw{C1C8CD5D-99E9-48D3-A9BA-33211910441A...</td>\n      <td>POLYGON ((-7942431.517 5543743.130, -7942426.0...</td>\n    </tr>\n  </tbody>\n</table>\n<p>659 rows × 20 columns</p>\n</div>"
     },
     "execution_count": 63,
     "metadata": {},
     "output_type": "execute_result"
    }
   ],
   "source": [
    "aggregated_bloom_data"
   ],
   "metadata": {
    "collapsed": false,
    "ExecuteTime": {
     "end_time": "2024-11-30T19:50:01.491735Z",
     "start_time": "2024-11-30T19:50:01.466330Z"
    }
   },
   "id": "e80f8f3b207edff1",
   "execution_count": 63
  },
  {
   "cell_type": "code",
   "outputs": [],
   "source": [],
   "metadata": {
    "collapsed": false
   },
   "id": "5d275d75e4c4ce8c"
  }
 ],
 "metadata": {
  "kernelspec": {
   "display_name": "Python 3",
   "language": "python",
   "name": "python3"
  },
  "language_info": {
   "codemirror_mode": {
    "name": "ipython",
    "version": 2
   },
   "file_extension": ".py",
   "mimetype": "text/x-python",
   "name": "python",
   "nbconvert_exporter": "python",
   "pygments_lexer": "ipython2",
   "version": "2.7.6"
  }
 },
 "nbformat": 4,
 "nbformat_minor": 5
}
