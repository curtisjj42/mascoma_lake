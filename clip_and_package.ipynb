{
 "cells": [
  {
   "cell_type": "code",
   "execution_count": 1,
   "id": "initial_id",
   "metadata": {
    "collapsed": true,
    "ExecuteTime": {
     "end_time": "2024-12-02T15:27:22.171829300Z",
     "start_time": "2024-12-02T15:26:21.184118700Z"
    }
   },
   "outputs": [],
   "source": [
    "import pandas as pd\n",
    "import geopandas as gpd\n",
    "\n",
    "straff_bound = gpd.read_file('Data/counties/strafford.geojson')\n",
    "rock_bound = gpd.read_file('Data/counties/rockingham.geojson')\n",
    "\n",
    "impervious = gpd.read_file('Data/lclu-nh/impervious_surfaces.gpkg')"
   ]
  },
  {
   "cell_type": "code",
   "outputs": [],
   "source": [
    "impervious.to_crs(\"EPSG:3857\", inplace=True)\n",
    "impervious['Shape_Area'] = impervious.geometry.area"
   ],
   "metadata": {
    "collapsed": false,
    "ExecuteTime": {
     "end_time": "2024-12-02T15:27:26.438707900Z",
     "start_time": "2024-12-02T15:27:25.243835900Z"
    }
   },
   "id": "3f656c1980bcbe11",
   "execution_count": 2
  },
  {
   "cell_type": "code",
   "outputs": [
    {
     "data": {
      "text/plain": "           FID  IC_2021  IC_2015  Shape_Leng   Shape_Area  \\\n0            0        1        1  273.594673   443.003717   \n1            1        1        1  521.890456  2001.148908   \n2            2        1        1  689.512658  1915.726059   \n3            3        1        1  761.586917   968.436623   \n4            4        1        1  179.637465   222.929543   \n...        ...      ...      ...         ...          ...   \n145563  145563        0        1  149.871807   116.046033   \n145564  145564        0        1  155.492090    27.365605   \n145565  145565        1        1  159.241147   156.403641   \n145566  145566        1        0  211.803521   438.823770   \n145567  145567        1        0  270.181684   387.693232   \n\n                                                 geometry  \n0       POLYGON ((-7883795.699 5332004.395, -7883798.5...  \n1       POLYGON ((-7877837.354 5326645.952, -7877829.9...  \n2       POLYGON ((-7873873.899 5329220.617, -7873878.2...  \n3       POLYGON ((-7867607.065 5325357.988, -7867617.7...  \n4       POLYGON ((-7867839.553 5325149.796, -7867833.3...  \n...                                                   ...  \n145563  POLYGON ((-7902843.362 5335851.679, -7902850.0...  \n145564  POLYGON ((-7902861.184 5335856.862, -7902861.6...  \n145565  POLYGON ((-7902804.307 5324603.109, -7902817.7...  \n145566  POLYGON ((-7904894.985 5344959.170, -7904899.2...  \n145567  POLYGON ((-7904946.357 5344992.743, -7904966.6...  \n\n[145568 rows x 6 columns]",
      "text/html": "<div>\n<style scoped>\n    .dataframe tbody tr th:only-of-type {\n        vertical-align: middle;\n    }\n\n    .dataframe tbody tr th {\n        vertical-align: top;\n    }\n\n    .dataframe thead th {\n        text-align: right;\n    }\n</style>\n<table border=\"1\" class=\"dataframe\">\n  <thead>\n    <tr style=\"text-align: right;\">\n      <th></th>\n      <th>FID</th>\n      <th>IC_2021</th>\n      <th>IC_2015</th>\n      <th>Shape_Leng</th>\n      <th>Shape_Area</th>\n      <th>geometry</th>\n    </tr>\n  </thead>\n  <tbody>\n    <tr>\n      <th>0</th>\n      <td>0</td>\n      <td>1</td>\n      <td>1</td>\n      <td>273.594673</td>\n      <td>443.003717</td>\n      <td>POLYGON ((-7883795.699 5332004.395, -7883798.5...</td>\n    </tr>\n    <tr>\n      <th>1</th>\n      <td>1</td>\n      <td>1</td>\n      <td>1</td>\n      <td>521.890456</td>\n      <td>2001.148908</td>\n      <td>POLYGON ((-7877837.354 5326645.952, -7877829.9...</td>\n    </tr>\n    <tr>\n      <th>2</th>\n      <td>2</td>\n      <td>1</td>\n      <td>1</td>\n      <td>689.512658</td>\n      <td>1915.726059</td>\n      <td>POLYGON ((-7873873.899 5329220.617, -7873878.2...</td>\n    </tr>\n    <tr>\n      <th>3</th>\n      <td>3</td>\n      <td>1</td>\n      <td>1</td>\n      <td>761.586917</td>\n      <td>968.436623</td>\n      <td>POLYGON ((-7867607.065 5325357.988, -7867617.7...</td>\n    </tr>\n    <tr>\n      <th>4</th>\n      <td>4</td>\n      <td>1</td>\n      <td>1</td>\n      <td>179.637465</td>\n      <td>222.929543</td>\n      <td>POLYGON ((-7867839.553 5325149.796, -7867833.3...</td>\n    </tr>\n    <tr>\n      <th>...</th>\n      <td>...</td>\n      <td>...</td>\n      <td>...</td>\n      <td>...</td>\n      <td>...</td>\n      <td>...</td>\n    </tr>\n    <tr>\n      <th>145563</th>\n      <td>145563</td>\n      <td>0</td>\n      <td>1</td>\n      <td>149.871807</td>\n      <td>116.046033</td>\n      <td>POLYGON ((-7902843.362 5335851.679, -7902850.0...</td>\n    </tr>\n    <tr>\n      <th>145564</th>\n      <td>145564</td>\n      <td>0</td>\n      <td>1</td>\n      <td>155.492090</td>\n      <td>27.365605</td>\n      <td>POLYGON ((-7902861.184 5335856.862, -7902861.6...</td>\n    </tr>\n    <tr>\n      <th>145565</th>\n      <td>145565</td>\n      <td>1</td>\n      <td>1</td>\n      <td>159.241147</td>\n      <td>156.403641</td>\n      <td>POLYGON ((-7902804.307 5324603.109, -7902817.7...</td>\n    </tr>\n    <tr>\n      <th>145566</th>\n      <td>145566</td>\n      <td>1</td>\n      <td>0</td>\n      <td>211.803521</td>\n      <td>438.823770</td>\n      <td>POLYGON ((-7904894.985 5344959.170, -7904899.2...</td>\n    </tr>\n    <tr>\n      <th>145567</th>\n      <td>145567</td>\n      <td>1</td>\n      <td>0</td>\n      <td>270.181684</td>\n      <td>387.693232</td>\n      <td>POLYGON ((-7904946.357 5344992.743, -7904966.6...</td>\n    </tr>\n  </tbody>\n</table>\n<p>145568 rows × 6 columns</p>\n</div>"
     },
     "execution_count": 3,
     "metadata": {},
     "output_type": "execute_result"
    }
   ],
   "source": [
    "impervious"
   ],
   "metadata": {
    "collapsed": false,
    "ExecuteTime": {
     "end_time": "2024-12-02T15:21:22.184267200Z",
     "start_time": "2024-12-02T15:21:22.166819300Z"
    }
   },
   "id": "478dc8208a2e6fc7",
   "execution_count": 3
  },
  {
   "cell_type": "code",
   "outputs": [],
   "source": [
    "invalid_geometries = impervious[~impervious.geometry.is_valid]"
   ],
   "metadata": {
    "collapsed": false,
    "ExecuteTime": {
     "end_time": "2024-12-02T15:27:41.019479600Z",
     "start_time": "2024-12-02T15:27:30.088399200Z"
    }
   },
   "id": "d91f287156866dea",
   "execution_count": 3
  },
  {
   "cell_type": "code",
   "outputs": [
    {
     "data": {
      "text/plain": "           FID  IC_2021  IC_2015   Shape_Leng    Shape_Area  \\\n584        584        1        0  1056.958812   2285.327002   \n605        605        1        0  1921.254997   2280.368736   \n612        612        1        0   556.511452   1044.096976   \n772        772        1        0   298.105112    440.121454   \n855        855        1        0  2358.241853   6433.064040   \n...        ...      ...      ...          ...           ...   \n145231  145231        1        1   612.623257    984.535589   \n145327  145327        1        1   561.982033    962.107782   \n145328  145328        1        1   545.811356    941.371558   \n145428  145428        1        1  7947.542352  10843.158762   \n145429  145429        1        1  7947.542352  10843.158762   \n\n                                                 geometry  \n584     POLYGON ((-7885048.314 5330548.692, -7885049.6...  \n605     POLYGON ((-7885806.823 5332212.403, -7885814.8...  \n612     POLYGON ((-7885587.942 5333034.313, -7885556.0...  \n772     POLYGON ((-7889628.555 5338779.565, -7889605.6...  \n855     POLYGON ((-7891289.170 5341804.126, -7891290.8...  \n...                                                   ...  \n145231  POLYGON ((-7915901.741 5371989.189, -7915902.5...  \n145327  POLYGON ((-7919580.483 5311221.998, -7919581.2...  \n145328  POLYGON ((-7919573.821 5311271.634, -7919576.8...  \n145428  POLYGON ((-7860846.003 5310288.283, -7860846.1...  \n145429  POLYGON ((-7860846.003 5310288.283, -7860846.1...  \n\n[388 rows x 6 columns]",
      "text/html": "<div>\n<style scoped>\n    .dataframe tbody tr th:only-of-type {\n        vertical-align: middle;\n    }\n\n    .dataframe tbody tr th {\n        vertical-align: top;\n    }\n\n    .dataframe thead th {\n        text-align: right;\n    }\n</style>\n<table border=\"1\" class=\"dataframe\">\n  <thead>\n    <tr style=\"text-align: right;\">\n      <th></th>\n      <th>FID</th>\n      <th>IC_2021</th>\n      <th>IC_2015</th>\n      <th>Shape_Leng</th>\n      <th>Shape_Area</th>\n      <th>geometry</th>\n    </tr>\n  </thead>\n  <tbody>\n    <tr>\n      <th>584</th>\n      <td>584</td>\n      <td>1</td>\n      <td>0</td>\n      <td>1056.958812</td>\n      <td>2285.327002</td>\n      <td>POLYGON ((-7885048.314 5330548.692, -7885049.6...</td>\n    </tr>\n    <tr>\n      <th>605</th>\n      <td>605</td>\n      <td>1</td>\n      <td>0</td>\n      <td>1921.254997</td>\n      <td>2280.368736</td>\n      <td>POLYGON ((-7885806.823 5332212.403, -7885814.8...</td>\n    </tr>\n    <tr>\n      <th>612</th>\n      <td>612</td>\n      <td>1</td>\n      <td>0</td>\n      <td>556.511452</td>\n      <td>1044.096976</td>\n      <td>POLYGON ((-7885587.942 5333034.313, -7885556.0...</td>\n    </tr>\n    <tr>\n      <th>772</th>\n      <td>772</td>\n      <td>1</td>\n      <td>0</td>\n      <td>298.105112</td>\n      <td>440.121454</td>\n      <td>POLYGON ((-7889628.555 5338779.565, -7889605.6...</td>\n    </tr>\n    <tr>\n      <th>855</th>\n      <td>855</td>\n      <td>1</td>\n      <td>0</td>\n      <td>2358.241853</td>\n      <td>6433.064040</td>\n      <td>POLYGON ((-7891289.170 5341804.126, -7891290.8...</td>\n    </tr>\n    <tr>\n      <th>...</th>\n      <td>...</td>\n      <td>...</td>\n      <td>...</td>\n      <td>...</td>\n      <td>...</td>\n      <td>...</td>\n    </tr>\n    <tr>\n      <th>145231</th>\n      <td>145231</td>\n      <td>1</td>\n      <td>1</td>\n      <td>612.623257</td>\n      <td>984.535589</td>\n      <td>POLYGON ((-7915901.741 5371989.189, -7915902.5...</td>\n    </tr>\n    <tr>\n      <th>145327</th>\n      <td>145327</td>\n      <td>1</td>\n      <td>1</td>\n      <td>561.982033</td>\n      <td>962.107782</td>\n      <td>POLYGON ((-7919580.483 5311221.998, -7919581.2...</td>\n    </tr>\n    <tr>\n      <th>145328</th>\n      <td>145328</td>\n      <td>1</td>\n      <td>1</td>\n      <td>545.811356</td>\n      <td>941.371558</td>\n      <td>POLYGON ((-7919573.821 5311271.634, -7919576.8...</td>\n    </tr>\n    <tr>\n      <th>145428</th>\n      <td>145428</td>\n      <td>1</td>\n      <td>1</td>\n      <td>7947.542352</td>\n      <td>10843.158762</td>\n      <td>POLYGON ((-7860846.003 5310288.283, -7860846.1...</td>\n    </tr>\n    <tr>\n      <th>145429</th>\n      <td>145429</td>\n      <td>1</td>\n      <td>1</td>\n      <td>7947.542352</td>\n      <td>10843.158762</td>\n      <td>POLYGON ((-7860846.003 5310288.283, -7860846.1...</td>\n    </tr>\n  </tbody>\n</table>\n<p>388 rows × 6 columns</p>\n</div>"
     },
     "execution_count": 5,
     "metadata": {},
     "output_type": "execute_result"
    }
   ],
   "source": [
    "invalid_geometries"
   ],
   "metadata": {
    "collapsed": false,
    "ExecuteTime": {
     "end_time": "2024-12-02T15:21:39.979878Z",
     "start_time": "2024-12-02T15:21:39.949501Z"
    }
   },
   "id": "4fb897fa5b0a2126",
   "execution_count": 5
  },
  {
   "cell_type": "code",
   "outputs": [],
   "source": [
    "from shapely.validation import make_valid\n",
    "\n",
    "impervious.loc[~impervious.geometry.is_valid, \"geometry\"] = invalid_geometries.geometry.apply(make_valid)"
   ],
   "metadata": {
    "collapsed": false,
    "ExecuteTime": {
     "end_time": "2024-12-02T15:31:04.919089600Z",
     "start_time": "2024-12-02T15:28:23.331854300Z"
    }
   },
   "id": "e864311bd7750020",
   "execution_count": 4
  },
  {
   "cell_type": "code",
   "outputs": [],
   "source": [
    "invalid_geometries = impervious[~impervious.geometry.is_valid]"
   ],
   "metadata": {
    "collapsed": false,
    "ExecuteTime": {
     "end_time": "2024-12-02T15:31:21.256698400Z",
     "start_time": "2024-12-02T15:31:09.081253800Z"
    }
   },
   "id": "f7ccd773ae7670f0",
   "execution_count": 5
  },
  {
   "cell_type": "code",
   "outputs": [
    {
     "data": {
      "text/plain": "Empty GeoDataFrame\nColumns: [FID, IC_2021, IC_2015, Shape_Leng, Shape_Area, geometry]\nIndex: []",
      "text/html": "<div>\n<style scoped>\n    .dataframe tbody tr th:only-of-type {\n        vertical-align: middle;\n    }\n\n    .dataframe tbody tr th {\n        vertical-align: top;\n    }\n\n    .dataframe thead th {\n        text-align: right;\n    }\n</style>\n<table border=\"1\" class=\"dataframe\">\n  <thead>\n    <tr style=\"text-align: right;\">\n      <th></th>\n      <th>FID</th>\n      <th>IC_2021</th>\n      <th>IC_2015</th>\n      <th>Shape_Leng</th>\n      <th>Shape_Area</th>\n      <th>geometry</th>\n    </tr>\n  </thead>\n  <tbody>\n  </tbody>\n</table>\n</div>"
     },
     "execution_count": 6,
     "metadata": {},
     "output_type": "execute_result"
    }
   ],
   "source": [
    "invalid_geometries"
   ],
   "metadata": {
    "collapsed": false,
    "ExecuteTime": {
     "end_time": "2024-12-02T15:31:24.480319300Z",
     "start_time": "2024-12-02T15:31:24.469301900Z"
    }
   },
   "id": "ac53bdc9d7a796e3",
   "execution_count": 6
  },
  {
   "cell_type": "code",
   "outputs": [],
   "source": [
    "straff_imp = gpd.clip(impervious, straff_bound)\n",
    "rock_imp = gpd.clip(impervious, rock_bound)"
   ],
   "metadata": {
    "collapsed": false,
    "ExecuteTime": {
     "end_time": "2024-12-02T15:32:28.194613Z",
     "start_time": "2024-12-02T15:31:28.679564800Z"
    }
   },
   "id": "eb9e672369064471",
   "execution_count": 7
  },
  {
   "cell_type": "code",
   "outputs": [],
   "source": [
    "straff_imp.to_file('Data/lclu-nh/impervious_strafford.gpkg', driver='GPKG')\n",
    "rock_imp.to_file('Data/lclu-nh/impervious_rockingham.gpkg', driver='GPKG')"
   ],
   "metadata": {
    "collapsed": false,
    "ExecuteTime": {
     "end_time": "2024-12-02T15:40:26.233078400Z",
     "start_time": "2024-12-02T15:40:13.785376600Z"
    }
   },
   "id": "c8adf4670a16f8d7",
   "execution_count": 9
  },
  {
   "cell_type": "code",
   "outputs": [],
   "source": [],
   "metadata": {
    "collapsed": false
   },
   "id": "78b073baa258c2d5"
  }
 ],
 "metadata": {
  "kernelspec": {
   "display_name": "Python 3",
   "language": "python",
   "name": "python3"
  },
  "language_info": {
   "codemirror_mode": {
    "name": "ipython",
    "version": 2
   },
   "file_extension": ".py",
   "mimetype": "text/x-python",
   "name": "python",
   "nbconvert_exporter": "python",
   "pygments_lexer": "ipython2",
   "version": "2.7.6"
  }
 },
 "nbformat": 4,
 "nbformat_minor": 5
}
