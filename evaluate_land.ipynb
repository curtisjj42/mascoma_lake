{
 "cells": [
  {
   "cell_type": "code",
   "execution_count": 3,
   "id": "initial_id",
   "metadata": {
    "collapsed": true,
    "ExecuteTime": {
     "end_time": "2024-12-02T14:12:32.445592200Z",
     "start_time": "2024-12-02T14:11:56.240347500Z"
    }
   },
   "outputs": [],
   "source": [
    "import geopandas as gpd\n",
    "import pandas as pd\n",
    "\n",
    "# Load datasets\n",
    "strafford = gpd.read_file(\"Data/lclu-nh/strafford_combined.geojson\")  # Adjust filename\n",
    "rockingham = gpd.read_file(\"Data/lclu-nh/rockingham_combined.geojson\")"
   ]
  },
  {
   "cell_type": "code",
   "outputs": [],
   "source": [
    "# Define a function to calculate changes in impervious surfaces and wetlands\n",
    "def calculate_land_cover_change(gdf, county_name):\n",
    "    # Ensure the relevant columns exist\n",
    "    if \"Broad_Class\" not in gdf.columns:\n",
    "        raise ValueError(\"Broad_Class column is missing.\")\n",
    "    \n",
    "    # Filter for impervious surfaces and wetlands\n",
    "    impervious = gdf[gdf[\"Broad_Class\"] == \"Impervious Surfaces\"]\n",
    "    wetlands = gdf[gdf[\"Broad_Class\"] == \"Forested/Wetlands\"]\n",
    "    \n",
    "    # Group by year and calculate total area\n",
    "    impervious_area = impervious.groupby(\"Year\")[\"AREA\"].sum()\n",
    "    wetlands_area = wetlands.groupby(\"Year\")[\"AREA\"].sum()\n",
    "    \n",
    "    # Combine into a DataFrame\n",
    "    time_series = pd.DataFrame({\n",
    "        \"Year\": impervious_area.index,\n",
    "        \"Impervious_Surface_Area\": impervious_area.values,\n",
    "        \"Wetlands_Area\": wetlands_area.values,\n",
    "        \"County\": county_name\n",
    "    })\n",
    "    \n",
    "    # Calculate changes between years\n",
    "    time_series[\"Change_in_Impervious_Surface\"] = time_series[\"Impervious_Surface_Area\"].diff()\n",
    "    time_series[\"Change_in_Wetlands\"] = time_series[\"Wetlands_Area\"].diff()\n",
    "    \n",
    "    return time_series"
   ],
   "metadata": {
    "collapsed": false,
    "ExecuteTime": {
     "end_time": "2024-12-02T14:19:25.684320700Z",
     "start_time": "2024-12-02T14:19:25.673758200Z"
    }
   },
   "id": "bfdcf669807cf4c",
   "execution_count": 15
  },
  {
   "cell_type": "code",
   "outputs": [
    {
     "name": "stdout",
     "output_type": "stream",
     "text": [
      "   Year  Impervious_Surface_Area  Wetlands_Area      County  \\\n",
      "0  1962             6.259793e+08   8.207001e+09   Strafford   \n",
      "1  1974             8.790419e+08   8.134225e+09   Strafford   \n",
      "2  1998             1.369023e+09   7.815261e+09   Strafford   \n",
      "3  1962             1.489376e+09   1.539497e+10  Rockingham   \n",
      "4  1974             8.790419e+08   8.134225e+09  Rockingham   \n",
      "5  1998             3.840443e+09   1.354670e+10  Rockingham   \n",
      "\n",
      "   Change_in_Impervious_Surface  Change_in_Wetlands  \n",
      "0                           NaN                 NaN  \n",
      "1                  2.530626e+08       -7.277599e+07  \n",
      "2                  4.899809e+08       -3.189640e+08  \n",
      "3                           NaN                 NaN  \n",
      "4                 -6.103342e+08       -7.260743e+09  \n",
      "5                  2.961401e+09        5.412475e+09  \n"
     ]
    }
   ],
   "source": [
    "# Process each county\n",
    "strafford_time_series = calculate_land_cover_change(strafford, \"Strafford\")\n",
    "rockingham_time_series = calculate_land_cover_change(rockingham, \"Rockingham\")\n",
    "\n",
    "# Combine time series data for both counties\n",
    "combined_time_series = pd.concat([strafford_time_series, rockingham_time_series], ignore_index=True)\n",
    "\n",
    "# Save to CSV\n",
    "combined_time_series.to_csv(\"Data/land_cover_change_time_series.csv\", index=False)\n",
    "\n",
    "# Display the combined time series\n",
    "print(combined_time_series)"
   ],
   "metadata": {
    "collapsed": false,
    "ExecuteTime": {
     "end_time": "2024-12-02T14:19:26.658242300Z",
     "start_time": "2024-12-02T14:19:26.616248400Z"
    }
   },
   "id": "b82f235a2c2105c0",
   "execution_count": 16
  },
  {
   "cell_type": "code",
   "outputs": [
    {
     "data": {
      "text/plain": "   Year  Impervious_Surface_Area  Wetlands_Area      County  \\\n0  1962             6.259793e+08   8.207001e+09   Strafford   \n1  1974             8.790419e+08   8.134225e+09   Strafford   \n2  1998             1.369023e+09   7.815261e+09   Strafford   \n3  1962             1.489376e+09   1.539497e+10  Rockingham   \n4  1974             8.790419e+08   8.134225e+09  Rockingham   \n5  1998             3.840443e+09   1.354670e+10  Rockingham   \n\n   Change_in_Impervious_Surface  Change_in_Wetlands  \n0                           NaN                 NaN  \n1                  2.530626e+08       -7.277599e+07  \n2                  4.899809e+08       -3.189640e+08  \n3                           NaN                 NaN  \n4                 -6.103342e+08       -7.260743e+09  \n5                  2.961401e+09        5.412475e+09  ",
      "text/html": "<div>\n<style scoped>\n    .dataframe tbody tr th:only-of-type {\n        vertical-align: middle;\n    }\n\n    .dataframe tbody tr th {\n        vertical-align: top;\n    }\n\n    .dataframe thead th {\n        text-align: right;\n    }\n</style>\n<table border=\"1\" class=\"dataframe\">\n  <thead>\n    <tr style=\"text-align: right;\">\n      <th></th>\n      <th>Year</th>\n      <th>Impervious_Surface_Area</th>\n      <th>Wetlands_Area</th>\n      <th>County</th>\n      <th>Change_in_Impervious_Surface</th>\n      <th>Change_in_Wetlands</th>\n    </tr>\n  </thead>\n  <tbody>\n    <tr>\n      <th>0</th>\n      <td>1962</td>\n      <td>6.259793e+08</td>\n      <td>8.207001e+09</td>\n      <td>Strafford</td>\n      <td>NaN</td>\n      <td>NaN</td>\n    </tr>\n    <tr>\n      <th>1</th>\n      <td>1974</td>\n      <td>8.790419e+08</td>\n      <td>8.134225e+09</td>\n      <td>Strafford</td>\n      <td>2.530626e+08</td>\n      <td>-7.277599e+07</td>\n    </tr>\n    <tr>\n      <th>2</th>\n      <td>1998</td>\n      <td>1.369023e+09</td>\n      <td>7.815261e+09</td>\n      <td>Strafford</td>\n      <td>4.899809e+08</td>\n      <td>-3.189640e+08</td>\n    </tr>\n    <tr>\n      <th>3</th>\n      <td>1962</td>\n      <td>1.489376e+09</td>\n      <td>1.539497e+10</td>\n      <td>Rockingham</td>\n      <td>NaN</td>\n      <td>NaN</td>\n    </tr>\n    <tr>\n      <th>4</th>\n      <td>1974</td>\n      <td>8.790419e+08</td>\n      <td>8.134225e+09</td>\n      <td>Rockingham</td>\n      <td>-6.103342e+08</td>\n      <td>-7.260743e+09</td>\n    </tr>\n    <tr>\n      <th>5</th>\n      <td>1998</td>\n      <td>3.840443e+09</td>\n      <td>1.354670e+10</td>\n      <td>Rockingham</td>\n      <td>2.961401e+09</td>\n      <td>5.412475e+09</td>\n    </tr>\n  </tbody>\n</table>\n</div>"
     },
     "execution_count": 17,
     "metadata": {},
     "output_type": "execute_result"
    }
   ],
   "source": [
    "combined_time_series"
   ],
   "metadata": {
    "collapsed": false,
    "ExecuteTime": {
     "end_time": "2024-12-02T14:19:28.883979200Z",
     "start_time": "2024-12-02T14:19:28.867967200Z"
    }
   },
   "id": "ac440ea34c8deced",
   "execution_count": 17
  },
  {
   "cell_type": "code",
   "outputs": [],
   "source": [
    "county_map = gpd.read_file(\"Data/counties/tl_2024_us_county.shp\")"
   ],
   "metadata": {
    "collapsed": false,
    "ExecuteTime": {
     "end_time": "2024-12-02T14:41:22.181455400Z",
     "start_time": "2024-12-02T14:41:16.038523900Z"
    }
   },
   "id": "df09362aafa00faa",
   "execution_count": 54
  },
  {
   "cell_type": "code",
   "outputs": [
    {
     "data": {
      "text/plain": "     STATEFP COUNTYFP  COUNTYNS  GEOID         GEOIDFQ       NAME  \\\n0         31      039  00835841  31039  0500000US31039     Cuming   \n1         53      069  01513275  53069  0500000US53069  Wahkiakum   \n2         35      011  00933054  35011  0500000US35011    De Baca   \n3         31      109  00835876  31109  0500000US31109  Lancaster   \n4         31      129  00835886  31129  0500000US31129   Nuckolls   \n...      ...      ...       ...    ...             ...        ...   \n3230      13      123  00351260  13123  0500000US13123     Gilmer   \n3231      27      135  00659513  27135  0500000US27135     Roseau   \n3232      28      089  00695768  28089  0500000US28089    Madison   \n3233      48      227  01383899  48227  0500000US48227     Howard   \n3234      54      099  01550056  54099  0500000US54099      Wayne   \n\n              NAMELSAD LSAD CLASSFP  MTFCC CSAFP CBSAFP METDIVFP FUNCSTAT  \\\n0        Cuming County   06      H1  G4020  None   None     None        A   \n1     Wahkiakum County   06      H1  G4020  None   None     None        A   \n2       De Baca County   06      H1  G4020  None   None     None        A   \n3     Lancaster County   06      H1  G4020   339  30700     None        A   \n4      Nuckolls County   06      H1  G4020  None   None     None        A   \n...                ...  ...     ...    ...   ...    ...      ...      ...   \n3230     Gilmer County   06      H1  G4020  None   None     None        A   \n3231     Roseau County   06      H1  G4020  None   None     None        A   \n3232    Madison County   06      H1  G4020   298  27140     None        A   \n3233     Howard County   06      H1  G4020  None  13700     None        A   \n3234      Wayne County   06      H1  G4020   170  26580     None        A   \n\n           ALAND    AWATER     INTPTLAT      INTPTLON  \\\n0     1477563042  10772508  +41.9158651  -096.7885168   \n1      680980773  61564428  +46.2946377  -123.4244583   \n2     6016818941  29090018  +34.3592729  -104.3686961   \n3     2169269508  22850511  +40.7835474  -096.6886584   \n4     1489645201   1718484  +40.1764918  -098.0468422   \n...          ...       ...          ...           ...   \n3230  1103804462  12337139  +34.6905232  -084.4548113   \n3231  4329782927  16924046  +48.7610683  -095.8215042   \n3232  1849796735  72079469  +32.6343703  -090.0341603   \n3233  2333034781   8846149  +32.3034298  -101.4387208   \n3234  1310547890  15816947  +38.1436416  -082.4226659   \n\n                                               geometry  \n0     POLYGON ((-96.55525 41.82892, -96.55524 41.827...  \n1     POLYGON ((-123.72755 46.26449, -123.72755 46.2...  \n2     POLYGON ((-104.89337 34.08894, -104.89337 34.0...  \n3     POLYGON ((-96.68493 40.52330, -96.69219 40.523...  \n4     POLYGON ((-98.27370 40.11840, -98.27374 40.122...  \n...                                                 ...  \n3230  POLYGON ((-84.30237 34.57832, -84.30329 34.577...  \n3231  POLYGON ((-95.25857 48.88666, -95.25707 48.885...  \n3232  POLYGON ((-90.14883 32.40026, -90.14890 32.400...  \n3233  POLYGON ((-101.18138 32.21252, -101.18138 32.2...  \n3234  POLYGON ((-82.30872 38.28106, -82.30874 38.280...  \n\n[3235 rows x 19 columns]",
      "text/html": "<div>\n<style scoped>\n    .dataframe tbody tr th:only-of-type {\n        vertical-align: middle;\n    }\n\n    .dataframe tbody tr th {\n        vertical-align: top;\n    }\n\n    .dataframe thead th {\n        text-align: right;\n    }\n</style>\n<table border=\"1\" class=\"dataframe\">\n  <thead>\n    <tr style=\"text-align: right;\">\n      <th></th>\n      <th>STATEFP</th>\n      <th>COUNTYFP</th>\n      <th>COUNTYNS</th>\n      <th>GEOID</th>\n      <th>GEOIDFQ</th>\n      <th>NAME</th>\n      <th>NAMELSAD</th>\n      <th>LSAD</th>\n      <th>CLASSFP</th>\n      <th>MTFCC</th>\n      <th>CSAFP</th>\n      <th>CBSAFP</th>\n      <th>METDIVFP</th>\n      <th>FUNCSTAT</th>\n      <th>ALAND</th>\n      <th>AWATER</th>\n      <th>INTPTLAT</th>\n      <th>INTPTLON</th>\n      <th>geometry</th>\n    </tr>\n  </thead>\n  <tbody>\n    <tr>\n      <th>0</th>\n      <td>31</td>\n      <td>039</td>\n      <td>00835841</td>\n      <td>31039</td>\n      <td>0500000US31039</td>\n      <td>Cuming</td>\n      <td>Cuming County</td>\n      <td>06</td>\n      <td>H1</td>\n      <td>G4020</td>\n      <td>None</td>\n      <td>None</td>\n      <td>None</td>\n      <td>A</td>\n      <td>1477563042</td>\n      <td>10772508</td>\n      <td>+41.9158651</td>\n      <td>-096.7885168</td>\n      <td>POLYGON ((-96.55525 41.82892, -96.55524 41.827...</td>\n    </tr>\n    <tr>\n      <th>1</th>\n      <td>53</td>\n      <td>069</td>\n      <td>01513275</td>\n      <td>53069</td>\n      <td>0500000US53069</td>\n      <td>Wahkiakum</td>\n      <td>Wahkiakum County</td>\n      <td>06</td>\n      <td>H1</td>\n      <td>G4020</td>\n      <td>None</td>\n      <td>None</td>\n      <td>None</td>\n      <td>A</td>\n      <td>680980773</td>\n      <td>61564428</td>\n      <td>+46.2946377</td>\n      <td>-123.4244583</td>\n      <td>POLYGON ((-123.72755 46.26449, -123.72755 46.2...</td>\n    </tr>\n    <tr>\n      <th>2</th>\n      <td>35</td>\n      <td>011</td>\n      <td>00933054</td>\n      <td>35011</td>\n      <td>0500000US35011</td>\n      <td>De Baca</td>\n      <td>De Baca County</td>\n      <td>06</td>\n      <td>H1</td>\n      <td>G4020</td>\n      <td>None</td>\n      <td>None</td>\n      <td>None</td>\n      <td>A</td>\n      <td>6016818941</td>\n      <td>29090018</td>\n      <td>+34.3592729</td>\n      <td>-104.3686961</td>\n      <td>POLYGON ((-104.89337 34.08894, -104.89337 34.0...</td>\n    </tr>\n    <tr>\n      <th>3</th>\n      <td>31</td>\n      <td>109</td>\n      <td>00835876</td>\n      <td>31109</td>\n      <td>0500000US31109</td>\n      <td>Lancaster</td>\n      <td>Lancaster County</td>\n      <td>06</td>\n      <td>H1</td>\n      <td>G4020</td>\n      <td>339</td>\n      <td>30700</td>\n      <td>None</td>\n      <td>A</td>\n      <td>2169269508</td>\n      <td>22850511</td>\n      <td>+40.7835474</td>\n      <td>-096.6886584</td>\n      <td>POLYGON ((-96.68493 40.52330, -96.69219 40.523...</td>\n    </tr>\n    <tr>\n      <th>4</th>\n      <td>31</td>\n      <td>129</td>\n      <td>00835886</td>\n      <td>31129</td>\n      <td>0500000US31129</td>\n      <td>Nuckolls</td>\n      <td>Nuckolls County</td>\n      <td>06</td>\n      <td>H1</td>\n      <td>G4020</td>\n      <td>None</td>\n      <td>None</td>\n      <td>None</td>\n      <td>A</td>\n      <td>1489645201</td>\n      <td>1718484</td>\n      <td>+40.1764918</td>\n      <td>-098.0468422</td>\n      <td>POLYGON ((-98.27370 40.11840, -98.27374 40.122...</td>\n    </tr>\n    <tr>\n      <th>...</th>\n      <td>...</td>\n      <td>...</td>\n      <td>...</td>\n      <td>...</td>\n      <td>...</td>\n      <td>...</td>\n      <td>...</td>\n      <td>...</td>\n      <td>...</td>\n      <td>...</td>\n      <td>...</td>\n      <td>...</td>\n      <td>...</td>\n      <td>...</td>\n      <td>...</td>\n      <td>...</td>\n      <td>...</td>\n      <td>...</td>\n      <td>...</td>\n    </tr>\n    <tr>\n      <th>3230</th>\n      <td>13</td>\n      <td>123</td>\n      <td>00351260</td>\n      <td>13123</td>\n      <td>0500000US13123</td>\n      <td>Gilmer</td>\n      <td>Gilmer County</td>\n      <td>06</td>\n      <td>H1</td>\n      <td>G4020</td>\n      <td>None</td>\n      <td>None</td>\n      <td>None</td>\n      <td>A</td>\n      <td>1103804462</td>\n      <td>12337139</td>\n      <td>+34.6905232</td>\n      <td>-084.4548113</td>\n      <td>POLYGON ((-84.30237 34.57832, -84.30329 34.577...</td>\n    </tr>\n    <tr>\n      <th>3231</th>\n      <td>27</td>\n      <td>135</td>\n      <td>00659513</td>\n      <td>27135</td>\n      <td>0500000US27135</td>\n      <td>Roseau</td>\n      <td>Roseau County</td>\n      <td>06</td>\n      <td>H1</td>\n      <td>G4020</td>\n      <td>None</td>\n      <td>None</td>\n      <td>None</td>\n      <td>A</td>\n      <td>4329782927</td>\n      <td>16924046</td>\n      <td>+48.7610683</td>\n      <td>-095.8215042</td>\n      <td>POLYGON ((-95.25857 48.88666, -95.25707 48.885...</td>\n    </tr>\n    <tr>\n      <th>3232</th>\n      <td>28</td>\n      <td>089</td>\n      <td>00695768</td>\n      <td>28089</td>\n      <td>0500000US28089</td>\n      <td>Madison</td>\n      <td>Madison County</td>\n      <td>06</td>\n      <td>H1</td>\n      <td>G4020</td>\n      <td>298</td>\n      <td>27140</td>\n      <td>None</td>\n      <td>A</td>\n      <td>1849796735</td>\n      <td>72079469</td>\n      <td>+32.6343703</td>\n      <td>-090.0341603</td>\n      <td>POLYGON ((-90.14883 32.40026, -90.14890 32.400...</td>\n    </tr>\n    <tr>\n      <th>3233</th>\n      <td>48</td>\n      <td>227</td>\n      <td>01383899</td>\n      <td>48227</td>\n      <td>0500000US48227</td>\n      <td>Howard</td>\n      <td>Howard County</td>\n      <td>06</td>\n      <td>H1</td>\n      <td>G4020</td>\n      <td>None</td>\n      <td>13700</td>\n      <td>None</td>\n      <td>A</td>\n      <td>2333034781</td>\n      <td>8846149</td>\n      <td>+32.3034298</td>\n      <td>-101.4387208</td>\n      <td>POLYGON ((-101.18138 32.21252, -101.18138 32.2...</td>\n    </tr>\n    <tr>\n      <th>3234</th>\n      <td>54</td>\n      <td>099</td>\n      <td>01550056</td>\n      <td>54099</td>\n      <td>0500000US54099</td>\n      <td>Wayne</td>\n      <td>Wayne County</td>\n      <td>06</td>\n      <td>H1</td>\n      <td>G4020</td>\n      <td>170</td>\n      <td>26580</td>\n      <td>None</td>\n      <td>A</td>\n      <td>1310547890</td>\n      <td>15816947</td>\n      <td>+38.1436416</td>\n      <td>-082.4226659</td>\n      <td>POLYGON ((-82.30872 38.28106, -82.30874 38.280...</td>\n    </tr>\n  </tbody>\n</table>\n<p>3235 rows × 19 columns</p>\n</div>"
     },
     "execution_count": 55,
     "metadata": {},
     "output_type": "execute_result"
    }
   ],
   "source": [
    "county_map"
   ],
   "metadata": {
    "collapsed": false,
    "ExecuteTime": {
     "end_time": "2024-12-02T14:41:23.712554Z",
     "start_time": "2024-12-02T14:41:23.648272700Z"
    }
   },
   "id": "4858988e9e8dc19d",
   "execution_count": 55
  },
  {
   "cell_type": "code",
   "outputs": [],
   "source": [
    "straff_bound = county_map[county_map['NAMELSAD'] == 'Strafford County'].copy()\n",
    "rock_bound = county_map[county_map['GEOIDFQ'] == '0500000US33015'].copy()"
   ],
   "metadata": {
    "collapsed": false,
    "ExecuteTime": {
     "end_time": "2024-12-02T14:51:06.289635600Z",
     "start_time": "2024-12-02T14:51:06.268378900Z"
    }
   },
   "id": "bec4c753b4891410",
   "execution_count": 81
  },
  {
   "cell_type": "code",
   "outputs": [],
   "source": [
    "straff_bound.to_crs(\"EPSG:3857\", inplace=True)\n",
    "rock_bound.to_crs(\"EPSG:3857\", inplace=True)"
   ],
   "metadata": {
    "collapsed": false,
    "ExecuteTime": {
     "end_time": "2024-12-02T14:51:32.206765500Z",
     "start_time": "2024-12-02T14:51:32.193473500Z"
    }
   },
   "id": "42324d291cdd3cef",
   "execution_count": 82
  },
  {
   "cell_type": "code",
   "outputs": [],
   "source": [
    "county_bounds = pd.concat([straff_bound, rock_bound])"
   ],
   "metadata": {
    "collapsed": false,
    "ExecuteTime": {
     "end_time": "2024-12-02T14:51:36.707755600Z",
     "start_time": "2024-12-02T14:51:36.698361300Z"
    }
   },
   "id": "ec135ee8c5fdfbfa",
   "execution_count": 83
  },
  {
   "cell_type": "code",
   "outputs": [
    {
     "data": {
      "text/plain": "     STATEFP COUNTYFP  COUNTYNS  GEOID         GEOIDFQ        NAME  \\\n3022      33      017  00873182  33017  0500000US33017   Strafford   \n2019      33      015  00873181  33015  0500000US33015  Rockingham   \n\n               NAMELSAD LSAD CLASSFP  MTFCC CSAFP CBSAFP METDIVFP FUNCSTAT  \\\n3022   Strafford County   06      H1  G4020   148  14460    40484        A   \n2019  Rockingham County   06      H1  G4020   148  14460    40484        A   \n\n           ALAND     AWATER     INTPTLAT      INTPTLON  \\\n3022   951724112   39173382  +43.2932725  -071.0355891   \n2019  1801152748  258528921  +42.9886636  -071.0990801   \n\n                                               geometry  \n3022  POLYGON ((-7885747.271 5349260.527, -7885745.8...  \n2019  POLYGON ((-7903402.208 5291361.246, -7903628.6...  ",
      "text/html": "<div>\n<style scoped>\n    .dataframe tbody tr th:only-of-type {\n        vertical-align: middle;\n    }\n\n    .dataframe tbody tr th {\n        vertical-align: top;\n    }\n\n    .dataframe thead th {\n        text-align: right;\n    }\n</style>\n<table border=\"1\" class=\"dataframe\">\n  <thead>\n    <tr style=\"text-align: right;\">\n      <th></th>\n      <th>STATEFP</th>\n      <th>COUNTYFP</th>\n      <th>COUNTYNS</th>\n      <th>GEOID</th>\n      <th>GEOIDFQ</th>\n      <th>NAME</th>\n      <th>NAMELSAD</th>\n      <th>LSAD</th>\n      <th>CLASSFP</th>\n      <th>MTFCC</th>\n      <th>CSAFP</th>\n      <th>CBSAFP</th>\n      <th>METDIVFP</th>\n      <th>FUNCSTAT</th>\n      <th>ALAND</th>\n      <th>AWATER</th>\n      <th>INTPTLAT</th>\n      <th>INTPTLON</th>\n      <th>geometry</th>\n    </tr>\n  </thead>\n  <tbody>\n    <tr>\n      <th>3022</th>\n      <td>33</td>\n      <td>017</td>\n      <td>00873182</td>\n      <td>33017</td>\n      <td>0500000US33017</td>\n      <td>Strafford</td>\n      <td>Strafford County</td>\n      <td>06</td>\n      <td>H1</td>\n      <td>G4020</td>\n      <td>148</td>\n      <td>14460</td>\n      <td>40484</td>\n      <td>A</td>\n      <td>951724112</td>\n      <td>39173382</td>\n      <td>+43.2932725</td>\n      <td>-071.0355891</td>\n      <td>POLYGON ((-7885747.271 5349260.527, -7885745.8...</td>\n    </tr>\n    <tr>\n      <th>2019</th>\n      <td>33</td>\n      <td>015</td>\n      <td>00873181</td>\n      <td>33015</td>\n      <td>0500000US33015</td>\n      <td>Rockingham</td>\n      <td>Rockingham County</td>\n      <td>06</td>\n      <td>H1</td>\n      <td>G4020</td>\n      <td>148</td>\n      <td>14460</td>\n      <td>40484</td>\n      <td>A</td>\n      <td>1801152748</td>\n      <td>258528921</td>\n      <td>+42.9886636</td>\n      <td>-071.0990801</td>\n      <td>POLYGON ((-7903402.208 5291361.246, -7903628.6...</td>\n    </tr>\n  </tbody>\n</table>\n</div>"
     },
     "execution_count": 84,
     "metadata": {},
     "output_type": "execute_result"
    }
   ],
   "source": [
    "county_bounds"
   ],
   "metadata": {
    "collapsed": false,
    "ExecuteTime": {
     "end_time": "2024-12-02T14:51:37.243656600Z",
     "start_time": "2024-12-02T14:51:37.227892500Z"
    }
   },
   "id": "7ab4636bbff3447d",
   "execution_count": 84
  },
  {
   "cell_type": "code",
   "outputs": [
    {
     "data": {
      "text/plain": "<Axes: >"
     },
     "execution_count": 85,
     "metadata": {},
     "output_type": "execute_result"
    },
    {
     "data": {
      "text/plain": "<Figure size 640x480 with 1 Axes>",
      "image/png": "[encoded data removed]"
     },
     "metadata": {},
     "output_type": "display_data"
    }
   ],
   "source": [
    "county_bounds.plot()"
   ],
   "metadata": {
    "collapsed": false,
    "ExecuteTime": {
     "end_time": "2024-12-02T14:51:38.183311100Z",
     "start_time": "2024-12-02T14:51:38.104142200Z"
    }
   },
   "id": "e424feac2fc98e05",
   "execution_count": 85
  },
  {
   "cell_type": "code",
   "outputs": [],
   "source": [
    "strafford.to_crs(\"EPSG:3857\", inplace=True)\n",
    "rockingham.to_crs(\"EPSG:3857\", inplace=True)"
   ],
   "metadata": {
    "collapsed": false,
    "ExecuteTime": {
     "end_time": "2024-12-02T14:46:54.484771Z",
     "start_time": "2024-12-02T14:46:53.734471600Z"
    }
   },
   "id": "b1e95b1d0f21b191",
   "execution_count": 70
  },
  {
   "cell_type": "code",
   "outputs": [],
   "source": [
    "import geopandas as gpd\n",
    "\n",
    "def clip_and_recalculate_area(gdf, county_border_gdf):\n",
    "    \"\"\"\n",
    "    Clips GeoDataFrames by county borders and recalculates area.\n",
    "    \n",
    "    Args:\n",
    "        land_use_gdfs (list): List of GeoDataFrames for land use data.\n",
    "        county_border_gdf (GeoDataFrame): GeoDataFrame of the county border.\n",
    "        \n",
    "    Returns:\n",
    "        list: List of clipped GeoDataFrames with recalculated area.\n",
    "    \"\"\"\n",
    "    \n",
    "    clipped_gdfs = []\n",
    "    \n",
    "    clipped_gdf = gpd.clip(gdf, county_border_gdf)\n",
    "        \n",
    "    # Recalculate the area (assuming a projected CRS with meters as units)\n",
    "    if clipped_gdf.crs.is_projected:\n",
    "        clipped_gdf[\"AREA\"] = clipped_gdf.geometry.area\n",
    "    else:\n",
    "        print(\"Warning: CRS is not projected. Area may not be in square meters.\")\n",
    "        clipped_gdf[\"AREA\"] = clipped_gdf.geometry.area\n",
    "        \n",
    "        clipped_gdfs.append(clipped_gdf)\n",
    "    \n",
    "    return clipped_gdfs\n"
   ],
   "metadata": {
    "collapsed": false,
    "ExecuteTime": {
     "end_time": "2024-12-02T14:50:08.841342500Z",
     "start_time": "2024-12-02T14:50:08.840249800Z"
    }
   },
   "id": "b14ae9dc51060cdc",
   "execution_count": 75
  },
  {
   "cell_type": "code",
   "outputs": [],
   "source": [
    "# Example usage\n",
    "strafford_clipped_gdfs = clip_and_recalculate_area(strafford, straff_bound)\n",
    "rockingham_clipped_gdfs = clip_and_recalculate_area(rockingham, rock_bound)\n"
   ],
   "metadata": {
    "collapsed": false,
    "ExecuteTime": {
     "end_time": "2024-12-02T14:52:21.495183100Z",
     "start_time": "2024-12-02T14:51:43.697964700Z"
    }
   },
   "id": "aa61883539bec7d1",
   "execution_count": 86
  },
  {
   "cell_type": "code",
   "outputs": [
    {
     "data": {
      "text/plain": "[]"
     },
     "execution_count": 88,
     "metadata": {},
     "output_type": "execute_result"
    }
   ],
   "source": [
    "strafford_clipped_gdfs"
   ],
   "metadata": {
    "collapsed": false,
    "ExecuteTime": {
     "end_time": "2024-12-02T14:52:47.959716200Z",
     "start_time": "2024-12-02T14:52:47.947417800Z"
    }
   },
   "id": "534958eae145806",
   "execution_count": 88
  },
  {
   "cell_type": "code",
   "outputs": [],
   "source": [
    "straff_clip = gpd.clip(strafford, straff_bound)"
   ],
   "metadata": {
    "collapsed": false,
    "ExecuteTime": {
     "end_time": "2024-12-02T14:53:43.443945800Z",
     "start_time": "2024-12-02T14:53:20.620305900Z"
    }
   },
   "id": "57375df8241021",
   "execution_count": 89
  },
  {
   "cell_type": "code",
   "outputs": [
    {
     "data": {
      "text/plain": "               AREA     PERIMETER  GRANITID  LU    Land_Use_Desc  \\\n11101  2.491360e+04    865.829268   1711102  40         Forested   \n37082  2.859410e+04    836.368296   1714274  50            Water   \n37081  1.598686e+04    534.690402   1714273  11      Residential   \n11100  6.952690e+03    381.695898   1711101  70  Idle/other open   \n11099  2.378793e+04    704.956848   1711100  70  Idle/other open   \n...             ...           ...       ...  ..              ...   \n3      1.187903e+06  10679.149304   1700004  40         Forested   \n4      4.827559e+05   5517.817291   1700005  70  Idle/other open   \n22812  3.568844e+04   1037.791227   1700004  70  Idle/other open   \n11105  1.528781e+04    586.265814   1700004  70  Idle/other open   \n1      3.618541e+04    852.400435   1700002  70  Idle/other open   \n\n               Broad_Class  Year  \\\n11101    Forested/Wetlands  1962   \n37082                Other  1998   \n37081  Impervious Surfaces  1998   \n11100                Other  1962   \n11099                Other  1962   \n...                    ...   ...   \n3        Forested/Wetlands  1962   \n4                    Other  1962   \n22812                Other  1998   \n11105                Other  1974   \n1                    Other  1962   \n\n                                                geometry  \n11101  POLYGON ((-7911794.544 5324443.516, -7911743.7...  \n37082  POLYGON ((-7910910.427 5324418.651, -7910898.6...  \n37081  POLYGON ((-7911532.733 5324489.534, -7911537.3...  \n11100  POLYGON ((-7908105.837 5324443.170, -7908096.8...  \n11099  POLYGON ((-7909981.199 5324427.136, -7909991.5...  \n...                                                  ...  \n3      POLYGON ((-7918335.651 5398972.411, -7918342.9...  \n4      POLYGON ((-7918311.029 5398293.148, -7918319.3...  \n22812  POLYGON ((-7918388.778 5398896.440, -7918384.1...  \n11105  POLYGON ((-7918389.106 5398895.972, -7918378.7...  \n1      POLYGON ((-7917915.167 5399124.997, -7917928.1...  \n\n[37083 rows x 8 columns]",
      "text/html": "<div>\n<style scoped>\n    .dataframe tbody tr th:only-of-type {\n        vertical-align: middle;\n    }\n\n    .dataframe tbody tr th {\n        vertical-align: top;\n    }\n\n    .dataframe thead th {\n        text-align: right;\n    }\n</style>\n<table border=\"1\" class=\"dataframe\">\n  <thead>\n    <tr style=\"text-align: right;\">\n      <th></th>\n      <th>AREA</th>\n      <th>PERIMETER</th>\n      <th>GRANITID</th>\n      <th>LU</th>\n      <th>Land_Use_Desc</th>\n      <th>Broad_Class</th>\n      <th>Year</th>\n      <th>geometry</th>\n    </tr>\n  </thead>\n  <tbody>\n    <tr>\n      <th>11101</th>\n      <td>2.491360e+04</td>\n      <td>865.829268</td>\n      <td>1711102</td>\n      <td>40</td>\n      <td>Forested</td>\n      <td>Forested/Wetlands</td>\n      <td>1962</td>\n      <td>POLYGON ((-7911794.544 5324443.516, -7911743.7...</td>\n    </tr>\n    <tr>\n      <th>37082</th>\n      <td>2.859410e+04</td>\n      <td>836.368296</td>\n      <td>1714274</td>\n      <td>50</td>\n      <td>Water</td>\n      <td>Other</td>\n      <td>1998</td>\n      <td>POLYGON ((-7910910.427 5324418.651, -7910898.6...</td>\n    </tr>\n    <tr>\n      <th>37081</th>\n      <td>1.598686e+04</td>\n      <td>534.690402</td>\n      <td>1714273</td>\n      <td>11</td>\n      <td>Residential</td>\n      <td>Impervious Surfaces</td>\n      <td>1998</td>\n      <td>POLYGON ((-7911532.733 5324489.534, -7911537.3...</td>\n    </tr>\n    <tr>\n      <th>11100</th>\n      <td>6.952690e+03</td>\n      <td>381.695898</td>\n      <td>1711101</td>\n      <td>70</td>\n      <td>Idle/other open</td>\n      <td>Other</td>\n      <td>1962</td>\n      <td>POLYGON ((-7908105.837 5324443.170, -7908096.8...</td>\n    </tr>\n    <tr>\n      <th>11099</th>\n      <td>2.378793e+04</td>\n      <td>704.956848</td>\n      <td>1711100</td>\n      <td>70</td>\n      <td>Idle/other open</td>\n      <td>Other</td>\n      <td>1962</td>\n      <td>POLYGON ((-7909981.199 5324427.136, -7909991.5...</td>\n    </tr>\n    <tr>\n      <th>...</th>\n      <td>...</td>\n      <td>...</td>\n      <td>...</td>\n      <td>...</td>\n      <td>...</td>\n      <td>...</td>\n      <td>...</td>\n      <td>...</td>\n    </tr>\n    <tr>\n      <th>3</th>\n      <td>1.187903e+06</td>\n      <td>10679.149304</td>\n      <td>1700004</td>\n      <td>40</td>\n      <td>Forested</td>\n      <td>Forested/Wetlands</td>\n      <td>1962</td>\n      <td>POLYGON ((-7918335.651 5398972.411, -7918342.9...</td>\n    </tr>\n    <tr>\n      <th>4</th>\n      <td>4.827559e+05</td>\n      <td>5517.817291</td>\n      <td>1700005</td>\n      <td>70</td>\n      <td>Idle/other open</td>\n      <td>Other</td>\n      <td>1962</td>\n      <td>POLYGON ((-7918311.029 5398293.148, -7918319.3...</td>\n    </tr>\n    <tr>\n      <th>22812</th>\n      <td>3.568844e+04</td>\n      <td>1037.791227</td>\n      <td>1700004</td>\n      <td>70</td>\n      <td>Idle/other open</td>\n      <td>Other</td>\n      <td>1998</td>\n      <td>POLYGON ((-7918388.778 5398896.440, -7918384.1...</td>\n    </tr>\n    <tr>\n      <th>11105</th>\n      <td>1.528781e+04</td>\n      <td>586.265814</td>\n      <td>1700004</td>\n      <td>70</td>\n      <td>Idle/other open</td>\n      <td>Other</td>\n      <td>1974</td>\n      <td>POLYGON ((-7918389.106 5398895.972, -7918378.7...</td>\n    </tr>\n    <tr>\n      <th>1</th>\n      <td>3.618541e+04</td>\n      <td>852.400435</td>\n      <td>1700002</td>\n      <td>70</td>\n      <td>Idle/other open</td>\n      <td>Other</td>\n      <td>1962</td>\n      <td>POLYGON ((-7917915.167 5399124.997, -7917928.1...</td>\n    </tr>\n  </tbody>\n</table>\n<p>37083 rows × 8 columns</p>\n</div>"
     },
     "execution_count": 92,
     "metadata": {},
     "output_type": "execute_result"
    }
   ],
   "source": [
    "straff_clip"
   ],
   "metadata": {
    "collapsed": false,
    "ExecuteTime": {
     "end_time": "2024-12-02T14:54:06.237300900Z",
     "start_time": "2024-12-02T14:54:06.224763Z"
    }
   },
   "id": "a2ab0cc0c1e7b188",
   "execution_count": 92
  },
  {
   "cell_type": "code",
   "outputs": [],
   "source": [
    "rockingham_clip = gpd.clip(rockingham, rock_bound)"
   ],
   "metadata": {
    "collapsed": false,
    "ExecuteTime": {
     "end_time": "2024-12-02T14:55:11.406744200Z",
     "start_time": "2024-12-02T14:54:56.783651300Z"
    }
   },
   "id": "b1aff4a5a2236137",
   "execution_count": 94
  },
  {
   "cell_type": "code",
   "outputs": [],
   "source": [
    "straff_clip[\"AREA\"] = straff_clip.geometry.area\n",
    "rockingham_clip['AREA'] = rockingham_clip.geometry.area"
   ],
   "metadata": {
    "collapsed": false,
    "ExecuteTime": {
     "end_time": "2024-12-02T14:56:16.510659100Z",
     "start_time": "2024-12-02T14:56:16.476689800Z"
    }
   },
   "id": "3e43f501a919844a",
   "execution_count": 98
  },
  {
   "cell_type": "code",
   "outputs": [
    {
     "name": "stdout",
     "output_type": "stream",
     "text": [
      "   Year  Impervious_Surface_Area  Wetlands_Area      County  \\\n",
      "0  1962             1.097133e+08   1.440518e+09   Strafford   \n",
      "1  1974             1.540588e+08   1.427773e+09   Strafford   \n",
      "2  1998             2.399409e+08   1.371808e+09   Strafford   \n",
      "3  1962             2.584565e+08   2.674384e+09  Rockingham   \n",
      "4  1974             1.751461e+02   7.366226e+03  Rockingham   \n",
      "5  1998             6.661394e+08   2.353924e+09  Rockingham   \n",
      "\n",
      "   Change_in_Impervious_Surface  Change_in_Wetlands  \n",
      "0                           NaN                 NaN  \n",
      "1                  4.434552e+07       -1.274485e+07  \n",
      "2                  8.588210e+07       -5.596555e+07  \n",
      "3                           NaN                 NaN  \n",
      "4                 -2.584563e+08       -2.674377e+09  \n",
      "5                  6.661392e+08        2.353916e+09  \n"
     ]
    }
   ],
   "source": [
    "# Process each county\n",
    "strafford_time_series = calculate_land_cover_change(straff_clip, \"Strafford\")\n",
    "rockingham_time_series = calculate_land_cover_change(rockingham_clip, \"Rockingham\")\n",
    "\n",
    "# Combine time series data for both counties\n",
    "combined_time_series = pd.concat([strafford_time_series, rockingham_time_series], ignore_index=True)\n",
    "\n",
    "# Save to CSV\n",
    "combined_time_series.to_csv(\"Data/land_cover_change_time_series.csv\", index=False)\n",
    "\n",
    "# Display the combined time series\n",
    "print(combined_time_series)"
   ],
   "metadata": {
    "collapsed": false,
    "ExecuteTime": {
     "end_time": "2024-12-02T14:56:49.260046100Z",
     "start_time": "2024-12-02T14:56:49.223533100Z"
    }
   },
   "id": "ba33ecc977e4e256",
   "execution_count": 99
  },
  {
   "cell_type": "code",
   "outputs": [
    {
     "data": {
      "text/plain": "   Year  Impervious_Surface_Area  Wetlands_Area      County  \\\n0  1962             1.097133e+08   1.440518e+09   Strafford   \n1  1974             1.540588e+08   1.427773e+09   Strafford   \n2  1998             2.399409e+08   1.371808e+09   Strafford   \n3  1962             2.584565e+08   2.674384e+09  Rockingham   \n4  1974             1.751461e+02   7.366226e+03  Rockingham   \n5  1998             6.661394e+08   2.353924e+09  Rockingham   \n\n   Change_in_Impervious_Surface  Change_in_Wetlands  \n0                           NaN                 NaN  \n1                  4.434552e+07       -1.274485e+07  \n2                  8.588210e+07       -5.596555e+07  \n3                           NaN                 NaN  \n4                 -2.584563e+08       -2.674377e+09  \n5                  6.661392e+08        2.353916e+09  ",
      "text/html": "<div>\n<style scoped>\n    .dataframe tbody tr th:only-of-type {\n        vertical-align: middle;\n    }\n\n    .dataframe tbody tr th {\n        vertical-align: top;\n    }\n\n    .dataframe thead th {\n        text-align: right;\n    }\n</style>\n<table border=\"1\" class=\"dataframe\">\n  <thead>\n    <tr style=\"text-align: right;\">\n      <th></th>\n      <th>Year</th>\n      <th>Impervious_Surface_Area</th>\n      <th>Wetlands_Area</th>\n      <th>County</th>\n      <th>Change_in_Impervious_Surface</th>\n      <th>Change_in_Wetlands</th>\n    </tr>\n  </thead>\n  <tbody>\n    <tr>\n      <th>0</th>\n      <td>1962</td>\n      <td>1.097133e+08</td>\n      <td>1.440518e+09</td>\n      <td>Strafford</td>\n      <td>NaN</td>\n      <td>NaN</td>\n    </tr>\n    <tr>\n      <th>1</th>\n      <td>1974</td>\n      <td>1.540588e+08</td>\n      <td>1.427773e+09</td>\n      <td>Strafford</td>\n      <td>4.434552e+07</td>\n      <td>-1.274485e+07</td>\n    </tr>\n    <tr>\n      <th>2</th>\n      <td>1998</td>\n      <td>2.399409e+08</td>\n      <td>1.371808e+09</td>\n      <td>Strafford</td>\n      <td>8.588210e+07</td>\n      <td>-5.596555e+07</td>\n    </tr>\n    <tr>\n      <th>3</th>\n      <td>1962</td>\n      <td>2.584565e+08</td>\n      <td>2.674384e+09</td>\n      <td>Rockingham</td>\n      <td>NaN</td>\n      <td>NaN</td>\n    </tr>\n    <tr>\n      <th>4</th>\n      <td>1974</td>\n      <td>1.751461e+02</td>\n      <td>7.366226e+03</td>\n      <td>Rockingham</td>\n      <td>-2.584563e+08</td>\n      <td>-2.674377e+09</td>\n    </tr>\n    <tr>\n      <th>5</th>\n      <td>1998</td>\n      <td>6.661394e+08</td>\n      <td>2.353924e+09</td>\n      <td>Rockingham</td>\n      <td>6.661392e+08</td>\n      <td>2.353916e+09</td>\n    </tr>\n  </tbody>\n</table>\n</div>"
     },
     "execution_count": 100,
     "metadata": {},
     "output_type": "execute_result"
    }
   ],
   "source": [
    "combined_time_series"
   ],
   "metadata": {
    "collapsed": false,
    "ExecuteTime": {
     "end_time": "2024-12-02T14:57:48.533690100Z",
     "start_time": "2024-12-02T14:57:48.529659Z"
    }
   },
   "id": "e224ea548ca0eae3",
   "execution_count": 100
  },
  {
   "cell_type": "code",
   "outputs": [],
   "source": [
    "strafford_time_series.to_csv(\"Data/time-series/strafford.csv\", index=False)\n",
    "rockingham_time_series.to_csv(\"Data/time-series/rockingham.csv\", index=False)"
   ],
   "metadata": {
    "collapsed": false,
    "ExecuteTime": {
     "end_time": "2024-12-02T15:03:45.460218900Z",
     "start_time": "2024-12-02T15:03:45.450104100Z"
    }
   },
   "id": "534607a831659f3a",
   "execution_count": 103
  },
  {
   "cell_type": "code",
   "outputs": [],
   "source": [
    "combined_time_series.to_csv(\"Data/time-series/combined_time_series.csv\", index=False)"
   ],
   "metadata": {
    "collapsed": false,
    "ExecuteTime": {
     "end_time": "2024-12-02T15:03:46.075625100Z",
     "start_time": "2024-12-02T15:03:46.065937Z"
    }
   },
   "id": "9bb75d72275ec552",
   "execution_count": 104
  },
  {
   "cell_type": "code",
   "outputs": [],
   "source": [
    "straff_bound.to_file(\"Data/counties/strafford.gpkg\", driver='GPKG')\n",
    "rock_bound.to_file(\"Data/counties/rockingham.gpkg\", driver='GPKG')"
   ],
   "metadata": {
    "collapsed": false,
    "ExecuteTime": {
     "end_time": "2024-12-02T15:29:00.611937600Z",
     "start_time": "2024-12-02T15:29:00.543215300Z"
    }
   },
   "id": "46f91c230b974667",
   "execution_count": 106
  },
  {
   "cell_type": "code",
   "outputs": [],
   "source": [],
   "metadata": {
    "collapsed": false
   },
   "id": "48290bca46889f10"
  }
 ],
 "metadata": {
  "kernelspec": {
   "display_name": "Python 3",
   "language": "python",
   "name": "python3"
  },
  "language_info": {
   "codemirror_mode": {
    "name": "ipython",
    "version": 2
   },
   "file_extension": ".py",
   "mimetype": "text/x-python",
   "name": "python",
   "nbconvert_exporter": "python",
   "pygments_lexer": "ipython2",
   "version": "2.7.6"
  }
 },
 "nbformat": 4,
 "nbformat_minor": 5
}
